{
 "cells": [
  {
   "cell_type": "code",
   "id": "7671098b",
   "metadata": {
    "ExecuteTime": {
     "end_time": "2025-07-04T14:35:00.357930Z",
     "start_time": "2025-07-04T14:35:00.204805Z"
    }
   },
   "source": [
    "# Importing necessary libraries\n",
    "import numpy as np\n",
    "import pandas as pd\n",
    "import matplotlib.pyplot as plt\n",
    "import seaborn as sns\n",
    "import plotly.express as px"
   ],
   "outputs": [],
   "execution_count": 3
  },
  {
   "cell_type": "code",
   "id": "1870369d",
   "metadata": {
    "ExecuteTime": {
     "end_time": "2025-07-04T14:35:00.708969Z",
     "start_time": "2025-07-04T14:35:00.440956Z"
    }
   },
   "source": [
    "# Load the dataset\n",
    "df = pd.read_csv(r'data\\data.csv')"
   ],
   "outputs": [],
   "execution_count": 4
  },
  {
   "cell_type": "code",
   "id": "019cc366",
   "metadata": {
    "ExecuteTime": {
     "end_time": "2025-07-04T14:35:00.875950Z",
     "start_time": "2025-07-04T14:35:00.861988Z"
    }
   },
   "source": [
    "# checking the shape of the dataset\n",
    "print('Shape of the data: ',df.shape)"
   ],
   "outputs": [
    {
     "name": "stdout",
     "output_type": "stream",
     "text": [
      "Shape of the data:  (12636, 30)\n"
     ]
    }
   ],
   "execution_count": 5
  },
  {
   "cell_type": "code",
   "id": "e6cc01b8",
   "metadata": {
    "ExecuteTime": {
     "end_time": "2025-07-04T14:35:01.426571Z",
     "start_time": "2025-07-04T14:35:01.346572Z"
    }
   },
   "source": [
    "# A view of the dataset \n",
    "df.head()"
   ],
   "outputs": [
    {
     "data": {
      "text/plain": [
       "  Opened Date  Case Number  Parent Case Number Case Market  Country  \\\n",
       "0  05/01/2024   46099750.0                 0.0     Nigeria  Nigeria   \n",
       "1  07/01/2024   46112301.0                 0.0     Nigeria  Nigeria   \n",
       "2  05/01/2024   46099419.0                 0.0     Nigeria  Nigeria   \n",
       "3  07/01/2024   46112281.0                 0.0     Nigeria  Nigeria   \n",
       "4  05/01/2024   46098960.0                 0.0     Nigeria  Nigeria   \n",
       "\n",
       "       Product: Brand     L0 Product Category L1 Product Category  \\\n",
       "0            Close Up  Beauty & Personal Care       Personal Care   \n",
       "1  Unilever Corporate                     NaN                 NaN   \n",
       "2           Pepsodent  Beauty & Personal Care       Personal Care   \n",
       "3  Unilever Corporate                     NaN                 NaN   \n",
       "4  Unilever Corporate                     NaN                 NaN   \n",
       "\n",
       "  L2 Product Category L3 Product Category  ...  \\\n",
       "0           Oral Care          Toothpaste  ...   \n",
       "1                 NaN                 NaN  ...   \n",
       "2           Oral Care          Toothpaste  ...   \n",
       "3                 NaN                 NaN  ...   \n",
       "4                 NaN                 NaN  ...   \n",
       "\n",
       "                            Reason L4 desc  \\\n",
       "0             Query on product performance   \n",
       "1                         Consumer Hang Up   \n",
       "2                Likes product performance   \n",
       "3                         Consumer Hang Up   \n",
       "4  Query on other marketing Communications   \n",
       "\n",
       "                                      Reason L5 desc Production Code  \\\n",
       "0                     Query on product effectiveness             NaN   \n",
       "1  Consumer contact terminated / hoax / non deliv...             NaN   \n",
       "2                          Likes product performance             NaN   \n",
       "3  Consumer contact terminated / hoax / non deliv...             NaN   \n",
       "4                            General Query / request             NaN   \n",
       "\n",
       "                                             Subject  \\\n",
       "0    Query on Closeup Anti Bacterial Zinc Toothpaste   \n",
       "1                                               SPAM   \n",
       "2  Appreciation of Pepsodent Cavity Fighter Tooth...   \n",
       "3                                               SPAM   \n",
       "4  [External] - URGENT- EMPLOYMENT VERIFICATION- ...   \n",
       "\n",
       "                                         Description               Status  \\\n",
       "0  I like Closeup Anti Bacterial Zinc Toothpaste ...               Closed   \n",
       "1                                               SPAM               Closed   \n",
       "2  I like Pepsodent Cavity Fighter Toothpaste bec...               Closed   \n",
       "3                                               SPAM               Closed   \n",
       "4  To: HR/Payroll Please find attached a copy of ...  Closed as Duplicate   \n",
       "\n",
       "   Store Store Location Case Origin               Case Owner  \n",
       "0    NaN            NaN       Phone  Chinedu Francis Onochie  \n",
       "1    NaN            NaN       Email        CEC Nigeria Queue  \n",
       "2    NaN            NaN       Phone  Chinedu Francis Onochie  \n",
       "3    NaN            NaN       Email        CEC Nigeria Queue  \n",
       "4    NaN            NaN       Email  Chinedu Francis Onochie  \n",
       "\n",
       "[5 rows x 30 columns]"
      ],
      "text/html": [
       "<div>\n",
       "<style scoped>\n",
       "    .dataframe tbody tr th:only-of-type {\n",
       "        vertical-align: middle;\n",
       "    }\n",
       "\n",
       "    .dataframe tbody tr th {\n",
       "        vertical-align: top;\n",
       "    }\n",
       "\n",
       "    .dataframe thead th {\n",
       "        text-align: right;\n",
       "    }\n",
       "</style>\n",
       "<table border=\"1\" class=\"dataframe\">\n",
       "  <thead>\n",
       "    <tr style=\"text-align: right;\">\n",
       "      <th></th>\n",
       "      <th>Opened Date</th>\n",
       "      <th>Case Number</th>\n",
       "      <th>Parent Case Number</th>\n",
       "      <th>Case Market</th>\n",
       "      <th>Country</th>\n",
       "      <th>Product: Brand</th>\n",
       "      <th>L0 Product Category</th>\n",
       "      <th>L1 Product Category</th>\n",
       "      <th>L2 Product Category</th>\n",
       "      <th>L3 Product Category</th>\n",
       "      <th>...</th>\n",
       "      <th>Reason L4 desc</th>\n",
       "      <th>Reason L5 desc</th>\n",
       "      <th>Production Code</th>\n",
       "      <th>Subject</th>\n",
       "      <th>Description</th>\n",
       "      <th>Status</th>\n",
       "      <th>Store</th>\n",
       "      <th>Store Location</th>\n",
       "      <th>Case Origin</th>\n",
       "      <th>Case Owner</th>\n",
       "    </tr>\n",
       "  </thead>\n",
       "  <tbody>\n",
       "    <tr>\n",
       "      <th>0</th>\n",
       "      <td>05/01/2024</td>\n",
       "      <td>46099750.0</td>\n",
       "      <td>0.0</td>\n",
       "      <td>Nigeria</td>\n",
       "      <td>Nigeria</td>\n",
       "      <td>Close Up</td>\n",
       "      <td>Beauty &amp; Personal Care</td>\n",
       "      <td>Personal Care</td>\n",
       "      <td>Oral Care</td>\n",
       "      <td>Toothpaste</td>\n",
       "      <td>...</td>\n",
       "      <td>Query on product performance</td>\n",
       "      <td>Query on product effectiveness</td>\n",
       "      <td>NaN</td>\n",
       "      <td>Query on Closeup Anti Bacterial Zinc Toothpaste</td>\n",
       "      <td>I like Closeup Anti Bacterial Zinc Toothpaste ...</td>\n",
       "      <td>Closed</td>\n",
       "      <td>NaN</td>\n",
       "      <td>NaN</td>\n",
       "      <td>Phone</td>\n",
       "      <td>Chinedu Francis Onochie</td>\n",
       "    </tr>\n",
       "    <tr>\n",
       "      <th>1</th>\n",
       "      <td>07/01/2024</td>\n",
       "      <td>46112301.0</td>\n",
       "      <td>0.0</td>\n",
       "      <td>Nigeria</td>\n",
       "      <td>Nigeria</td>\n",
       "      <td>Unilever Corporate</td>\n",
       "      <td>NaN</td>\n",
       "      <td>NaN</td>\n",
       "      <td>NaN</td>\n",
       "      <td>NaN</td>\n",
       "      <td>...</td>\n",
       "      <td>Consumer Hang Up</td>\n",
       "      <td>Consumer contact terminated / hoax / non deliv...</td>\n",
       "      <td>NaN</td>\n",
       "      <td>SPAM</td>\n",
       "      <td>SPAM</td>\n",
       "      <td>Closed</td>\n",
       "      <td>NaN</td>\n",
       "      <td>NaN</td>\n",
       "      <td>Email</td>\n",
       "      <td>CEC Nigeria Queue</td>\n",
       "    </tr>\n",
       "    <tr>\n",
       "      <th>2</th>\n",
       "      <td>05/01/2024</td>\n",
       "      <td>46099419.0</td>\n",
       "      <td>0.0</td>\n",
       "      <td>Nigeria</td>\n",
       "      <td>Nigeria</td>\n",
       "      <td>Pepsodent</td>\n",
       "      <td>Beauty &amp; Personal Care</td>\n",
       "      <td>Personal Care</td>\n",
       "      <td>Oral Care</td>\n",
       "      <td>Toothpaste</td>\n",
       "      <td>...</td>\n",
       "      <td>Likes product performance</td>\n",
       "      <td>Likes product performance</td>\n",
       "      <td>NaN</td>\n",
       "      <td>Appreciation of Pepsodent Cavity Fighter Tooth...</td>\n",
       "      <td>I like Pepsodent Cavity Fighter Toothpaste bec...</td>\n",
       "      <td>Closed</td>\n",
       "      <td>NaN</td>\n",
       "      <td>NaN</td>\n",
       "      <td>Phone</td>\n",
       "      <td>Chinedu Francis Onochie</td>\n",
       "    </tr>\n",
       "    <tr>\n",
       "      <th>3</th>\n",
       "      <td>07/01/2024</td>\n",
       "      <td>46112281.0</td>\n",
       "      <td>0.0</td>\n",
       "      <td>Nigeria</td>\n",
       "      <td>Nigeria</td>\n",
       "      <td>Unilever Corporate</td>\n",
       "      <td>NaN</td>\n",
       "      <td>NaN</td>\n",
       "      <td>NaN</td>\n",
       "      <td>NaN</td>\n",
       "      <td>...</td>\n",
       "      <td>Consumer Hang Up</td>\n",
       "      <td>Consumer contact terminated / hoax / non deliv...</td>\n",
       "      <td>NaN</td>\n",
       "      <td>SPAM</td>\n",
       "      <td>SPAM</td>\n",
       "      <td>Closed</td>\n",
       "      <td>NaN</td>\n",
       "      <td>NaN</td>\n",
       "      <td>Email</td>\n",
       "      <td>CEC Nigeria Queue</td>\n",
       "    </tr>\n",
       "    <tr>\n",
       "      <th>4</th>\n",
       "      <td>05/01/2024</td>\n",
       "      <td>46098960.0</td>\n",
       "      <td>0.0</td>\n",
       "      <td>Nigeria</td>\n",
       "      <td>Nigeria</td>\n",
       "      <td>Unilever Corporate</td>\n",
       "      <td>NaN</td>\n",
       "      <td>NaN</td>\n",
       "      <td>NaN</td>\n",
       "      <td>NaN</td>\n",
       "      <td>...</td>\n",
       "      <td>Query on other marketing Communications</td>\n",
       "      <td>General Query / request</td>\n",
       "      <td>NaN</td>\n",
       "      <td>[External] - URGENT- EMPLOYMENT VERIFICATION- ...</td>\n",
       "      <td>To: HR/Payroll Please find attached a copy of ...</td>\n",
       "      <td>Closed as Duplicate</td>\n",
       "      <td>NaN</td>\n",
       "      <td>NaN</td>\n",
       "      <td>Email</td>\n",
       "      <td>Chinedu Francis Onochie</td>\n",
       "    </tr>\n",
       "  </tbody>\n",
       "</table>\n",
       "<p>5 rows × 30 columns</p>\n",
       "</div>"
      ]
     },
     "execution_count": 6,
     "metadata": {},
     "output_type": "execute_result"
    }
   ],
   "execution_count": 6
  },
  {
   "metadata": {
    "ExecuteTime": {
     "end_time": "2025-07-04T14:35:01.691818Z",
     "start_time": "2025-07-04T14:35:01.676451Z"
    }
   },
   "cell_type": "code",
   "source": [
    "# List of columns\n",
    "df.columns"
   ],
   "id": "d76aee384181181e",
   "outputs": [
    {
     "data": {
      "text/plain": [
       "Index(['Opened Date', 'Case Number', 'Parent Case Number', 'Case Market',\n",
       "       'Country', 'Product: Brand', 'L0 Product Category',\n",
       "       'L1 Product Category', 'L2 Product Category', 'L3 Product Category',\n",
       "       'L4 Product Category', 'L5 Product Category', 'L6 Product Category',\n",
       "       'L7 Product Category', 'Product: Consumer Product Descriptor (no size)',\n",
       "       'Product: CEC_Product Name', 'Product UPC', 'Reason L1 desc',\n",
       "       'Reason L2 desc', 'Reason L3 desc', 'Reason L4 desc', 'Reason L5 desc',\n",
       "       'Production Code', 'Subject', 'Description', 'Status', 'Store',\n",
       "       'Store Location', 'Case Origin', 'Case Owner'],\n",
       "      dtype='object')"
      ]
     },
     "execution_count": 7,
     "metadata": {},
     "output_type": "execute_result"
    }
   ],
   "execution_count": 7
  },
  {
   "metadata": {
    "ExecuteTime": {
     "end_time": "2025-07-04T14:35:02.104552Z",
     "start_time": "2025-07-04T14:35:01.797765Z"
    }
   },
   "cell_type": "code",
   "source": [
    "# Data info check\n",
    "df.info()"
   ],
   "id": "fc5c3963b4d8fc67",
   "outputs": [
    {
     "name": "stdout",
     "output_type": "stream",
     "text": [
      "<class 'pandas.core.frame.DataFrame'>\n",
      "RangeIndex: 12636 entries, 0 to 12635\n",
      "Data columns (total 30 columns):\n",
      " #   Column                                          Non-Null Count  Dtype  \n",
      "---  ------                                          --------------  -----  \n",
      " 0   Opened Date                                     12635 non-null  object \n",
      " 1   Case Number                                     12630 non-null  float64\n",
      " 2   Parent Case Number                              12630 non-null  float64\n",
      " 3   Case Market                                     12630 non-null  object \n",
      " 4   Country                                         12630 non-null  object \n",
      " 5   Product: Brand                                  12630 non-null  object \n",
      " 6   L0 Product Category                             362 non-null    object \n",
      " 7   L1 Product Category                             362 non-null    object \n",
      " 8   L2 Product Category                             362 non-null    object \n",
      " 9   L3 Product Category                             362 non-null    object \n",
      " 10  L4 Product Category                             362 non-null    object \n",
      " 11  L5 Product Category                             362 non-null    object \n",
      " 12  L6 Product Category                             362 non-null    object \n",
      " 13  L7 Product Category                             362 non-null    object \n",
      " 14  Product: Consumer Product Descriptor (no size)  12630 non-null  object \n",
      " 15  Product: CEC_Product Name                       12630 non-null  object \n",
      " 16  Product UPC                                     362 non-null    float64\n",
      " 17  Reason L1 desc                                  12629 non-null  object \n",
      " 18  Reason L2 desc                                  12629 non-null  object \n",
      " 19  Reason L3 desc                                  12629 non-null  object \n",
      " 20  Reason L4 desc                                  12629 non-null  object \n",
      " 21  Reason L5 desc                                  12629 non-null  object \n",
      " 22  Production Code                                 100 non-null    object \n",
      " 23  Subject                                         12630 non-null  object \n",
      " 24  Description                                     12421 non-null  object \n",
      " 25  Status                                          12630 non-null  object \n",
      " 26  Store                                           0 non-null      float64\n",
      " 27  Store Location                                  4 non-null      object \n",
      " 28  Case Origin                                     12630 non-null  object \n",
      " 29  Case Owner                                      12630 non-null  object \n",
      "dtypes: float64(4), object(26)\n",
      "memory usage: 2.9+ MB\n"
     ]
    }
   ],
   "execution_count": 8
  },
  {
   "cell_type": "markdown",
   "id": "ca9098c7",
   "metadata": {},
   "source": "## - Checking for missing values."
  },
  {
   "cell_type": "code",
   "id": "183d2b64",
   "metadata": {
    "ExecuteTime": {
     "end_time": "2025-07-04T14:35:02.300507Z",
     "start_time": "2025-07-04T14:35:02.272657Z"
    }
   },
   "source": [
    "# list of columns in the dataset with missing values and the amount of missing values\n",
    "df.isna().sum()"
   ],
   "outputs": [
    {
     "data": {
      "text/plain": [
       "Opened Date                                           1\n",
       "Case Number                                           6\n",
       "Parent Case Number                                    6\n",
       "Case Market                                           6\n",
       "Country                                               6\n",
       "Product: Brand                                        6\n",
       "L0 Product Category                               12274\n",
       "L1 Product Category                               12274\n",
       "L2 Product Category                               12274\n",
       "L3 Product Category                               12274\n",
       "L4 Product Category                               12274\n",
       "L5 Product Category                               12274\n",
       "L6 Product Category                               12274\n",
       "L7 Product Category                               12274\n",
       "Product: Consumer Product Descriptor (no size)        6\n",
       "Product: CEC_Product Name                             6\n",
       "Product UPC                                       12274\n",
       "Reason L1 desc                                        7\n",
       "Reason L2 desc                                        7\n",
       "Reason L3 desc                                        7\n",
       "Reason L4 desc                                        7\n",
       "Reason L5 desc                                        7\n",
       "Production Code                                   12536\n",
       "Subject                                               6\n",
       "Description                                         215\n",
       "Status                                                6\n",
       "Store                                             12636\n",
       "Store Location                                    12632\n",
       "Case Origin                                           6\n",
       "Case Owner                                            6\n",
       "dtype: int64"
      ]
     },
     "execution_count": 9,
     "metadata": {},
     "output_type": "execute_result"
    }
   ],
   "execution_count": 9
  },
  {
   "cell_type": "code",
   "id": "22a0eda2",
   "metadata": {
    "ExecuteTime": {
     "end_time": "2025-07-04T14:35:02.746995Z",
     "start_time": "2025-07-04T14:35:02.707339Z"
    }
   },
   "source": [
    "# Checking for the amount of columns with missing values\n",
    "missing  = df.isna().columns.value_counts().sum()\n",
    "print('number of columns with missing values:',missing)"
   ],
   "outputs": [
    {
     "name": "stdout",
     "output_type": "stream",
     "text": [
      "number of columns with missing values: 30\n"
     ]
    }
   ],
   "execution_count": 10
  },
  {
   "cell_type": "code",
   "id": "99a7231d",
   "metadata": {
    "ExecuteTime": {
     "end_time": "2025-07-04T14:35:03.790773Z",
     "start_time": "2025-07-04T14:35:03.750526Z"
    }
   },
   "source": [
    "# List of columns with missing values\n",
    "missing_columns = df.isna().columns.tolist()\n",
    "numbered_columns = [f\"{i+1}. {col}\" for i, col in enumerate(missing_columns)]\n",
    "for item in numbered_columns:\n",
    "    print(item)"
   ],
   "outputs": [
    {
     "name": "stdout",
     "output_type": "stream",
     "text": [
      "1. Opened Date\n",
      "2. Case Number\n",
      "3. Parent Case Number\n",
      "4. Case Market\n",
      "5. Country\n",
      "6. Product: Brand\n",
      "7. L0 Product Category\n",
      "8. L1 Product Category\n",
      "9. L2 Product Category\n",
      "10. L3 Product Category\n",
      "11. L4 Product Category\n",
      "12. L5 Product Category\n",
      "13. L6 Product Category\n",
      "14. L7 Product Category\n",
      "15. Product: Consumer Product Descriptor (no size)\n",
      "16. Product: CEC_Product Name\n",
      "17. Product UPC\n",
      "18. Reason L1 desc\n",
      "19. Reason L2 desc\n",
      "20. Reason L3 desc\n",
      "21. Reason L4 desc\n",
      "22. Reason L5 desc\n",
      "23. Production Code\n",
      "24. Subject\n",
      "25. Description\n",
      "26. Status\n",
      "27. Store\n",
      "28. Store Location\n",
      "29. Case Origin\n",
      "30. Case Owner\n"
     ]
    }
   ],
   "execution_count": 11
  },
  {
   "metadata": {},
   "cell_type": "markdown",
   "source": "From this we notice a large amount of missing values,<br/> so we do a quick check on how the columns with the most missing values to see the relevance of the columns.",
   "id": "c8df9348"
  },
  {
   "metadata": {},
   "cell_type": "markdown",
   "source": [
    "# - Lets first check for columns with categorical data<br/>\n",
    "Categorical data is data that can be divided into groups or categories. <br/>\n",
    "This data is of the data type 'object' meaning none numerical"
   ],
   "id": "0ae883d7"
  },
  {
   "cell_type": "code",
   "id": "5163e62c",
   "metadata": {
    "ExecuteTime": {
     "end_time": "2025-07-04T14:35:04.150135Z",
     "start_time": "2025-07-04T14:35:04.128749Z"
    }
   },
   "source": [
    "# Amount of categorical data columns\n",
    "num_categorical_data = df.select_dtypes(include=['object']).columns.value_counts().sum()\n",
    "print('number of categorical data columns:', num_categorical_data)"
   ],
   "outputs": [
    {
     "name": "stdout",
     "output_type": "stream",
     "text": [
      "number of categorical data columns: 26\n"
     ]
    }
   ],
   "execution_count": 12
  },
  {
   "cell_type": "code",
   "id": "5bcd46cc",
   "metadata": {
    "ExecuteTime": {
     "end_time": "2025-07-04T14:35:04.501844Z",
     "start_time": "2025-07-04T14:35:04.487197Z"
    }
   },
   "source": [
    "# The list of categorical columns\n",
    "categorical_columns = df.select_dtypes('object').columns\n",
    "num_columns = [f\"{i+1}. {col}\" for i, col in enumerate(categorical_columns)]\n",
    "for item in num_columns:\n",
    "    print(item)"
   ],
   "outputs": [
    {
     "name": "stdout",
     "output_type": "stream",
     "text": [
      "1. Opened Date\n",
      "2. Case Market\n",
      "3. Country\n",
      "4. Product: Brand\n",
      "5. L0 Product Category\n",
      "6. L1 Product Category\n",
      "7. L2 Product Category\n",
      "8. L3 Product Category\n",
      "9. L4 Product Category\n",
      "10. L5 Product Category\n",
      "11. L6 Product Category\n",
      "12. L7 Product Category\n",
      "13. Product: Consumer Product Descriptor (no size)\n",
      "14. Product: CEC_Product Name\n",
      "15. Reason L1 desc\n",
      "16. Reason L2 desc\n",
      "17. Reason L3 desc\n",
      "18. Reason L4 desc\n",
      "19. Reason L5 desc\n",
      "20. Production Code\n",
      "21. Subject\n",
      "22. Description\n",
      "23. Status\n",
      "24. Store Location\n",
      "25. Case Origin\n",
      "26. Case Owner\n"
     ]
    }
   ],
   "execution_count": 13
  },
  {
   "cell_type": "markdown",
   "id": "402ac8e3",
   "metadata": {},
   "source": "#### Now that we have our categorical columns, lets checking for unique items in each column with more than 7 missing Items to see if they are relevant to our analysis."
  },
  {
   "cell_type": "code",
   "id": "8dc1f97d",
   "metadata": {
    "ExecuteTime": {
     "end_time": "2025-07-04T14:35:04.802559Z",
     "start_time": "2025-07-04T14:35:04.681140Z"
    }
   },
   "source": [
    "# number of unique items in each categorical column\n",
    "cat_data = df[categorical_columns].nunique()\n",
    "print(cat_data)"
   ],
   "outputs": [
    {
     "name": "stdout",
     "output_type": "stream",
     "text": [
      "Opened Date                                        275\n",
      "Case Market                                          1\n",
      "Country                                              1\n",
      "Product: Brand                                      12\n",
      "L0 Product Category                                  3\n",
      "L1 Product Category                                  4\n",
      "L2 Product Category                                  8\n",
      "L3 Product Category                                 10\n",
      "L4 Product Category                                 11\n",
      "L5 Product Category                                 12\n",
      "L6 Product Category                                 13\n",
      "L7 Product Category                                 14\n",
      "Product: Consumer Product Descriptor (no size)      38\n",
      "Product: CEC_Product Name                           53\n",
      "Reason L1 desc                                       5\n",
      "Reason L2 desc                                       5\n",
      "Reason L3 desc                                      18\n",
      "Reason L4 desc                                      51\n",
      "Reason L5 desc                                      59\n",
      "Production Code                                     35\n",
      "Subject                                           1021\n",
      "Description                                       1904\n",
      "Status                                               8\n",
      "Store Location                                       4\n",
      "Case Origin                                          7\n",
      "Case Owner                                          11\n",
      "dtype: int64\n"
     ]
    }
   ],
   "execution_count": 14
  },
  {
   "cell_type": "markdown",
   "id": "2393f49e",
   "metadata": {},
   "source": "Why more than 7, because the have a very wide gap between the amount of missing values  between the categorical columns and this raises concern as we notice from just 5 and 7 missing values there are columns with 1000+ missing values."
  },
  {
   "cell_type": "code",
   "id": "0885d20e",
   "metadata": {
    "ExecuteTime": {
     "end_time": "2025-07-04T14:35:05.048708Z",
     "start_time": "2025-07-04T14:35:04.892874Z"
    }
   },
   "source": [
    "# Unique items in each categorical column\n",
    "for col in categorical_columns:\n",
    "    if df[col].isna().sum() > 7:\n",
    "        print(col)\n",
    "        print('number of missing values: ', df[col].isna().sum())\n",
    "        print('number of unique values: ', df[col].nunique())\n",
    "        print(df[col].unique())\n",
    "        print('------------------')\n",
    "        print()\n",
    "        "
   ],
   "outputs": [
    {
     "name": "stdout",
     "output_type": "stream",
     "text": [
      "L0 Product Category\n",
      "number of missing values:  12274\n",
      "number of unique values:  3\n",
      "['Beauty & Personal Care' nan 'Food & Refreshment' 'Home Care']\n",
      "------------------\n",
      "\n",
      "L1 Product Category\n",
      "number of missing values:  12274\n",
      "number of unique values:  4\n",
      "['Personal Care' nan 'Nutrition' 'Beauty & Wellbeing' 'Home Care']\n",
      "------------------\n",
      "\n",
      "L2 Product Category\n",
      "number of missing values:  12274\n",
      "number of unique values:  8\n",
      "['Oral Care' nan 'Scratch Cooking Aids' 'Skin Care' 'Fabric Cleaning'\n",
      " 'Skin Cleansing' 'Home & Hygiene' 'Other Nutrition'\n",
      " 'Deodorants & Fragrances']\n",
      "------------------\n",
      "\n",
      "L3 Product Category\n",
      "number of missing values:  12274\n",
      "number of unique values:  10\n",
      "['Toothpaste' nan 'Bouillons & Seasonings' 'Hand & Body Care'\n",
      " 'Fabric Cleaning' 'Skin Cleansing' 'Household Cleaning'\n",
      " 'Other Misc Nutrition' 'Toothbrush' 'Dishwash' 'Deodorants']\n",
      "------------------\n",
      "\n",
      "L4 Product Category\n",
      "number of missing values:  12274\n",
      "number of unique values:  11\n",
      "['Freshness Toothpaste' nan 'Essential Toothpaste' 'Bouillons'\n",
      " 'Hand & Body Excl Sun' 'Fabric Solution Wash' 'Body Cleansing'\n",
      " 'Surface Cleaners' 'Other Misc Nutrition' 'Toothbrush Manual'\n",
      " 'Hand Dishwash' 'Deo Roll-Ons']\n",
      "------------------\n",
      "\n",
      "L5 Product Category\n",
      "number of missing values:  12274\n",
      "number of unique values:  12\n",
      "['Freshness Toothpaste' nan 'Essential Toothpaste' 'Bouillon Powder'\n",
      " 'Body Care' 'Main Wash' 'Skin Cleansing Bar' 'Bouillon Cubes'\n",
      " 'Small Surface' 'Other Misc Nutrition' 'Toothbrush Manual' 'HDW Wash'\n",
      " 'Deo Roll-Ons AP']\n",
      "------------------\n",
      "\n",
      "L6 Product Category\n",
      "number of missing values:  12274\n",
      "number of unique values:  13\n",
      "['Freshness Toothpaste' nan 'Essential Toothpaste' 'Bouillon Powder'\n",
      " 'Body Lotions' 'Body Petroleum Jelly' 'Non Matic' 'Skin Cleansing Bar'\n",
      " 'Bouillon Cubes' 'M/P Non-Abrasives' 'Other Misc Nutrition'\n",
      " 'Toothbrush Manual' 'HDW Std Liquid' 'Deo Roll-Ons AP']\n",
      "------------------\n",
      "\n",
      "L7 Product Category\n",
      "number of missing values:  12274\n",
      "number of unique values:  14\n",
      "['Freshness Toothpaste' nan 'Essential Toothpaste' 'Bouillon Powder'\n",
      " 'Body Lotions' 'Body Petroleum Jelly' 'Non Matic Std Powder'\n",
      " 'Skin Cleansing Bar' 'Bouillon Cubes' 'M/P N/Abr Std Liquid'\n",
      " 'Other Misc Nutrition' 'Toothbrush Manual' 'HDW Std Liquid'\n",
      " 'Non Matic Conc Powder' 'Deo Roll-Ons AP']\n",
      "------------------\n",
      "\n",
      "Production Code\n",
      "number of missing values:  12536\n",
      "number of unique values:  35\n",
      "[nan '3175158QB' 'MFD 240522. 12.14 3Ns EXP 240526 BnlN 232131' '[]'\n",
      " '23352' '23395' 'BN-234456' 'Unknown' '32512AV17' 'Lot 04161SA4A'\n",
      " '23-47-42' '[3093CBX]' '233961' 'B074' 'MFD190324 03.51 3NG'\n",
      " '6001087010788' 'Unilever Corporate' '241751340FNG' '68852975'\n",
      " '[13.20 3H6]' '[63938743]' '[02/09HDPE 2023/12/04, 2027/12/04]' 'Nil'\n",
      " 'May4545 fg5 56568 12:00' 'MAY2425 GB4 29230 13:46'\n",
      " 'June2425 GBA29230 13:46' 'New subscriber' '[PR 3024A B0062]' 'May2425'\n",
      " 'Invitation to Collaborate on Marketing and Advertising Services'\n",
      " '[L868]' '[, ]' '[, , ]' 'IDM000272573' '290124EXPO726 A2' '7852']\n",
      "------------------\n",
      "\n",
      "Description\n",
      "number of missing values:  215\n",
      "number of unique values:  1904\n",
      "['I like Closeup Anti Bacterial Zinc Toothpaste and I would like to ask about the effect of Bacterial Zinc in Closeup.'\n",
      " 'SPAM'\n",
      " 'I like Pepsodent Cavity Fighter Toothpaste because it washes my teeth clean and prevents my teeth from decaying'\n",
      " ...\n",
      " 'Dear Esteemed Members Greetings and trust your weekend was great It is 6 days to go and we wish to remind you of the invitation to MAN member-companies to participate in a training course on Health and Safety Practices in Manufacturing Industries scheduled to hold as follows; Date: September 26th - 27th, 2024 Venue: MAN House, 77 Obafemi Awolowo Way, Ikeja, Lagos. Time: 9.00am ? 4.00pm Daily Course Duration: 2 Days Fee per participants: ?150,000.00 Please find attached the letter of invitation and the training synopsis. Please kindly confirm the number of participants on or before Tuesday September 24th, 2024 to aid us plan effectively in logistics arrangements. For further enquiries on the training, please do not hesitate to reach out to us. Thank you. EGBEDI DANIEL EGONE Project Development Associate MANUFACTURERS POWER DEVELOPMENT COMPANY LIMITED First Floor MAN House 77, Awolowo Way, Ikeja Lagos, Nigeria. Mobile Phone +234 814 664 7180 +234 907 499 6559 +234 807 487 4677 IMPORTANT NOTICE: This email and any attachments may contain information that is confidential and privileged. It is intended to be received only by persons entitled to receive the information. If you are not the intended recipient, please delete it from your system and notify the sender. You should not copy it or use it for any purpose nor disclose or distribute its contents to any other person.'\n",
      " 'Dear. Sir/Madam, I greet you especially from Nigeria and hope that you are good? Please there is a supply demand in your line of products and I would like to send you a request for quotation. Kindly send us your brochure or Product catalog with considerable price details. We are seeking to represent foreign companies like manufacturers, suppliers or distributors who wish to have a presence and supply their products in Nigeria through the NIGER DELTA DEVELOPMENT COMMISSION (NDDC) as there is a massive demand for your products supplied by the NDDC. We hope this could be a start for a long-term business relationship with your company. Waiting to hear from you. Thank You Regards Mr. Frank Adele E:Mail.frankadele379@gmail.com<mailto:E%3AMail.frankadele379@gmail.com> Muramound Consultants Ltd 90 Market Road, Aba, Abia State. Nigeria. IMPORTANT NOTICE: This email and any attachments may contain information that is confidential and privileged. It is intended to be received only by persons entitled to receive the information. If you are not the intended recipient, please delete it from your system and notify the sender. You should not copy it or use it for any purpose nor disclose or distribute its contents to any other person.'\n",
      " 'Dear Ma/Sir Please find the attached mail for a proposal for partnership. Thank you IMPORTANT NOTICE: This email and any attachments may contain information that is confidential and privileged. It is intended to be received only by persons entitled to receive the information. If you are not the intended recipient, please delete it from your system and notify the sender. You should not copy it or use it for any purpose nor disclose or distribute its contents to any other person.']\n",
      "------------------\n",
      "\n",
      "Store Location\n",
      "number of missing values:  12632\n",
      "number of unique values:  4\n",
      "[nan 'Ibadan' 'Unknown' 'Kaduna' 'body talk- offline']\n",
      "------------------\n",
      "\n"
     ]
    }
   ],
   "execution_count": 15
  },
  {
   "cell_type": "markdown",
   "id": "7bf7dc79",
   "metadata": {},
   "source": [
    "# - Now lets check for columns with numerical data<br/>\n",
    "Numerical data is data that can be measured and written down with numbers. <br/>"
   ]
  },
  {
   "cell_type": "code",
   "id": "7d3604ae",
   "metadata": {
    "ExecuteTime": {
     "end_time": "2025-07-04T14:35:05.145239Z",
     "start_time": "2025-07-04T14:35:05.131801Z"
    }
   },
   "source": [
    "# Amount of columns with numerical data\n",
    "numerical_columns = df.select_dtypes(include=[np.number]).columns.value_counts().sum()\n",
    "print('number of numerical columns:', numerical_columns)"
   ],
   "outputs": [
    {
     "name": "stdout",
     "output_type": "stream",
     "text": [
      "number of numerical columns: 4\n"
     ]
    }
   ],
   "execution_count": 16
  },
  {
   "cell_type": "code",
   "id": "17fbf1a0",
   "metadata": {
    "ExecuteTime": {
     "end_time": "2025-07-04T14:35:05.493870Z",
     "start_time": "2025-07-04T14:35:05.299584Z"
    }
   },
   "source": [
    "# The list of numerical columns\n",
    "numerical_column = df.select_dtypes(include=[np.number]).columns.tolist()\n",
    "\n",
    "# Format and print the numerical column names\n",
    "num_columns = [f\"{i+1}. {col}\" for i, col in enumerate(numerical_column)]\n",
    "for item in num_columns:\n",
    "    print(item)"
   ],
   "outputs": [
    {
     "name": "stdout",
     "output_type": "stream",
     "text": [
      "1. Case Number\n",
      "2. Parent Case Number\n",
      "3. Product UPC\n",
      "4. Store\n"
     ]
    }
   ],
   "execution_count": 17
  },
  {
   "cell_type": "markdown",
   "id": "b1e81e8b",
   "metadata": {},
   "source": [
    "###  Now we have our unique values, and from this we can check relevance of the columns to our analysis."
   ]
  },
  {
   "cell_type": "code",
   "id": "24b334e2",
   "metadata": {
    "ExecuteTime": {
     "end_time": "2025-07-04T14:35:05.782243Z",
     "start_time": "2025-07-04T14:35:05.568327Z"
    }
   },
   "source": [
    "# Amount of missing values in each column\n",
    "df[numerical_column].isna().sum()"
   ],
   "outputs": [
    {
     "data": {
      "text/plain": [
       "Case Number               6\n",
       "Parent Case Number        6\n",
       "Product UPC           12274\n",
       "Store                 12636\n",
       "dtype: int64"
      ]
     },
     "execution_count": 18,
     "metadata": {},
     "output_type": "execute_result"
    }
   ],
   "execution_count": 18
  },
  {
   "cell_type": "code",
   "id": "851e4da4",
   "metadata": {
    "ExecuteTime": {
     "end_time": "2025-07-04T14:35:05.991869Z",
     "start_time": "2025-07-04T14:35:05.951890Z"
    }
   },
   "source": [
    "# A view of the numerical columns\n",
    "# Displaying the first few rows of the numerical columns\n",
    "numerical_columns = df.select_dtypes(include=[np.number]).columns\n",
    "df[numerical_columns]"
   ],
   "outputs": [
    {
     "data": {
      "text/plain": [
       "       Case Number  Parent Case Number   Product UPC  Store\n",
       "0       46099750.0                 0.0  6.151100e+12    NaN\n",
       "1       46112301.0                 0.0           NaN    NaN\n",
       "2       46099419.0                 0.0  6.151100e+12    NaN\n",
       "3       46112281.0                 0.0           NaN    NaN\n",
       "4       46098960.0                 0.0           NaN    NaN\n",
       "...            ...                 ...           ...    ...\n",
       "12631          NaN                 NaN           NaN    NaN\n",
       "12632          NaN                 NaN           NaN    NaN\n",
       "12633          NaN                 NaN           NaN    NaN\n",
       "12634          NaN                 NaN           NaN    NaN\n",
       "12635          NaN                 NaN           NaN    NaN\n",
       "\n",
       "[12636 rows x 4 columns]"
      ],
      "text/html": [
       "<div>\n",
       "<style scoped>\n",
       "    .dataframe tbody tr th:only-of-type {\n",
       "        vertical-align: middle;\n",
       "    }\n",
       "\n",
       "    .dataframe tbody tr th {\n",
       "        vertical-align: top;\n",
       "    }\n",
       "\n",
       "    .dataframe thead th {\n",
       "        text-align: right;\n",
       "    }\n",
       "</style>\n",
       "<table border=\"1\" class=\"dataframe\">\n",
       "  <thead>\n",
       "    <tr style=\"text-align: right;\">\n",
       "      <th></th>\n",
       "      <th>Case Number</th>\n",
       "      <th>Parent Case Number</th>\n",
       "      <th>Product UPC</th>\n",
       "      <th>Store</th>\n",
       "    </tr>\n",
       "  </thead>\n",
       "  <tbody>\n",
       "    <tr>\n",
       "      <th>0</th>\n",
       "      <td>46099750.0</td>\n",
       "      <td>0.0</td>\n",
       "      <td>6.151100e+12</td>\n",
       "      <td>NaN</td>\n",
       "    </tr>\n",
       "    <tr>\n",
       "      <th>1</th>\n",
       "      <td>46112301.0</td>\n",
       "      <td>0.0</td>\n",
       "      <td>NaN</td>\n",
       "      <td>NaN</td>\n",
       "    </tr>\n",
       "    <tr>\n",
       "      <th>2</th>\n",
       "      <td>46099419.0</td>\n",
       "      <td>0.0</td>\n",
       "      <td>6.151100e+12</td>\n",
       "      <td>NaN</td>\n",
       "    </tr>\n",
       "    <tr>\n",
       "      <th>3</th>\n",
       "      <td>46112281.0</td>\n",
       "      <td>0.0</td>\n",
       "      <td>NaN</td>\n",
       "      <td>NaN</td>\n",
       "    </tr>\n",
       "    <tr>\n",
       "      <th>4</th>\n",
       "      <td>46098960.0</td>\n",
       "      <td>0.0</td>\n",
       "      <td>NaN</td>\n",
       "      <td>NaN</td>\n",
       "    </tr>\n",
       "    <tr>\n",
       "      <th>...</th>\n",
       "      <td>...</td>\n",
       "      <td>...</td>\n",
       "      <td>...</td>\n",
       "      <td>...</td>\n",
       "    </tr>\n",
       "    <tr>\n",
       "      <th>12631</th>\n",
       "      <td>NaN</td>\n",
       "      <td>NaN</td>\n",
       "      <td>NaN</td>\n",
       "      <td>NaN</td>\n",
       "    </tr>\n",
       "    <tr>\n",
       "      <th>12632</th>\n",
       "      <td>NaN</td>\n",
       "      <td>NaN</td>\n",
       "      <td>NaN</td>\n",
       "      <td>NaN</td>\n",
       "    </tr>\n",
       "    <tr>\n",
       "      <th>12633</th>\n",
       "      <td>NaN</td>\n",
       "      <td>NaN</td>\n",
       "      <td>NaN</td>\n",
       "      <td>NaN</td>\n",
       "    </tr>\n",
       "    <tr>\n",
       "      <th>12634</th>\n",
       "      <td>NaN</td>\n",
       "      <td>NaN</td>\n",
       "      <td>NaN</td>\n",
       "      <td>NaN</td>\n",
       "    </tr>\n",
       "    <tr>\n",
       "      <th>12635</th>\n",
       "      <td>NaN</td>\n",
       "      <td>NaN</td>\n",
       "      <td>NaN</td>\n",
       "      <td>NaN</td>\n",
       "    </tr>\n",
       "  </tbody>\n",
       "</table>\n",
       "<p>12636 rows × 4 columns</p>\n",
       "</div>"
      ]
     },
     "execution_count": 19,
     "metadata": {},
     "output_type": "execute_result"
    }
   ],
   "execution_count": 19
  },
  {
   "metadata": {},
   "cell_type": "markdown",
   "source": [
    "### Here we notice a wide difference in missing values to the ratio of the missing values in the Categorical columns and Numerical columns<br/>\n",
    "So we now evaluate ways to handle the missing values in the columns<br/>\n",
    "#### - Now we have our unique values, and from this we can check the relevance of the columns to our analysis.<br/>\n"
   ],
   "id": "b8b6a223"
  },
  {
   "cell_type": "markdown",
   "id": "86b81415",
   "metadata": {},
   "source": [
    "For Categorical columns we see only 10 out of 26 columns that have relevance\n",
    "\n",
    "- The Product Category columns (L0-L7) are likely highly relevant due to the core information they provide about the products, if the missing data can be effectively handled.\n",
    "\n",
    "- The Description column has the potential to be highly relevant for deeper insights but requires significant text processing.\n",
    "\n",
    "- The Production Code is of uncertain relevance without more context and appears to require substantial cleaning.\n",
    "\n",
    "- Store Location is conceptually relevant but is severely hampered by the extensive missing data.\n",
    "\n",
    "For Numerical columns we have have we have only one column worth keeping<br/>\n",
    "\n",
    "- Case Number being a way to track the products\n",
    "\n",
    "\n",
    "#### Recommendations for handling missing values<br/>\n",
    "Due to the amount of missing data the Intergrity of the data is already questionable but assuming that this is a valid dataset, we can use the following methods to handle the missing values<br/>\n",
    "\n",
    "- I would recommend dropping columns with more than 40% of missing values, as they are unlikely to provide meaningful insights.\n",
    "\n",
    "- For the categorical columns, we can use techniques like mode imputation or creating a separate category for missing values but even this is alot of work and may not be worth it. This may comprise the integrity of the data and also make cause a bias in further analysis.\n",
    "\n",
    "- As for numerical data, we can use mean or median imputation for missing values, but this may not be the best approach since the data is not normally distributed. I personally recommend dropping all columns more the 30% with missing values if they are not significant or critcally necessary."
   ]
  },
  {
   "metadata": {},
   "cell_type": "markdown",
   "source": "## --- Data Cleaning ---\n",
   "id": "522d3bdd9786449d"
  },
  {
   "metadata": {
    "ExecuteTime": {
     "end_time": "2025-07-04T14:35:07.195926Z",
     "start_time": "2025-07-04T14:35:07.131681Z"
    }
   },
   "cell_type": "code",
   "source": [
    "# 1. Convert 'Opened Date' to datetime and drop NaT rows\n",
    "df['Opened Date'] = pd.to_datetime(df['Opened Date'], errors='coerce')\n",
    "df.dropna(subset=['Opened Date'], inplace=True)"
   ],
   "id": "d9b9bcf006b2b03b",
   "outputs": [],
   "execution_count": 20
  },
  {
   "metadata": {
    "ExecuteTime": {
     "end_time": "2025-07-04T14:35:07.820514Z",
     "start_time": "2025-07-04T14:35:07.744601Z"
    }
   },
   "cell_type": "code",
   "source": [
    "# 2. Drop the 'Store' column (as it's entirely null)\n",
    "if 'Store' in df.columns and df['Store'].isnull().all():\n",
    "    df.drop(columns=['Store'], inplace=True)\n",
    "    print(\"Dropped 'Store' column due to all null values.\")"
   ],
   "id": "b3577651a0a470eb",
   "outputs": [
    {
     "name": "stdout",
     "output_type": "stream",
     "text": [
      "Dropped 'Store' column due to all null values.\n"
     ]
    }
   ],
   "execution_count": 21
  },
  {
   "metadata": {
    "ExecuteTime": {
     "end_time": "2025-07-04T14:35:08.309924Z",
     "start_time": "2025-07-04T14:35:08.269621Z"
    }
   },
   "cell_type": "code",
   "source": [
    "# 3. Check for and remove duplicate rows\n",
    "initial_rows = df.shape[0]\n",
    "df.drop_duplicates(inplace=True)\n",
    "rows_after_duplicates = df.shape[0]\n",
    "if initial_rows > rows_after_duplicates:\n",
    "    print(f\"Removed {initial_rows - rows_after_duplicates} duplicate rows.\")\n",
    "else:\n",
    "    print(\"No duplicate rows found.\")\n",
    "\n",
    "print(\"Data cleaning completed.\")"
   ],
   "id": "fde6cb6223abc8db",
   "outputs": [
    {
     "name": "stdout",
     "output_type": "stream",
     "text": [
      "No duplicate rows found.\n",
      "Data cleaning completed.\n"
     ]
    }
   ],
   "execution_count": 22
  },
  {
   "metadata": {},
   "cell_type": "markdown",
   "source": "# Visualizations",
   "id": "9159979065b9688d"
  },
  {
   "metadata": {
    "SqlCellData": {
     "variableName$1": "df_sql1"
    },
    "ExecuteTime": {
     "end_time": "2025-07-04T14:35:11.483733Z",
     "start_time": "2025-07-04T14:35:08.356321600Z"
    }
   },
   "cell_type": "code",
   "source": [
    "%%sql\n",
    "select * from df;"
   ],
   "id": "ab12eb5c153c8473",
   "outputs": [
    {
     "data": {
      "text/plain": [
       "     Opened Date  Case Number  Parent Case Number Case Market  Country  \\\n",
       "0     2024-05-01   46099750.0                 0.0     Nigeria  Nigeria   \n",
       "1     2024-07-01   46112301.0                 0.0     Nigeria  Nigeria   \n",
       "2     2024-05-01   46099419.0                 0.0     Nigeria  Nigeria   \n",
       "3     2024-07-01   46112281.0                 0.0     Nigeria  Nigeria   \n",
       "4     2024-05-01   46098960.0                 0.0     Nigeria  Nigeria   \n",
       "...          ...          ...                 ...         ...      ...   \n",
       "4852  2024-11-09   48648771.0                 0.0     Nigeria  Nigeria   \n",
       "4853  2024-11-09   48649013.0                 0.0     Nigeria  Nigeria   \n",
       "4854  2024-11-09   48648061.0                 0.0     Nigeria  Nigeria   \n",
       "4855  2024-11-09   48648038.0                 0.0     Nigeria  Nigeria   \n",
       "4856  2024-11-09   48646575.0                 0.0     Nigeria  Nigeria   \n",
       "\n",
       "          Product: Brand     L0 Product Category L1 Product Category  \\\n",
       "0               Close Up  Beauty & Personal Care       Personal Care   \n",
       "1     Unilever Corporate                    None                None   \n",
       "2              Pepsodent  Beauty & Personal Care       Personal Care   \n",
       "3     Unilever Corporate                    None                None   \n",
       "4     Unilever Corporate                    None                None   \n",
       "...                  ...                     ...                 ...   \n",
       "4852  Unilever Corporate                    None                None   \n",
       "4853  Unilever Corporate                    None                None   \n",
       "4854  Unilever Corporate                    None                None   \n",
       "4855  Unilever Corporate                    None                None   \n",
       "4856  Unilever Corporate                    None                None   \n",
       "\n",
       "     L2 Product Category L3 Product Category  ...            Reason L3 desc  \\\n",
       "0              Oral Care          Toothpaste  ...               Product use   \n",
       "1                   None                None  ...                   Hang Up   \n",
       "2              Oral Care          Toothpaste  ...               Product use   \n",
       "3                   None                None  ...                   Hang Up   \n",
       "4                   None                None  ...  Marketing communications   \n",
       "...                  ...                 ...  ...                       ...   \n",
       "4852                None                None  ...                   Hang Up   \n",
       "4853                None                None  ...                   Hang Up   \n",
       "4854                None                None  ...                   Hang Up   \n",
       "4855                None                None  ...                   Hang Up   \n",
       "4856                None                None  ...                   Hang Up   \n",
       "\n",
       "                               Reason L4 desc  \\\n",
       "0                Query on product performance   \n",
       "1                            Consumer Hang Up   \n",
       "2                   Likes product performance   \n",
       "3                            Consumer Hang Up   \n",
       "4     Query on other marketing Communications   \n",
       "...                                       ...   \n",
       "4852                         Consumer Hang Up   \n",
       "4853                         Consumer Hang Up   \n",
       "4854                         Consumer Hang Up   \n",
       "4855                         Consumer Hang Up   \n",
       "4856                         Consumer Hang Up   \n",
       "\n",
       "                                         Reason L5 desc Production Code  \\\n",
       "0                        Query on product effectiveness            None   \n",
       "1     Consumer contact terminated / hoax / non deliv...            None   \n",
       "2                             Likes product performance            None   \n",
       "3     Consumer contact terminated / hoax / non deliv...            None   \n",
       "4                               General Query / request            None   \n",
       "...                                                 ...             ...   \n",
       "4852  Consumer contact terminated / hoax / non deliv...            None   \n",
       "4853  Consumer contact terminated / hoax / non deliv...            None   \n",
       "4854  Consumer contact terminated / hoax / non deliv...            None   \n",
       "4855  Consumer contact terminated / hoax / non deliv...            None   \n",
       "4856  Consumer contact terminated / hoax / non deliv...            None   \n",
       "\n",
       "                                                Subject  \\\n",
       "0       Query on Closeup Anti Bacterial Zinc Toothpaste   \n",
       "1                                                  SPAM   \n",
       "2     Appreciation of Pepsodent Cavity Fighter Tooth...   \n",
       "3                                                  SPAM   \n",
       "4     [External] - URGENT- EMPLOYMENT VERIFICATION- ...   \n",
       "...                                                 ...   \n",
       "4852                                               SPAM   \n",
       "4853                                               SPAM   \n",
       "4854                                               SPAM   \n",
       "4855                                               SPAM   \n",
       "4856                                               SPAM   \n",
       "\n",
       "                                            Description               Status  \\\n",
       "0     I like Closeup Anti Bacterial Zinc Toothpaste ...               Closed   \n",
       "1                                                  SPAM               Closed   \n",
       "2     I like Pepsodent Cavity Fighter Toothpaste bec...               Closed   \n",
       "3                                                  SPAM               Closed   \n",
       "4     To: HR/Payroll Please find attached a copy of ...  Closed as Duplicate   \n",
       "...                                                 ...                  ...   \n",
       "4852                                               SPAM               Closed   \n",
       "4853                                               SPAM               Closed   \n",
       "4854                                               SPAM               Closed   \n",
       "4855                                               SPAM               Closed   \n",
       "4856                                               SPAM               Closed   \n",
       "\n",
       "     Store Location Case Origin               Case Owner  \n",
       "0              None       Phone  Chinedu Francis Onochie  \n",
       "1              None       Email        CEC Nigeria Queue  \n",
       "2              None       Phone  Chinedu Francis Onochie  \n",
       "3              None       Email        CEC Nigeria Queue  \n",
       "4              None       Email  Chinedu Francis Onochie  \n",
       "...             ...         ...                      ...  \n",
       "4852           None       Email        CEC Nigeria Queue  \n",
       "4853           None       Email        CEC Nigeria Queue  \n",
       "4854           None       Email        CEC Nigeria Queue  \n",
       "4855           None       Email        CEC Nigeria Queue  \n",
       "4856           None       Email        CEC Nigeria Queue  \n",
       "\n",
       "[4857 rows x 29 columns]"
      ],
      "text/html": [
       "<div>\n",
       "<style scoped>\n",
       "    .dataframe tbody tr th:only-of-type {\n",
       "        vertical-align: middle;\n",
       "    }\n",
       "\n",
       "    .dataframe tbody tr th {\n",
       "        vertical-align: top;\n",
       "    }\n",
       "\n",
       "    .dataframe thead th {\n",
       "        text-align: right;\n",
       "    }\n",
       "</style>\n",
       "<table border=\"1\" class=\"dataframe\">\n",
       "  <thead>\n",
       "    <tr style=\"text-align: right;\">\n",
       "      <th></th>\n",
       "      <th>Opened Date</th>\n",
       "      <th>Case Number</th>\n",
       "      <th>Parent Case Number</th>\n",
       "      <th>Case Market</th>\n",
       "      <th>Country</th>\n",
       "      <th>Product: Brand</th>\n",
       "      <th>L0 Product Category</th>\n",
       "      <th>L1 Product Category</th>\n",
       "      <th>L2 Product Category</th>\n",
       "      <th>L3 Product Category</th>\n",
       "      <th>...</th>\n",
       "      <th>Reason L3 desc</th>\n",
       "      <th>Reason L4 desc</th>\n",
       "      <th>Reason L5 desc</th>\n",
       "      <th>Production Code</th>\n",
       "      <th>Subject</th>\n",
       "      <th>Description</th>\n",
       "      <th>Status</th>\n",
       "      <th>Store Location</th>\n",
       "      <th>Case Origin</th>\n",
       "      <th>Case Owner</th>\n",
       "    </tr>\n",
       "  </thead>\n",
       "  <tbody>\n",
       "    <tr>\n",
       "      <th>0</th>\n",
       "      <td>2024-05-01</td>\n",
       "      <td>46099750.0</td>\n",
       "      <td>0.0</td>\n",
       "      <td>Nigeria</td>\n",
       "      <td>Nigeria</td>\n",
       "      <td>Close Up</td>\n",
       "      <td>Beauty &amp; Personal Care</td>\n",
       "      <td>Personal Care</td>\n",
       "      <td>Oral Care</td>\n",
       "      <td>Toothpaste</td>\n",
       "      <td>...</td>\n",
       "      <td>Product use</td>\n",
       "      <td>Query on product performance</td>\n",
       "      <td>Query on product effectiveness</td>\n",
       "      <td>None</td>\n",
       "      <td>Query on Closeup Anti Bacterial Zinc Toothpaste</td>\n",
       "      <td>I like Closeup Anti Bacterial Zinc Toothpaste ...</td>\n",
       "      <td>Closed</td>\n",
       "      <td>None</td>\n",
       "      <td>Phone</td>\n",
       "      <td>Chinedu Francis Onochie</td>\n",
       "    </tr>\n",
       "    <tr>\n",
       "      <th>1</th>\n",
       "      <td>2024-07-01</td>\n",
       "      <td>46112301.0</td>\n",
       "      <td>0.0</td>\n",
       "      <td>Nigeria</td>\n",
       "      <td>Nigeria</td>\n",
       "      <td>Unilever Corporate</td>\n",
       "      <td>None</td>\n",
       "      <td>None</td>\n",
       "      <td>None</td>\n",
       "      <td>None</td>\n",
       "      <td>...</td>\n",
       "      <td>Hang Up</td>\n",
       "      <td>Consumer Hang Up</td>\n",
       "      <td>Consumer contact terminated / hoax / non deliv...</td>\n",
       "      <td>None</td>\n",
       "      <td>SPAM</td>\n",
       "      <td>SPAM</td>\n",
       "      <td>Closed</td>\n",
       "      <td>None</td>\n",
       "      <td>Email</td>\n",
       "      <td>CEC Nigeria Queue</td>\n",
       "    </tr>\n",
       "    <tr>\n",
       "      <th>2</th>\n",
       "      <td>2024-05-01</td>\n",
       "      <td>46099419.0</td>\n",
       "      <td>0.0</td>\n",
       "      <td>Nigeria</td>\n",
       "      <td>Nigeria</td>\n",
       "      <td>Pepsodent</td>\n",
       "      <td>Beauty &amp; Personal Care</td>\n",
       "      <td>Personal Care</td>\n",
       "      <td>Oral Care</td>\n",
       "      <td>Toothpaste</td>\n",
       "      <td>...</td>\n",
       "      <td>Product use</td>\n",
       "      <td>Likes product performance</td>\n",
       "      <td>Likes product performance</td>\n",
       "      <td>None</td>\n",
       "      <td>Appreciation of Pepsodent Cavity Fighter Tooth...</td>\n",
       "      <td>I like Pepsodent Cavity Fighter Toothpaste bec...</td>\n",
       "      <td>Closed</td>\n",
       "      <td>None</td>\n",
       "      <td>Phone</td>\n",
       "      <td>Chinedu Francis Onochie</td>\n",
       "    </tr>\n",
       "    <tr>\n",
       "      <th>3</th>\n",
       "      <td>2024-07-01</td>\n",
       "      <td>46112281.0</td>\n",
       "      <td>0.0</td>\n",
       "      <td>Nigeria</td>\n",
       "      <td>Nigeria</td>\n",
       "      <td>Unilever Corporate</td>\n",
       "      <td>None</td>\n",
       "      <td>None</td>\n",
       "      <td>None</td>\n",
       "      <td>None</td>\n",
       "      <td>...</td>\n",
       "      <td>Hang Up</td>\n",
       "      <td>Consumer Hang Up</td>\n",
       "      <td>Consumer contact terminated / hoax / non deliv...</td>\n",
       "      <td>None</td>\n",
       "      <td>SPAM</td>\n",
       "      <td>SPAM</td>\n",
       "      <td>Closed</td>\n",
       "      <td>None</td>\n",
       "      <td>Email</td>\n",
       "      <td>CEC Nigeria Queue</td>\n",
       "    </tr>\n",
       "    <tr>\n",
       "      <th>4</th>\n",
       "      <td>2024-05-01</td>\n",
       "      <td>46098960.0</td>\n",
       "      <td>0.0</td>\n",
       "      <td>Nigeria</td>\n",
       "      <td>Nigeria</td>\n",
       "      <td>Unilever Corporate</td>\n",
       "      <td>None</td>\n",
       "      <td>None</td>\n",
       "      <td>None</td>\n",
       "      <td>None</td>\n",
       "      <td>...</td>\n",
       "      <td>Marketing communications</td>\n",
       "      <td>Query on other marketing Communications</td>\n",
       "      <td>General Query / request</td>\n",
       "      <td>None</td>\n",
       "      <td>[External] - URGENT- EMPLOYMENT VERIFICATION- ...</td>\n",
       "      <td>To: HR/Payroll Please find attached a copy of ...</td>\n",
       "      <td>Closed as Duplicate</td>\n",
       "      <td>None</td>\n",
       "      <td>Email</td>\n",
       "      <td>Chinedu Francis Onochie</td>\n",
       "    </tr>\n",
       "    <tr>\n",
       "      <th>...</th>\n",
       "      <td>...</td>\n",
       "      <td>...</td>\n",
       "      <td>...</td>\n",
       "      <td>...</td>\n",
       "      <td>...</td>\n",
       "      <td>...</td>\n",
       "      <td>...</td>\n",
       "      <td>...</td>\n",
       "      <td>...</td>\n",
       "      <td>...</td>\n",
       "      <td>...</td>\n",
       "      <td>...</td>\n",
       "      <td>...</td>\n",
       "      <td>...</td>\n",
       "      <td>...</td>\n",
       "      <td>...</td>\n",
       "      <td>...</td>\n",
       "      <td>...</td>\n",
       "      <td>...</td>\n",
       "      <td>...</td>\n",
       "      <td>...</td>\n",
       "    </tr>\n",
       "    <tr>\n",
       "      <th>4852</th>\n",
       "      <td>2024-11-09</td>\n",
       "      <td>48648771.0</td>\n",
       "      <td>0.0</td>\n",
       "      <td>Nigeria</td>\n",
       "      <td>Nigeria</td>\n",
       "      <td>Unilever Corporate</td>\n",
       "      <td>None</td>\n",
       "      <td>None</td>\n",
       "      <td>None</td>\n",
       "      <td>None</td>\n",
       "      <td>...</td>\n",
       "      <td>Hang Up</td>\n",
       "      <td>Consumer Hang Up</td>\n",
       "      <td>Consumer contact terminated / hoax / non deliv...</td>\n",
       "      <td>None</td>\n",
       "      <td>SPAM</td>\n",
       "      <td>SPAM</td>\n",
       "      <td>Closed</td>\n",
       "      <td>None</td>\n",
       "      <td>Email</td>\n",
       "      <td>CEC Nigeria Queue</td>\n",
       "    </tr>\n",
       "    <tr>\n",
       "      <th>4853</th>\n",
       "      <td>2024-11-09</td>\n",
       "      <td>48649013.0</td>\n",
       "      <td>0.0</td>\n",
       "      <td>Nigeria</td>\n",
       "      <td>Nigeria</td>\n",
       "      <td>Unilever Corporate</td>\n",
       "      <td>None</td>\n",
       "      <td>None</td>\n",
       "      <td>None</td>\n",
       "      <td>None</td>\n",
       "      <td>...</td>\n",
       "      <td>Hang Up</td>\n",
       "      <td>Consumer Hang Up</td>\n",
       "      <td>Consumer contact terminated / hoax / non deliv...</td>\n",
       "      <td>None</td>\n",
       "      <td>SPAM</td>\n",
       "      <td>SPAM</td>\n",
       "      <td>Closed</td>\n",
       "      <td>None</td>\n",
       "      <td>Email</td>\n",
       "      <td>CEC Nigeria Queue</td>\n",
       "    </tr>\n",
       "    <tr>\n",
       "      <th>4854</th>\n",
       "      <td>2024-11-09</td>\n",
       "      <td>48648061.0</td>\n",
       "      <td>0.0</td>\n",
       "      <td>Nigeria</td>\n",
       "      <td>Nigeria</td>\n",
       "      <td>Unilever Corporate</td>\n",
       "      <td>None</td>\n",
       "      <td>None</td>\n",
       "      <td>None</td>\n",
       "      <td>None</td>\n",
       "      <td>...</td>\n",
       "      <td>Hang Up</td>\n",
       "      <td>Consumer Hang Up</td>\n",
       "      <td>Consumer contact terminated / hoax / non deliv...</td>\n",
       "      <td>None</td>\n",
       "      <td>SPAM</td>\n",
       "      <td>SPAM</td>\n",
       "      <td>Closed</td>\n",
       "      <td>None</td>\n",
       "      <td>Email</td>\n",
       "      <td>CEC Nigeria Queue</td>\n",
       "    </tr>\n",
       "    <tr>\n",
       "      <th>4855</th>\n",
       "      <td>2024-11-09</td>\n",
       "      <td>48648038.0</td>\n",
       "      <td>0.0</td>\n",
       "      <td>Nigeria</td>\n",
       "      <td>Nigeria</td>\n",
       "      <td>Unilever Corporate</td>\n",
       "      <td>None</td>\n",
       "      <td>None</td>\n",
       "      <td>None</td>\n",
       "      <td>None</td>\n",
       "      <td>...</td>\n",
       "      <td>Hang Up</td>\n",
       "      <td>Consumer Hang Up</td>\n",
       "      <td>Consumer contact terminated / hoax / non deliv...</td>\n",
       "      <td>None</td>\n",
       "      <td>SPAM</td>\n",
       "      <td>SPAM</td>\n",
       "      <td>Closed</td>\n",
       "      <td>None</td>\n",
       "      <td>Email</td>\n",
       "      <td>CEC Nigeria Queue</td>\n",
       "    </tr>\n",
       "    <tr>\n",
       "      <th>4856</th>\n",
       "      <td>2024-11-09</td>\n",
       "      <td>48646575.0</td>\n",
       "      <td>0.0</td>\n",
       "      <td>Nigeria</td>\n",
       "      <td>Nigeria</td>\n",
       "      <td>Unilever Corporate</td>\n",
       "      <td>None</td>\n",
       "      <td>None</td>\n",
       "      <td>None</td>\n",
       "      <td>None</td>\n",
       "      <td>...</td>\n",
       "      <td>Hang Up</td>\n",
       "      <td>Consumer Hang Up</td>\n",
       "      <td>Consumer contact terminated / hoax / non deliv...</td>\n",
       "      <td>None</td>\n",
       "      <td>SPAM</td>\n",
       "      <td>SPAM</td>\n",
       "      <td>Closed</td>\n",
       "      <td>None</td>\n",
       "      <td>Email</td>\n",
       "      <td>CEC Nigeria Queue</td>\n",
       "    </tr>\n",
       "  </tbody>\n",
       "</table>\n",
       "<p>4857 rows × 29 columns</p>\n",
       "</div>"
      ]
     },
     "execution_count": 23,
     "metadata": {},
     "output_type": "execute_result"
    }
   ],
   "execution_count": 23
  },
  {
   "metadata": {
    "ExecuteTime": {
     "end_time": "2025-07-04T14:40:41.222620Z",
     "start_time": "2025-07-04T14:40:39.648879Z"
    }
   },
   "cell_type": "code",
   "source": [
    "# 1. Case Status Distribution\n",
    "status_counts = df['Status'].value_counts().reset_index()\n",
    "status_counts.columns = ['Case Status', 'Number of Cases']\n",
    "fig_status = px.bar(status_counts, x='Case Status', y='Number of Cases',\n",
    "                    title='Distribution of Case Status',\n",
    "                    color_discrete_sequence=px.colors.qualitative.Vivid)\n",
    "fig_status.show()"
   ],
   "id": "bba39d5de1907fcc",
   "outputs": [
    {
     "data": {
      "application/vnd.plotly.v1+json": {
       "data": [
        {
         "hovertemplate": "Case Status=%{x}<br>Number of Cases=%{y}<extra></extra>",
         "legendgroup": "",
         "marker": {
          "color": "rgb(229, 134, 6)",
          "pattern": {
           "shape": ""
          }
         },
         "name": "",
         "orientation": "v",
         "showlegend": false,
         "textposition": "auto",
         "x": [
          "Closed",
          "Closed as Duplicate",
          "Awaiting Information from Consumer",
          "Awaiting Knowledge Response",
          "In Progress",
          "Escalated",
          "Reopened",
          "Awaiting Factory Response"
         ],
         "xaxis": "x",
         "y": {
          "dtype": "i2",
          "bdata": "cxJlABAACgACAAIAAgABAA=="
         },
         "yaxis": "y",
         "type": "bar"
        }
       ],
       "layout": {
        "template": {
         "data": {
          "histogram2dcontour": [
           {
            "type": "histogram2dcontour",
            "colorbar": {
             "outlinewidth": 0,
             "ticks": ""
            },
            "colorscale": [
             [
              0.0,
              "#0d0887"
             ],
             [
              0.1111111111111111,
              "#46039f"
             ],
             [
              0.2222222222222222,
              "#7201a8"
             ],
             [
              0.3333333333333333,
              "#9c179e"
             ],
             [
              0.4444444444444444,
              "#bd3786"
             ],
             [
              0.5555555555555556,
              "#d8576b"
             ],
             [
              0.6666666666666666,
              "#ed7953"
             ],
             [
              0.7777777777777778,
              "#fb9f3a"
             ],
             [
              0.8888888888888888,
              "#fdca26"
             ],
             [
              1.0,
              "#f0f921"
             ]
            ]
           }
          ],
          "choropleth": [
           {
            "type": "choropleth",
            "colorbar": {
             "outlinewidth": 0,
             "ticks": ""
            }
           }
          ],
          "histogram2d": [
           {
            "type": "histogram2d",
            "colorbar": {
             "outlinewidth": 0,
             "ticks": ""
            },
            "colorscale": [
             [
              0.0,
              "#0d0887"
             ],
             [
              0.1111111111111111,
              "#46039f"
             ],
             [
              0.2222222222222222,
              "#7201a8"
             ],
             [
              0.3333333333333333,
              "#9c179e"
             ],
             [
              0.4444444444444444,
              "#bd3786"
             ],
             [
              0.5555555555555556,
              "#d8576b"
             ],
             [
              0.6666666666666666,
              "#ed7953"
             ],
             [
              0.7777777777777778,
              "#fb9f3a"
             ],
             [
              0.8888888888888888,
              "#fdca26"
             ],
             [
              1.0,
              "#f0f921"
             ]
            ]
           }
          ],
          "heatmap": [
           {
            "type": "heatmap",
            "colorbar": {
             "outlinewidth": 0,
             "ticks": ""
            },
            "colorscale": [
             [
              0.0,
              "#0d0887"
             ],
             [
              0.1111111111111111,
              "#46039f"
             ],
             [
              0.2222222222222222,
              "#7201a8"
             ],
             [
              0.3333333333333333,
              "#9c179e"
             ],
             [
              0.4444444444444444,
              "#bd3786"
             ],
             [
              0.5555555555555556,
              "#d8576b"
             ],
             [
              0.6666666666666666,
              "#ed7953"
             ],
             [
              0.7777777777777778,
              "#fb9f3a"
             ],
             [
              0.8888888888888888,
              "#fdca26"
             ],
             [
              1.0,
              "#f0f921"
             ]
            ]
           }
          ],
          "contourcarpet": [
           {
            "type": "contourcarpet",
            "colorbar": {
             "outlinewidth": 0,
             "ticks": ""
            }
           }
          ],
          "contour": [
           {
            "type": "contour",
            "colorbar": {
             "outlinewidth": 0,
             "ticks": ""
            },
            "colorscale": [
             [
              0.0,
              "#0d0887"
             ],
             [
              0.1111111111111111,
              "#46039f"
             ],
             [
              0.2222222222222222,
              "#7201a8"
             ],
             [
              0.3333333333333333,
              "#9c179e"
             ],
             [
              0.4444444444444444,
              "#bd3786"
             ],
             [
              0.5555555555555556,
              "#d8576b"
             ],
             [
              0.6666666666666666,
              "#ed7953"
             ],
             [
              0.7777777777777778,
              "#fb9f3a"
             ],
             [
              0.8888888888888888,
              "#fdca26"
             ],
             [
              1.0,
              "#f0f921"
             ]
            ]
           }
          ],
          "surface": [
           {
            "type": "surface",
            "colorbar": {
             "outlinewidth": 0,
             "ticks": ""
            },
            "colorscale": [
             [
              0.0,
              "#0d0887"
             ],
             [
              0.1111111111111111,
              "#46039f"
             ],
             [
              0.2222222222222222,
              "#7201a8"
             ],
             [
              0.3333333333333333,
              "#9c179e"
             ],
             [
              0.4444444444444444,
              "#bd3786"
             ],
             [
              0.5555555555555556,
              "#d8576b"
             ],
             [
              0.6666666666666666,
              "#ed7953"
             ],
             [
              0.7777777777777778,
              "#fb9f3a"
             ],
             [
              0.8888888888888888,
              "#fdca26"
             ],
             [
              1.0,
              "#f0f921"
             ]
            ]
           }
          ],
          "mesh3d": [
           {
            "type": "mesh3d",
            "colorbar": {
             "outlinewidth": 0,
             "ticks": ""
            }
           }
          ],
          "scatter": [
           {
            "marker": {
             "line": {
              "color": "#283442"
             }
            },
            "type": "scatter"
           }
          ],
          "parcoords": [
           {
            "type": "parcoords",
            "line": {
             "colorbar": {
              "outlinewidth": 0,
              "ticks": ""
             }
            }
           }
          ],
          "scatterpolargl": [
           {
            "type": "scatterpolargl",
            "marker": {
             "colorbar": {
              "outlinewidth": 0,
              "ticks": ""
             }
            }
           }
          ],
          "bar": [
           {
            "error_x": {
             "color": "#f2f5fa"
            },
            "error_y": {
             "color": "#f2f5fa"
            },
            "marker": {
             "line": {
              "color": "rgb(17,17,17)",
              "width": 0.5
             },
             "pattern": {
              "fillmode": "overlay",
              "size": 10,
              "solidity": 0.2
             }
            },
            "type": "bar"
           }
          ],
          "scattergeo": [
           {
            "type": "scattergeo",
            "marker": {
             "colorbar": {
              "outlinewidth": 0,
              "ticks": ""
             }
            }
           }
          ],
          "scatterpolar": [
           {
            "type": "scatterpolar",
            "marker": {
             "colorbar": {
              "outlinewidth": 0,
              "ticks": ""
             }
            }
           }
          ],
          "histogram": [
           {
            "marker": {
             "pattern": {
              "fillmode": "overlay",
              "size": 10,
              "solidity": 0.2
             }
            },
            "type": "histogram"
           }
          ],
          "scattergl": [
           {
            "marker": {
             "line": {
              "color": "#283442"
             }
            },
            "type": "scattergl"
           }
          ],
          "scatter3d": [
           {
            "type": "scatter3d",
            "line": {
             "colorbar": {
              "outlinewidth": 0,
              "ticks": ""
             }
            },
            "marker": {
             "colorbar": {
              "outlinewidth": 0,
              "ticks": ""
             }
            }
           }
          ],
          "scattermap": [
           {
            "type": "scattermap",
            "marker": {
             "colorbar": {
              "outlinewidth": 0,
              "ticks": ""
             }
            }
           }
          ],
          "scattermapbox": [
           {
            "type": "scattermapbox",
            "marker": {
             "colorbar": {
              "outlinewidth": 0,
              "ticks": ""
             }
            }
           }
          ],
          "scatterternary": [
           {
            "type": "scatterternary",
            "marker": {
             "colorbar": {
              "outlinewidth": 0,
              "ticks": ""
             }
            }
           }
          ],
          "scattercarpet": [
           {
            "type": "scattercarpet",
            "marker": {
             "colorbar": {
              "outlinewidth": 0,
              "ticks": ""
             }
            }
           }
          ],
          "carpet": [
           {
            "aaxis": {
             "endlinecolor": "#A2B1C6",
             "gridcolor": "#506784",
             "linecolor": "#506784",
             "minorgridcolor": "#506784",
             "startlinecolor": "#A2B1C6"
            },
            "baxis": {
             "endlinecolor": "#A2B1C6",
             "gridcolor": "#506784",
             "linecolor": "#506784",
             "minorgridcolor": "#506784",
             "startlinecolor": "#A2B1C6"
            },
            "type": "carpet"
           }
          ],
          "table": [
           {
            "cells": {
             "fill": {
              "color": "#506784"
             },
             "line": {
              "color": "rgb(17,17,17)"
             }
            },
            "header": {
             "fill": {
              "color": "#2a3f5f"
             },
             "line": {
              "color": "rgb(17,17,17)"
             }
            },
            "type": "table"
           }
          ],
          "barpolar": [
           {
            "marker": {
             "line": {
              "color": "rgb(17,17,17)",
              "width": 0.5
             },
             "pattern": {
              "fillmode": "overlay",
              "size": 10,
              "solidity": 0.2
             }
            },
            "type": "barpolar"
           }
          ],
          "pie": [
           {
            "automargin": true,
            "type": "pie"
           }
          ]
         },
         "layout": {
          "autotypenumbers": "strict",
          "colorway": [
           "#636efa",
           "#EF553B",
           "#00cc96",
           "#ab63fa",
           "#FFA15A",
           "#19d3f3",
           "#FF6692",
           "#B6E880",
           "#FF97FF",
           "#FECB52"
          ],
          "font": {
           "color": "#f2f5fa"
          },
          "hovermode": "closest",
          "hoverlabel": {
           "align": "left"
          },
          "paper_bgcolor": "rgb(17,17,17)",
          "plot_bgcolor": "rgb(17,17,17)",
          "polar": {
           "bgcolor": "rgb(17,17,17)",
           "angularaxis": {
            "gridcolor": "#506784",
            "linecolor": "#506784",
            "ticks": ""
           },
           "radialaxis": {
            "gridcolor": "#506784",
            "linecolor": "#506784",
            "ticks": ""
           }
          },
          "ternary": {
           "bgcolor": "rgb(17,17,17)",
           "aaxis": {
            "gridcolor": "#506784",
            "linecolor": "#506784",
            "ticks": ""
           },
           "baxis": {
            "gridcolor": "#506784",
            "linecolor": "#506784",
            "ticks": ""
           },
           "caxis": {
            "gridcolor": "#506784",
            "linecolor": "#506784",
            "ticks": ""
           }
          },
          "coloraxis": {
           "colorbar": {
            "outlinewidth": 0,
            "ticks": ""
           }
          },
          "colorscale": {
           "sequential": [
            [
             0.0,
             "#0d0887"
            ],
            [
             0.1111111111111111,
             "#46039f"
            ],
            [
             0.2222222222222222,
             "#7201a8"
            ],
            [
             0.3333333333333333,
             "#9c179e"
            ],
            [
             0.4444444444444444,
             "#bd3786"
            ],
            [
             0.5555555555555556,
             "#d8576b"
            ],
            [
             0.6666666666666666,
             "#ed7953"
            ],
            [
             0.7777777777777778,
             "#fb9f3a"
            ],
            [
             0.8888888888888888,
             "#fdca26"
            ],
            [
             1.0,
             "#f0f921"
            ]
           ],
           "sequentialminus": [
            [
             0.0,
             "#0d0887"
            ],
            [
             0.1111111111111111,
             "#46039f"
            ],
            [
             0.2222222222222222,
             "#7201a8"
            ],
            [
             0.3333333333333333,
             "#9c179e"
            ],
            [
             0.4444444444444444,
             "#bd3786"
            ],
            [
             0.5555555555555556,
             "#d8576b"
            ],
            [
             0.6666666666666666,
             "#ed7953"
            ],
            [
             0.7777777777777778,
             "#fb9f3a"
            ],
            [
             0.8888888888888888,
             "#fdca26"
            ],
            [
             1.0,
             "#f0f921"
            ]
           ],
           "diverging": [
            [
             0,
             "#8e0152"
            ],
            [
             0.1,
             "#c51b7d"
            ],
            [
             0.2,
             "#de77ae"
            ],
            [
             0.3,
             "#f1b6da"
            ],
            [
             0.4,
             "#fde0ef"
            ],
            [
             0.5,
             "#f7f7f7"
            ],
            [
             0.6,
             "#e6f5d0"
            ],
            [
             0.7,
             "#b8e186"
            ],
            [
             0.8,
             "#7fbc41"
            ],
            [
             0.9,
             "#4d9221"
            ],
            [
             1,
             "#276419"
            ]
           ]
          },
          "xaxis": {
           "gridcolor": "#283442",
           "linecolor": "#506784",
           "ticks": "",
           "title": {
            "standoff": 15
           },
           "zerolinecolor": "#283442",
           "automargin": true,
           "zerolinewidth": 2
          },
          "yaxis": {
           "gridcolor": "#283442",
           "linecolor": "#506784",
           "ticks": "",
           "title": {
            "standoff": 15
           },
           "zerolinecolor": "#283442",
           "automargin": true,
           "zerolinewidth": 2
          },
          "scene": {
           "xaxis": {
            "backgroundcolor": "rgb(17,17,17)",
            "gridcolor": "#506784",
            "linecolor": "#506784",
            "showbackground": true,
            "ticks": "",
            "zerolinecolor": "#C8D4E3",
            "gridwidth": 2
           },
           "yaxis": {
            "backgroundcolor": "rgb(17,17,17)",
            "gridcolor": "#506784",
            "linecolor": "#506784",
            "showbackground": true,
            "ticks": "",
            "zerolinecolor": "#C8D4E3",
            "gridwidth": 2
           },
           "zaxis": {
            "backgroundcolor": "rgb(17,17,17)",
            "gridcolor": "#506784",
            "linecolor": "#506784",
            "showbackground": true,
            "ticks": "",
            "zerolinecolor": "#C8D4E3",
            "gridwidth": 2
           }
          },
          "shapedefaults": {
           "line": {
            "color": "#f2f5fa"
           }
          },
          "annotationdefaults": {
           "arrowcolor": "#f2f5fa",
           "arrowhead": 0,
           "arrowwidth": 1
          },
          "geo": {
           "bgcolor": "rgb(17,17,17)",
           "landcolor": "rgb(17,17,17)",
           "subunitcolor": "#506784",
           "showland": true,
           "showlakes": true,
           "lakecolor": "rgb(17,17,17)"
          },
          "title": {
           "x": 0.05
          },
          "updatemenudefaults": {
           "bgcolor": "#506784",
           "borderwidth": 0
          },
          "sliderdefaults": {
           "bgcolor": "#C8D4E3",
           "borderwidth": 1,
           "bordercolor": "rgb(17,17,17)",
           "tickwidth": 0
          },
          "mapbox": {
           "style": "dark"
          }
         }
        },
        "xaxis": {
         "anchor": "y",
         "domain": [
          0.0,
          1.0
         ],
         "title": {
          "text": "Case Status"
         }
        },
        "yaxis": {
         "anchor": "x",
         "domain": [
          0.0,
          1.0
         ],
         "title": {
          "text": "Number of Cases"
         }
        },
        "legend": {
         "tracegroupgap": 0
        },
        "title": {
         "text": "Distribution of Case Status"
        },
        "barmode": "relative"
       },
       "config": {
        "plotlyServerURL": "https://plot.ly"
       }
      }
     },
     "metadata": {},
     "output_type": "display_data"
    }
   ],
   "execution_count": 25
  },
  {
   "metadata": {
    "ExecuteTime": {
     "end_time": "2025-07-04T14:41:00.781020Z",
     "start_time": "2025-07-04T14:41:00.693348Z"
    }
   },
   "cell_type": "code",
   "source": [
    "# 2. Case Origin Distribution\n",
    "origin_counts = df['Case Origin'].value_counts().reset_index()\n",
    "origin_counts.columns = ['Case Origin', 'Number of Cases']\n",
    "fig_origin = px.bar(origin_counts, x='Case Origin', y='Number of Cases',\n",
    "                    title='Distribution of Case Origin',\n",
    "                    color_discrete_sequence=px.colors.qualitative.Pastel)\n",
    "fig_origin.show()"
   ],
   "id": "5eb8e5fe82949203",
   "outputs": [
    {
     "data": {
      "application/vnd.plotly.v1+json": {
       "data": [
        {
         "hovertemplate": "Case Origin=%{x}<br>Number of Cases=%{y}<extra></extra>",
         "legendgroup": "",
         "marker": {
          "color": "rgb(102, 197, 204)",
          "pattern": {
           "shape": ""
          }
         },
         "name": "",
         "orientation": "v",
         "showlegend": false,
         "textposition": "auto",
         "x": [
          "Email",
          "Web",
          "Phone",
          "Rating and Review",
          "Social",
          "Chat",
          "WhatsApp"
         ],
         "xaxis": "x",
         "y": {
          "dtype": "i2",
          "bdata": "oBAqARoBCQAIAAIAAgA="
         },
         "yaxis": "y",
         "type": "bar"
        }
       ],
       "layout": {
        "template": {
         "data": {
          "histogram2dcontour": [
           {
            "type": "histogram2dcontour",
            "colorbar": {
             "outlinewidth": 0,
             "ticks": ""
            },
            "colorscale": [
             [
              0.0,
              "#0d0887"
             ],
             [
              0.1111111111111111,
              "#46039f"
             ],
             [
              0.2222222222222222,
              "#7201a8"
             ],
             [
              0.3333333333333333,
              "#9c179e"
             ],
             [
              0.4444444444444444,
              "#bd3786"
             ],
             [
              0.5555555555555556,
              "#d8576b"
             ],
             [
              0.6666666666666666,
              "#ed7953"
             ],
             [
              0.7777777777777778,
              "#fb9f3a"
             ],
             [
              0.8888888888888888,
              "#fdca26"
             ],
             [
              1.0,
              "#f0f921"
             ]
            ]
           }
          ],
          "choropleth": [
           {
            "type": "choropleth",
            "colorbar": {
             "outlinewidth": 0,
             "ticks": ""
            }
           }
          ],
          "histogram2d": [
           {
            "type": "histogram2d",
            "colorbar": {
             "outlinewidth": 0,
             "ticks": ""
            },
            "colorscale": [
             [
              0.0,
              "#0d0887"
             ],
             [
              0.1111111111111111,
              "#46039f"
             ],
             [
              0.2222222222222222,
              "#7201a8"
             ],
             [
              0.3333333333333333,
              "#9c179e"
             ],
             [
              0.4444444444444444,
              "#bd3786"
             ],
             [
              0.5555555555555556,
              "#d8576b"
             ],
             [
              0.6666666666666666,
              "#ed7953"
             ],
             [
              0.7777777777777778,
              "#fb9f3a"
             ],
             [
              0.8888888888888888,
              "#fdca26"
             ],
             [
              1.0,
              "#f0f921"
             ]
            ]
           }
          ],
          "heatmap": [
           {
            "type": "heatmap",
            "colorbar": {
             "outlinewidth": 0,
             "ticks": ""
            },
            "colorscale": [
             [
              0.0,
              "#0d0887"
             ],
             [
              0.1111111111111111,
              "#46039f"
             ],
             [
              0.2222222222222222,
              "#7201a8"
             ],
             [
              0.3333333333333333,
              "#9c179e"
             ],
             [
              0.4444444444444444,
              "#bd3786"
             ],
             [
              0.5555555555555556,
              "#d8576b"
             ],
             [
              0.6666666666666666,
              "#ed7953"
             ],
             [
              0.7777777777777778,
              "#fb9f3a"
             ],
             [
              0.8888888888888888,
              "#fdca26"
             ],
             [
              1.0,
              "#f0f921"
             ]
            ]
           }
          ],
          "contourcarpet": [
           {
            "type": "contourcarpet",
            "colorbar": {
             "outlinewidth": 0,
             "ticks": ""
            }
           }
          ],
          "contour": [
           {
            "type": "contour",
            "colorbar": {
             "outlinewidth": 0,
             "ticks": ""
            },
            "colorscale": [
             [
              0.0,
              "#0d0887"
             ],
             [
              0.1111111111111111,
              "#46039f"
             ],
             [
              0.2222222222222222,
              "#7201a8"
             ],
             [
              0.3333333333333333,
              "#9c179e"
             ],
             [
              0.4444444444444444,
              "#bd3786"
             ],
             [
              0.5555555555555556,
              "#d8576b"
             ],
             [
              0.6666666666666666,
              "#ed7953"
             ],
             [
              0.7777777777777778,
              "#fb9f3a"
             ],
             [
              0.8888888888888888,
              "#fdca26"
             ],
             [
              1.0,
              "#f0f921"
             ]
            ]
           }
          ],
          "surface": [
           {
            "type": "surface",
            "colorbar": {
             "outlinewidth": 0,
             "ticks": ""
            },
            "colorscale": [
             [
              0.0,
              "#0d0887"
             ],
             [
              0.1111111111111111,
              "#46039f"
             ],
             [
              0.2222222222222222,
              "#7201a8"
             ],
             [
              0.3333333333333333,
              "#9c179e"
             ],
             [
              0.4444444444444444,
              "#bd3786"
             ],
             [
              0.5555555555555556,
              "#d8576b"
             ],
             [
              0.6666666666666666,
              "#ed7953"
             ],
             [
              0.7777777777777778,
              "#fb9f3a"
             ],
             [
              0.8888888888888888,
              "#fdca26"
             ],
             [
              1.0,
              "#f0f921"
             ]
            ]
           }
          ],
          "mesh3d": [
           {
            "type": "mesh3d",
            "colorbar": {
             "outlinewidth": 0,
             "ticks": ""
            }
           }
          ],
          "scatter": [
           {
            "marker": {
             "line": {
              "color": "#283442"
             }
            },
            "type": "scatter"
           }
          ],
          "parcoords": [
           {
            "type": "parcoords",
            "line": {
             "colorbar": {
              "outlinewidth": 0,
              "ticks": ""
             }
            }
           }
          ],
          "scatterpolargl": [
           {
            "type": "scatterpolargl",
            "marker": {
             "colorbar": {
              "outlinewidth": 0,
              "ticks": ""
             }
            }
           }
          ],
          "bar": [
           {
            "error_x": {
             "color": "#f2f5fa"
            },
            "error_y": {
             "color": "#f2f5fa"
            },
            "marker": {
             "line": {
              "color": "rgb(17,17,17)",
              "width": 0.5
             },
             "pattern": {
              "fillmode": "overlay",
              "size": 10,
              "solidity": 0.2
             }
            },
            "type": "bar"
           }
          ],
          "scattergeo": [
           {
            "type": "scattergeo",
            "marker": {
             "colorbar": {
              "outlinewidth": 0,
              "ticks": ""
             }
            }
           }
          ],
          "scatterpolar": [
           {
            "type": "scatterpolar",
            "marker": {
             "colorbar": {
              "outlinewidth": 0,
              "ticks": ""
             }
            }
           }
          ],
          "histogram": [
           {
            "marker": {
             "pattern": {
              "fillmode": "overlay",
              "size": 10,
              "solidity": 0.2
             }
            },
            "type": "histogram"
           }
          ],
          "scattergl": [
           {
            "marker": {
             "line": {
              "color": "#283442"
             }
            },
            "type": "scattergl"
           }
          ],
          "scatter3d": [
           {
            "type": "scatter3d",
            "line": {
             "colorbar": {
              "outlinewidth": 0,
              "ticks": ""
             }
            },
            "marker": {
             "colorbar": {
              "outlinewidth": 0,
              "ticks": ""
             }
            }
           }
          ],
          "scattermap": [
           {
            "type": "scattermap",
            "marker": {
             "colorbar": {
              "outlinewidth": 0,
              "ticks": ""
             }
            }
           }
          ],
          "scattermapbox": [
           {
            "type": "scattermapbox",
            "marker": {
             "colorbar": {
              "outlinewidth": 0,
              "ticks": ""
             }
            }
           }
          ],
          "scatterternary": [
           {
            "type": "scatterternary",
            "marker": {
             "colorbar": {
              "outlinewidth": 0,
              "ticks": ""
             }
            }
           }
          ],
          "scattercarpet": [
           {
            "type": "scattercarpet",
            "marker": {
             "colorbar": {
              "outlinewidth": 0,
              "ticks": ""
             }
            }
           }
          ],
          "carpet": [
           {
            "aaxis": {
             "endlinecolor": "#A2B1C6",
             "gridcolor": "#506784",
             "linecolor": "#506784",
             "minorgridcolor": "#506784",
             "startlinecolor": "#A2B1C6"
            },
            "baxis": {
             "endlinecolor": "#A2B1C6",
             "gridcolor": "#506784",
             "linecolor": "#506784",
             "minorgridcolor": "#506784",
             "startlinecolor": "#A2B1C6"
            },
            "type": "carpet"
           }
          ],
          "table": [
           {
            "cells": {
             "fill": {
              "color": "#506784"
             },
             "line": {
              "color": "rgb(17,17,17)"
             }
            },
            "header": {
             "fill": {
              "color": "#2a3f5f"
             },
             "line": {
              "color": "rgb(17,17,17)"
             }
            },
            "type": "table"
           }
          ],
          "barpolar": [
           {
            "marker": {
             "line": {
              "color": "rgb(17,17,17)",
              "width": 0.5
             },
             "pattern": {
              "fillmode": "overlay",
              "size": 10,
              "solidity": 0.2
             }
            },
            "type": "barpolar"
           }
          ],
          "pie": [
           {
            "automargin": true,
            "type": "pie"
           }
          ]
         },
         "layout": {
          "autotypenumbers": "strict",
          "colorway": [
           "#636efa",
           "#EF553B",
           "#00cc96",
           "#ab63fa",
           "#FFA15A",
           "#19d3f3",
           "#FF6692",
           "#B6E880",
           "#FF97FF",
           "#FECB52"
          ],
          "font": {
           "color": "#f2f5fa"
          },
          "hovermode": "closest",
          "hoverlabel": {
           "align": "left"
          },
          "paper_bgcolor": "rgb(17,17,17)",
          "plot_bgcolor": "rgb(17,17,17)",
          "polar": {
           "bgcolor": "rgb(17,17,17)",
           "angularaxis": {
            "gridcolor": "#506784",
            "linecolor": "#506784",
            "ticks": ""
           },
           "radialaxis": {
            "gridcolor": "#506784",
            "linecolor": "#506784",
            "ticks": ""
           }
          },
          "ternary": {
           "bgcolor": "rgb(17,17,17)",
           "aaxis": {
            "gridcolor": "#506784",
            "linecolor": "#506784",
            "ticks": ""
           },
           "baxis": {
            "gridcolor": "#506784",
            "linecolor": "#506784",
            "ticks": ""
           },
           "caxis": {
            "gridcolor": "#506784",
            "linecolor": "#506784",
            "ticks": ""
           }
          },
          "coloraxis": {
           "colorbar": {
            "outlinewidth": 0,
            "ticks": ""
           }
          },
          "colorscale": {
           "sequential": [
            [
             0.0,
             "#0d0887"
            ],
            [
             0.1111111111111111,
             "#46039f"
            ],
            [
             0.2222222222222222,
             "#7201a8"
            ],
            [
             0.3333333333333333,
             "#9c179e"
            ],
            [
             0.4444444444444444,
             "#bd3786"
            ],
            [
             0.5555555555555556,
             "#d8576b"
            ],
            [
             0.6666666666666666,
             "#ed7953"
            ],
            [
             0.7777777777777778,
             "#fb9f3a"
            ],
            [
             0.8888888888888888,
             "#fdca26"
            ],
            [
             1.0,
             "#f0f921"
            ]
           ],
           "sequentialminus": [
            [
             0.0,
             "#0d0887"
            ],
            [
             0.1111111111111111,
             "#46039f"
            ],
            [
             0.2222222222222222,
             "#7201a8"
            ],
            [
             0.3333333333333333,
             "#9c179e"
            ],
            [
             0.4444444444444444,
             "#bd3786"
            ],
            [
             0.5555555555555556,
             "#d8576b"
            ],
            [
             0.6666666666666666,
             "#ed7953"
            ],
            [
             0.7777777777777778,
             "#fb9f3a"
            ],
            [
             0.8888888888888888,
             "#fdca26"
            ],
            [
             1.0,
             "#f0f921"
            ]
           ],
           "diverging": [
            [
             0,
             "#8e0152"
            ],
            [
             0.1,
             "#c51b7d"
            ],
            [
             0.2,
             "#de77ae"
            ],
            [
             0.3,
             "#f1b6da"
            ],
            [
             0.4,
             "#fde0ef"
            ],
            [
             0.5,
             "#f7f7f7"
            ],
            [
             0.6,
             "#e6f5d0"
            ],
            [
             0.7,
             "#b8e186"
            ],
            [
             0.8,
             "#7fbc41"
            ],
            [
             0.9,
             "#4d9221"
            ],
            [
             1,
             "#276419"
            ]
           ]
          },
          "xaxis": {
           "gridcolor": "#283442",
           "linecolor": "#506784",
           "ticks": "",
           "title": {
            "standoff": 15
           },
           "zerolinecolor": "#283442",
           "automargin": true,
           "zerolinewidth": 2
          },
          "yaxis": {
           "gridcolor": "#283442",
           "linecolor": "#506784",
           "ticks": "",
           "title": {
            "standoff": 15
           },
           "zerolinecolor": "#283442",
           "automargin": true,
           "zerolinewidth": 2
          },
          "scene": {
           "xaxis": {
            "backgroundcolor": "rgb(17,17,17)",
            "gridcolor": "#506784",
            "linecolor": "#506784",
            "showbackground": true,
            "ticks": "",
            "zerolinecolor": "#C8D4E3",
            "gridwidth": 2
           },
           "yaxis": {
            "backgroundcolor": "rgb(17,17,17)",
            "gridcolor": "#506784",
            "linecolor": "#506784",
            "showbackground": true,
            "ticks": "",
            "zerolinecolor": "#C8D4E3",
            "gridwidth": 2
           },
           "zaxis": {
            "backgroundcolor": "rgb(17,17,17)",
            "gridcolor": "#506784",
            "linecolor": "#506784",
            "showbackground": true,
            "ticks": "",
            "zerolinecolor": "#C8D4E3",
            "gridwidth": 2
           }
          },
          "shapedefaults": {
           "line": {
            "color": "#f2f5fa"
           }
          },
          "annotationdefaults": {
           "arrowcolor": "#f2f5fa",
           "arrowhead": 0,
           "arrowwidth": 1
          },
          "geo": {
           "bgcolor": "rgb(17,17,17)",
           "landcolor": "rgb(17,17,17)",
           "subunitcolor": "#506784",
           "showland": true,
           "showlakes": true,
           "lakecolor": "rgb(17,17,17)"
          },
          "title": {
           "x": 0.05
          },
          "updatemenudefaults": {
           "bgcolor": "#506784",
           "borderwidth": 0
          },
          "sliderdefaults": {
           "bgcolor": "#C8D4E3",
           "borderwidth": 1,
           "bordercolor": "rgb(17,17,17)",
           "tickwidth": 0
          },
          "mapbox": {
           "style": "dark"
          }
         }
        },
        "xaxis": {
         "anchor": "y",
         "domain": [
          0.0,
          1.0
         ],
         "title": {
          "text": "Case Origin"
         }
        },
        "yaxis": {
         "anchor": "x",
         "domain": [
          0.0,
          1.0
         ],
         "title": {
          "text": "Number of Cases"
         }
        },
        "legend": {
         "tracegroupgap": 0
        },
        "title": {
         "text": "Distribution of Case Origin"
        },
        "barmode": "relative"
       },
       "config": {
        "plotlyServerURL": "https://plot.ly"
       }
      }
     },
     "metadata": {},
     "output_type": "display_data"
    }
   ],
   "execution_count": 27
  },
  {
   "metadata": {
    "ExecuteTime": {
     "end_time": "2025-07-04T14:41:11.373970Z",
     "start_time": "2025-07-04T14:41:11.209885Z"
    }
   },
   "cell_type": "code",
   "source": [
    "# 3. Top 10 Product Brands\n",
    "top_brands = df['Product: Brand'].value_counts().head(10).reset_index()\n",
    "top_brands.columns = ['Product Brand', 'Number of Cases']\n",
    "fig_brands = px.bar(top_brands, x='Number of Cases', y='Product Brand', orientation='h',\n",
    "                    title='Top 10 Product Brands by Case Count',\n",
    "                    color_discrete_sequence=px.colors.qualitative.Bold)\n",
    "fig_brands.update_layout(yaxis={'categoryorder':'total ascending'})\n",
    "fig_brands.show()"
   ],
   "id": "fbdfdeeaa339a5be",
   "outputs": [
    {
     "data": {
      "application/vnd.plotly.v1+json": {
       "data": [
        {
         "hovertemplate": "Number of Cases=%{x}<br>Product Brand=%{y}<extra></extra>",
         "legendgroup": "",
         "marker": {
          "color": "rgb(127, 60, 141)",
          "pattern": {
           "shape": ""
          }
         },
         "name": "",
         "orientation": "h",
         "showlegend": false,
         "textposition": "auto",
         "x": {
          "dtype": "i2",
          "bdata": "hBIiABgAEQAQAAoACgADAAEAAQA="
         },
         "xaxis": "x",
         "y": [
          "Unilever Corporate",
          "Close Up",
          "Knorr",
          "Vaseline",
          "Pepsodent",
          "Pears",
          "Sunlight",
          "Lux",
          "Annapurna",
          "Rexona Men"
         ],
         "yaxis": "y",
         "type": "bar"
        }
       ],
       "layout": {
        "template": {
         "data": {
          "histogram2dcontour": [
           {
            "type": "histogram2dcontour",
            "colorbar": {
             "outlinewidth": 0,
             "ticks": ""
            },
            "colorscale": [
             [
              0.0,
              "#0d0887"
             ],
             [
              0.1111111111111111,
              "#46039f"
             ],
             [
              0.2222222222222222,
              "#7201a8"
             ],
             [
              0.3333333333333333,
              "#9c179e"
             ],
             [
              0.4444444444444444,
              "#bd3786"
             ],
             [
              0.5555555555555556,
              "#d8576b"
             ],
             [
              0.6666666666666666,
              "#ed7953"
             ],
             [
              0.7777777777777778,
              "#fb9f3a"
             ],
             [
              0.8888888888888888,
              "#fdca26"
             ],
             [
              1.0,
              "#f0f921"
             ]
            ]
           }
          ],
          "choropleth": [
           {
            "type": "choropleth",
            "colorbar": {
             "outlinewidth": 0,
             "ticks": ""
            }
           }
          ],
          "histogram2d": [
           {
            "type": "histogram2d",
            "colorbar": {
             "outlinewidth": 0,
             "ticks": ""
            },
            "colorscale": [
             [
              0.0,
              "#0d0887"
             ],
             [
              0.1111111111111111,
              "#46039f"
             ],
             [
              0.2222222222222222,
              "#7201a8"
             ],
             [
              0.3333333333333333,
              "#9c179e"
             ],
             [
              0.4444444444444444,
              "#bd3786"
             ],
             [
              0.5555555555555556,
              "#d8576b"
             ],
             [
              0.6666666666666666,
              "#ed7953"
             ],
             [
              0.7777777777777778,
              "#fb9f3a"
             ],
             [
              0.8888888888888888,
              "#fdca26"
             ],
             [
              1.0,
              "#f0f921"
             ]
            ]
           }
          ],
          "heatmap": [
           {
            "type": "heatmap",
            "colorbar": {
             "outlinewidth": 0,
             "ticks": ""
            },
            "colorscale": [
             [
              0.0,
              "#0d0887"
             ],
             [
              0.1111111111111111,
              "#46039f"
             ],
             [
              0.2222222222222222,
              "#7201a8"
             ],
             [
              0.3333333333333333,
              "#9c179e"
             ],
             [
              0.4444444444444444,
              "#bd3786"
             ],
             [
              0.5555555555555556,
              "#d8576b"
             ],
             [
              0.6666666666666666,
              "#ed7953"
             ],
             [
              0.7777777777777778,
              "#fb9f3a"
             ],
             [
              0.8888888888888888,
              "#fdca26"
             ],
             [
              1.0,
              "#f0f921"
             ]
            ]
           }
          ],
          "contourcarpet": [
           {
            "type": "contourcarpet",
            "colorbar": {
             "outlinewidth": 0,
             "ticks": ""
            }
           }
          ],
          "contour": [
           {
            "type": "contour",
            "colorbar": {
             "outlinewidth": 0,
             "ticks": ""
            },
            "colorscale": [
             [
              0.0,
              "#0d0887"
             ],
             [
              0.1111111111111111,
              "#46039f"
             ],
             [
              0.2222222222222222,
              "#7201a8"
             ],
             [
              0.3333333333333333,
              "#9c179e"
             ],
             [
              0.4444444444444444,
              "#bd3786"
             ],
             [
              0.5555555555555556,
              "#d8576b"
             ],
             [
              0.6666666666666666,
              "#ed7953"
             ],
             [
              0.7777777777777778,
              "#fb9f3a"
             ],
             [
              0.8888888888888888,
              "#fdca26"
             ],
             [
              1.0,
              "#f0f921"
             ]
            ]
           }
          ],
          "surface": [
           {
            "type": "surface",
            "colorbar": {
             "outlinewidth": 0,
             "ticks": ""
            },
            "colorscale": [
             [
              0.0,
              "#0d0887"
             ],
             [
              0.1111111111111111,
              "#46039f"
             ],
             [
              0.2222222222222222,
              "#7201a8"
             ],
             [
              0.3333333333333333,
              "#9c179e"
             ],
             [
              0.4444444444444444,
              "#bd3786"
             ],
             [
              0.5555555555555556,
              "#d8576b"
             ],
             [
              0.6666666666666666,
              "#ed7953"
             ],
             [
              0.7777777777777778,
              "#fb9f3a"
             ],
             [
              0.8888888888888888,
              "#fdca26"
             ],
             [
              1.0,
              "#f0f921"
             ]
            ]
           }
          ],
          "mesh3d": [
           {
            "type": "mesh3d",
            "colorbar": {
             "outlinewidth": 0,
             "ticks": ""
            }
           }
          ],
          "scatter": [
           {
            "marker": {
             "line": {
              "color": "#283442"
             }
            },
            "type": "scatter"
           }
          ],
          "parcoords": [
           {
            "type": "parcoords",
            "line": {
             "colorbar": {
              "outlinewidth": 0,
              "ticks": ""
             }
            }
           }
          ],
          "scatterpolargl": [
           {
            "type": "scatterpolargl",
            "marker": {
             "colorbar": {
              "outlinewidth": 0,
              "ticks": ""
             }
            }
           }
          ],
          "bar": [
           {
            "error_x": {
             "color": "#f2f5fa"
            },
            "error_y": {
             "color": "#f2f5fa"
            },
            "marker": {
             "line": {
              "color": "rgb(17,17,17)",
              "width": 0.5
             },
             "pattern": {
              "fillmode": "overlay",
              "size": 10,
              "solidity": 0.2
             }
            },
            "type": "bar"
           }
          ],
          "scattergeo": [
           {
            "type": "scattergeo",
            "marker": {
             "colorbar": {
              "outlinewidth": 0,
              "ticks": ""
             }
            }
           }
          ],
          "scatterpolar": [
           {
            "type": "scatterpolar",
            "marker": {
             "colorbar": {
              "outlinewidth": 0,
              "ticks": ""
             }
            }
           }
          ],
          "histogram": [
           {
            "marker": {
             "pattern": {
              "fillmode": "overlay",
              "size": 10,
              "solidity": 0.2
             }
            },
            "type": "histogram"
           }
          ],
          "scattergl": [
           {
            "marker": {
             "line": {
              "color": "#283442"
             }
            },
            "type": "scattergl"
           }
          ],
          "scatter3d": [
           {
            "type": "scatter3d",
            "line": {
             "colorbar": {
              "outlinewidth": 0,
              "ticks": ""
             }
            },
            "marker": {
             "colorbar": {
              "outlinewidth": 0,
              "ticks": ""
             }
            }
           }
          ],
          "scattermap": [
           {
            "type": "scattermap",
            "marker": {
             "colorbar": {
              "outlinewidth": 0,
              "ticks": ""
             }
            }
           }
          ],
          "scattermapbox": [
           {
            "type": "scattermapbox",
            "marker": {
             "colorbar": {
              "outlinewidth": 0,
              "ticks": ""
             }
            }
           }
          ],
          "scatterternary": [
           {
            "type": "scatterternary",
            "marker": {
             "colorbar": {
              "outlinewidth": 0,
              "ticks": ""
             }
            }
           }
          ],
          "scattercarpet": [
           {
            "type": "scattercarpet",
            "marker": {
             "colorbar": {
              "outlinewidth": 0,
              "ticks": ""
             }
            }
           }
          ],
          "carpet": [
           {
            "aaxis": {
             "endlinecolor": "#A2B1C6",
             "gridcolor": "#506784",
             "linecolor": "#506784",
             "minorgridcolor": "#506784",
             "startlinecolor": "#A2B1C6"
            },
            "baxis": {
             "endlinecolor": "#A2B1C6",
             "gridcolor": "#506784",
             "linecolor": "#506784",
             "minorgridcolor": "#506784",
             "startlinecolor": "#A2B1C6"
            },
            "type": "carpet"
           }
          ],
          "table": [
           {
            "cells": {
             "fill": {
              "color": "#506784"
             },
             "line": {
              "color": "rgb(17,17,17)"
             }
            },
            "header": {
             "fill": {
              "color": "#2a3f5f"
             },
             "line": {
              "color": "rgb(17,17,17)"
             }
            },
            "type": "table"
           }
          ],
          "barpolar": [
           {
            "marker": {
             "line": {
              "color": "rgb(17,17,17)",
              "width": 0.5
             },
             "pattern": {
              "fillmode": "overlay",
              "size": 10,
              "solidity": 0.2
             }
            },
            "type": "barpolar"
           }
          ],
          "pie": [
           {
            "automargin": true,
            "type": "pie"
           }
          ]
         },
         "layout": {
          "autotypenumbers": "strict",
          "colorway": [
           "#636efa",
           "#EF553B",
           "#00cc96",
           "#ab63fa",
           "#FFA15A",
           "#19d3f3",
           "#FF6692",
           "#B6E880",
           "#FF97FF",
           "#FECB52"
          ],
          "font": {
           "color": "#f2f5fa"
          },
          "hovermode": "closest",
          "hoverlabel": {
           "align": "left"
          },
          "paper_bgcolor": "rgb(17,17,17)",
          "plot_bgcolor": "rgb(17,17,17)",
          "polar": {
           "bgcolor": "rgb(17,17,17)",
           "angularaxis": {
            "gridcolor": "#506784",
            "linecolor": "#506784",
            "ticks": ""
           },
           "radialaxis": {
            "gridcolor": "#506784",
            "linecolor": "#506784",
            "ticks": ""
           }
          },
          "ternary": {
           "bgcolor": "rgb(17,17,17)",
           "aaxis": {
            "gridcolor": "#506784",
            "linecolor": "#506784",
            "ticks": ""
           },
           "baxis": {
            "gridcolor": "#506784",
            "linecolor": "#506784",
            "ticks": ""
           },
           "caxis": {
            "gridcolor": "#506784",
            "linecolor": "#506784",
            "ticks": ""
           }
          },
          "coloraxis": {
           "colorbar": {
            "outlinewidth": 0,
            "ticks": ""
           }
          },
          "colorscale": {
           "sequential": [
            [
             0.0,
             "#0d0887"
            ],
            [
             0.1111111111111111,
             "#46039f"
            ],
            [
             0.2222222222222222,
             "#7201a8"
            ],
            [
             0.3333333333333333,
             "#9c179e"
            ],
            [
             0.4444444444444444,
             "#bd3786"
            ],
            [
             0.5555555555555556,
             "#d8576b"
            ],
            [
             0.6666666666666666,
             "#ed7953"
            ],
            [
             0.7777777777777778,
             "#fb9f3a"
            ],
            [
             0.8888888888888888,
             "#fdca26"
            ],
            [
             1.0,
             "#f0f921"
            ]
           ],
           "sequentialminus": [
            [
             0.0,
             "#0d0887"
            ],
            [
             0.1111111111111111,
             "#46039f"
            ],
            [
             0.2222222222222222,
             "#7201a8"
            ],
            [
             0.3333333333333333,
             "#9c179e"
            ],
            [
             0.4444444444444444,
             "#bd3786"
            ],
            [
             0.5555555555555556,
             "#d8576b"
            ],
            [
             0.6666666666666666,
             "#ed7953"
            ],
            [
             0.7777777777777778,
             "#fb9f3a"
            ],
            [
             0.8888888888888888,
             "#fdca26"
            ],
            [
             1.0,
             "#f0f921"
            ]
           ],
           "diverging": [
            [
             0,
             "#8e0152"
            ],
            [
             0.1,
             "#c51b7d"
            ],
            [
             0.2,
             "#de77ae"
            ],
            [
             0.3,
             "#f1b6da"
            ],
            [
             0.4,
             "#fde0ef"
            ],
            [
             0.5,
             "#f7f7f7"
            ],
            [
             0.6,
             "#e6f5d0"
            ],
            [
             0.7,
             "#b8e186"
            ],
            [
             0.8,
             "#7fbc41"
            ],
            [
             0.9,
             "#4d9221"
            ],
            [
             1,
             "#276419"
            ]
           ]
          },
          "xaxis": {
           "gridcolor": "#283442",
           "linecolor": "#506784",
           "ticks": "",
           "title": {
            "standoff": 15
           },
           "zerolinecolor": "#283442",
           "automargin": true,
           "zerolinewidth": 2
          },
          "yaxis": {
           "gridcolor": "#283442",
           "linecolor": "#506784",
           "ticks": "",
           "title": {
            "standoff": 15
           },
           "zerolinecolor": "#283442",
           "automargin": true,
           "zerolinewidth": 2
          },
          "scene": {
           "xaxis": {
            "backgroundcolor": "rgb(17,17,17)",
            "gridcolor": "#506784",
            "linecolor": "#506784",
            "showbackground": true,
            "ticks": "",
            "zerolinecolor": "#C8D4E3",
            "gridwidth": 2
           },
           "yaxis": {
            "backgroundcolor": "rgb(17,17,17)",
            "gridcolor": "#506784",
            "linecolor": "#506784",
            "showbackground": true,
            "ticks": "",
            "zerolinecolor": "#C8D4E3",
            "gridwidth": 2
           },
           "zaxis": {
            "backgroundcolor": "rgb(17,17,17)",
            "gridcolor": "#506784",
            "linecolor": "#506784",
            "showbackground": true,
            "ticks": "",
            "zerolinecolor": "#C8D4E3",
            "gridwidth": 2
           }
          },
          "shapedefaults": {
           "line": {
            "color": "#f2f5fa"
           }
          },
          "annotationdefaults": {
           "arrowcolor": "#f2f5fa",
           "arrowhead": 0,
           "arrowwidth": 1
          },
          "geo": {
           "bgcolor": "rgb(17,17,17)",
           "landcolor": "rgb(17,17,17)",
           "subunitcolor": "#506784",
           "showland": true,
           "showlakes": true,
           "lakecolor": "rgb(17,17,17)"
          },
          "title": {
           "x": 0.05
          },
          "updatemenudefaults": {
           "bgcolor": "#506784",
           "borderwidth": 0
          },
          "sliderdefaults": {
           "bgcolor": "#C8D4E3",
           "borderwidth": 1,
           "bordercolor": "rgb(17,17,17)",
           "tickwidth": 0
          },
          "mapbox": {
           "style": "dark"
          }
         }
        },
        "xaxis": {
         "anchor": "y",
         "domain": [
          0.0,
          1.0
         ],
         "title": {
          "text": "Number of Cases"
         }
        },
        "yaxis": {
         "anchor": "x",
         "domain": [
          0.0,
          1.0
         ],
         "title": {
          "text": "Product Brand"
         },
         "categoryorder": "total ascending"
        },
        "legend": {
         "tracegroupgap": 0
        },
        "title": {
         "text": "Top 10 Product Brands by Case Count"
        },
        "barmode": "relative"
       },
       "config": {
        "plotlyServerURL": "https://plot.ly"
       }
      }
     },
     "metadata": {},
     "output_type": "display_data"
    }
   ],
   "execution_count": 28
  },
  {
   "metadata": {
    "ExecuteTime": {
     "end_time": "2025-07-04T14:41:22.377182Z",
     "start_time": "2025-07-04T14:41:22.201895Z"
    }
   },
   "cell_type": "code",
   "source": [
    "# 4. Top 10 Reasons L1 desc\n",
    "top_reasons = df['Reason L1 desc'].value_counts().head(10).reset_index()\n",
    "top_reasons.columns = ['Reason L1 Description', 'Number of Cases']\n",
    "fig_reasons = px.bar(top_reasons, x='Number of Cases', y='Reason L1 Description', orientation='h',\n",
    "                     title='Top 10 Reasons L1 Description by Case Count',\n",
    "                     color_discrete_sequence=px.colors.qualitative.Dark24)\n",
    "fig_reasons.update_layout(yaxis={'categoryorder':'total ascending'})\n",
    "fig_reasons.show()"
   ],
   "id": "f76faf37b8064d11",
   "outputs": [
    {
     "data": {
      "application/vnd.plotly.v1+json": {
       "data": [
        {
         "hovertemplate": "Number of Cases=%{x}<br>Reason L1 Description=%{y}<extra></extra>",
         "legendgroup": "",
         "marker": {
          "color": "#2E91E5",
          "pattern": {
           "shape": ""
          }
         },
         "name": "",
         "orientation": "h",
         "showlegend": false,
         "textposition": "auto",
         "x": {
          "dtype": "i2",
          "bdata": "GBCmAh4AGQADAA=="
         },
         "xaxis": "x",
         "y": [
          "Others",
          "Queries",
          "Praises",
          "Complaints",
          "Suggestions"
         ],
         "yaxis": "y",
         "type": "bar"
        }
       ],
       "layout": {
        "template": {
         "data": {
          "histogram2dcontour": [
           {
            "type": "histogram2dcontour",
            "colorbar": {
             "outlinewidth": 0,
             "ticks": ""
            },
            "colorscale": [
             [
              0.0,
              "#0d0887"
             ],
             [
              0.1111111111111111,
              "#46039f"
             ],
             [
              0.2222222222222222,
              "#7201a8"
             ],
             [
              0.3333333333333333,
              "#9c179e"
             ],
             [
              0.4444444444444444,
              "#bd3786"
             ],
             [
              0.5555555555555556,
              "#d8576b"
             ],
             [
              0.6666666666666666,
              "#ed7953"
             ],
             [
              0.7777777777777778,
              "#fb9f3a"
             ],
             [
              0.8888888888888888,
              "#fdca26"
             ],
             [
              1.0,
              "#f0f921"
             ]
            ]
           }
          ],
          "choropleth": [
           {
            "type": "choropleth",
            "colorbar": {
             "outlinewidth": 0,
             "ticks": ""
            }
           }
          ],
          "histogram2d": [
           {
            "type": "histogram2d",
            "colorbar": {
             "outlinewidth": 0,
             "ticks": ""
            },
            "colorscale": [
             [
              0.0,
              "#0d0887"
             ],
             [
              0.1111111111111111,
              "#46039f"
             ],
             [
              0.2222222222222222,
              "#7201a8"
             ],
             [
              0.3333333333333333,
              "#9c179e"
             ],
             [
              0.4444444444444444,
              "#bd3786"
             ],
             [
              0.5555555555555556,
              "#d8576b"
             ],
             [
              0.6666666666666666,
              "#ed7953"
             ],
             [
              0.7777777777777778,
              "#fb9f3a"
             ],
             [
              0.8888888888888888,
              "#fdca26"
             ],
             [
              1.0,
              "#f0f921"
             ]
            ]
           }
          ],
          "heatmap": [
           {
            "type": "heatmap",
            "colorbar": {
             "outlinewidth": 0,
             "ticks": ""
            },
            "colorscale": [
             [
              0.0,
              "#0d0887"
             ],
             [
              0.1111111111111111,
              "#46039f"
             ],
             [
              0.2222222222222222,
              "#7201a8"
             ],
             [
              0.3333333333333333,
              "#9c179e"
             ],
             [
              0.4444444444444444,
              "#bd3786"
             ],
             [
              0.5555555555555556,
              "#d8576b"
             ],
             [
              0.6666666666666666,
              "#ed7953"
             ],
             [
              0.7777777777777778,
              "#fb9f3a"
             ],
             [
              0.8888888888888888,
              "#fdca26"
             ],
             [
              1.0,
              "#f0f921"
             ]
            ]
           }
          ],
          "contourcarpet": [
           {
            "type": "contourcarpet",
            "colorbar": {
             "outlinewidth": 0,
             "ticks": ""
            }
           }
          ],
          "contour": [
           {
            "type": "contour",
            "colorbar": {
             "outlinewidth": 0,
             "ticks": ""
            },
            "colorscale": [
             [
              0.0,
              "#0d0887"
             ],
             [
              0.1111111111111111,
              "#46039f"
             ],
             [
              0.2222222222222222,
              "#7201a8"
             ],
             [
              0.3333333333333333,
              "#9c179e"
             ],
             [
              0.4444444444444444,
              "#bd3786"
             ],
             [
              0.5555555555555556,
              "#d8576b"
             ],
             [
              0.6666666666666666,
              "#ed7953"
             ],
             [
              0.7777777777777778,
              "#fb9f3a"
             ],
             [
              0.8888888888888888,
              "#fdca26"
             ],
             [
              1.0,
              "#f0f921"
             ]
            ]
           }
          ],
          "surface": [
           {
            "type": "surface",
            "colorbar": {
             "outlinewidth": 0,
             "ticks": ""
            },
            "colorscale": [
             [
              0.0,
              "#0d0887"
             ],
             [
              0.1111111111111111,
              "#46039f"
             ],
             [
              0.2222222222222222,
              "#7201a8"
             ],
             [
              0.3333333333333333,
              "#9c179e"
             ],
             [
              0.4444444444444444,
              "#bd3786"
             ],
             [
              0.5555555555555556,
              "#d8576b"
             ],
             [
              0.6666666666666666,
              "#ed7953"
             ],
             [
              0.7777777777777778,
              "#fb9f3a"
             ],
             [
              0.8888888888888888,
              "#fdca26"
             ],
             [
              1.0,
              "#f0f921"
             ]
            ]
           }
          ],
          "mesh3d": [
           {
            "type": "mesh3d",
            "colorbar": {
             "outlinewidth": 0,
             "ticks": ""
            }
           }
          ],
          "scatter": [
           {
            "marker": {
             "line": {
              "color": "#283442"
             }
            },
            "type": "scatter"
           }
          ],
          "parcoords": [
           {
            "type": "parcoords",
            "line": {
             "colorbar": {
              "outlinewidth": 0,
              "ticks": ""
             }
            }
           }
          ],
          "scatterpolargl": [
           {
            "type": "scatterpolargl",
            "marker": {
             "colorbar": {
              "outlinewidth": 0,
              "ticks": ""
             }
            }
           }
          ],
          "bar": [
           {
            "error_x": {
             "color": "#f2f5fa"
            },
            "error_y": {
             "color": "#f2f5fa"
            },
            "marker": {
             "line": {
              "color": "rgb(17,17,17)",
              "width": 0.5
             },
             "pattern": {
              "fillmode": "overlay",
              "size": 10,
              "solidity": 0.2
             }
            },
            "type": "bar"
           }
          ],
          "scattergeo": [
           {
            "type": "scattergeo",
            "marker": {
             "colorbar": {
              "outlinewidth": 0,
              "ticks": ""
             }
            }
           }
          ],
          "scatterpolar": [
           {
            "type": "scatterpolar",
            "marker": {
             "colorbar": {
              "outlinewidth": 0,
              "ticks": ""
             }
            }
           }
          ],
          "histogram": [
           {
            "marker": {
             "pattern": {
              "fillmode": "overlay",
              "size": 10,
              "solidity": 0.2
             }
            },
            "type": "histogram"
           }
          ],
          "scattergl": [
           {
            "marker": {
             "line": {
              "color": "#283442"
             }
            },
            "type": "scattergl"
           }
          ],
          "scatter3d": [
           {
            "type": "scatter3d",
            "line": {
             "colorbar": {
              "outlinewidth": 0,
              "ticks": ""
             }
            },
            "marker": {
             "colorbar": {
              "outlinewidth": 0,
              "ticks": ""
             }
            }
           }
          ],
          "scattermap": [
           {
            "type": "scattermap",
            "marker": {
             "colorbar": {
              "outlinewidth": 0,
              "ticks": ""
             }
            }
           }
          ],
          "scattermapbox": [
           {
            "type": "scattermapbox",
            "marker": {
             "colorbar": {
              "outlinewidth": 0,
              "ticks": ""
             }
            }
           }
          ],
          "scatterternary": [
           {
            "type": "scatterternary",
            "marker": {
             "colorbar": {
              "outlinewidth": 0,
              "ticks": ""
             }
            }
           }
          ],
          "scattercarpet": [
           {
            "type": "scattercarpet",
            "marker": {
             "colorbar": {
              "outlinewidth": 0,
              "ticks": ""
             }
            }
           }
          ],
          "carpet": [
           {
            "aaxis": {
             "endlinecolor": "#A2B1C6",
             "gridcolor": "#506784",
             "linecolor": "#506784",
             "minorgridcolor": "#506784",
             "startlinecolor": "#A2B1C6"
            },
            "baxis": {
             "endlinecolor": "#A2B1C6",
             "gridcolor": "#506784",
             "linecolor": "#506784",
             "minorgridcolor": "#506784",
             "startlinecolor": "#A2B1C6"
            },
            "type": "carpet"
           }
          ],
          "table": [
           {
            "cells": {
             "fill": {
              "color": "#506784"
             },
             "line": {
              "color": "rgb(17,17,17)"
             }
            },
            "header": {
             "fill": {
              "color": "#2a3f5f"
             },
             "line": {
              "color": "rgb(17,17,17)"
             }
            },
            "type": "table"
           }
          ],
          "barpolar": [
           {
            "marker": {
             "line": {
              "color": "rgb(17,17,17)",
              "width": 0.5
             },
             "pattern": {
              "fillmode": "overlay",
              "size": 10,
              "solidity": 0.2
             }
            },
            "type": "barpolar"
           }
          ],
          "pie": [
           {
            "automargin": true,
            "type": "pie"
           }
          ]
         },
         "layout": {
          "autotypenumbers": "strict",
          "colorway": [
           "#636efa",
           "#EF553B",
           "#00cc96",
           "#ab63fa",
           "#FFA15A",
           "#19d3f3",
           "#FF6692",
           "#B6E880",
           "#FF97FF",
           "#FECB52"
          ],
          "font": {
           "color": "#f2f5fa"
          },
          "hovermode": "closest",
          "hoverlabel": {
           "align": "left"
          },
          "paper_bgcolor": "rgb(17,17,17)",
          "plot_bgcolor": "rgb(17,17,17)",
          "polar": {
           "bgcolor": "rgb(17,17,17)",
           "angularaxis": {
            "gridcolor": "#506784",
            "linecolor": "#506784",
            "ticks": ""
           },
           "radialaxis": {
            "gridcolor": "#506784",
            "linecolor": "#506784",
            "ticks": ""
           }
          },
          "ternary": {
           "bgcolor": "rgb(17,17,17)",
           "aaxis": {
            "gridcolor": "#506784",
            "linecolor": "#506784",
            "ticks": ""
           },
           "baxis": {
            "gridcolor": "#506784",
            "linecolor": "#506784",
            "ticks": ""
           },
           "caxis": {
            "gridcolor": "#506784",
            "linecolor": "#506784",
            "ticks": ""
           }
          },
          "coloraxis": {
           "colorbar": {
            "outlinewidth": 0,
            "ticks": ""
           }
          },
          "colorscale": {
           "sequential": [
            [
             0.0,
             "#0d0887"
            ],
            [
             0.1111111111111111,
             "#46039f"
            ],
            [
             0.2222222222222222,
             "#7201a8"
            ],
            [
             0.3333333333333333,
             "#9c179e"
            ],
            [
             0.4444444444444444,
             "#bd3786"
            ],
            [
             0.5555555555555556,
             "#d8576b"
            ],
            [
             0.6666666666666666,
             "#ed7953"
            ],
            [
             0.7777777777777778,
             "#fb9f3a"
            ],
            [
             0.8888888888888888,
             "#fdca26"
            ],
            [
             1.0,
             "#f0f921"
            ]
           ],
           "sequentialminus": [
            [
             0.0,
             "#0d0887"
            ],
            [
             0.1111111111111111,
             "#46039f"
            ],
            [
             0.2222222222222222,
             "#7201a8"
            ],
            [
             0.3333333333333333,
             "#9c179e"
            ],
            [
             0.4444444444444444,
             "#bd3786"
            ],
            [
             0.5555555555555556,
             "#d8576b"
            ],
            [
             0.6666666666666666,
             "#ed7953"
            ],
            [
             0.7777777777777778,
             "#fb9f3a"
            ],
            [
             0.8888888888888888,
             "#fdca26"
            ],
            [
             1.0,
             "#f0f921"
            ]
           ],
           "diverging": [
            [
             0,
             "#8e0152"
            ],
            [
             0.1,
             "#c51b7d"
            ],
            [
             0.2,
             "#de77ae"
            ],
            [
             0.3,
             "#f1b6da"
            ],
            [
             0.4,
             "#fde0ef"
            ],
            [
             0.5,
             "#f7f7f7"
            ],
            [
             0.6,
             "#e6f5d0"
            ],
            [
             0.7,
             "#b8e186"
            ],
            [
             0.8,
             "#7fbc41"
            ],
            [
             0.9,
             "#4d9221"
            ],
            [
             1,
             "#276419"
            ]
           ]
          },
          "xaxis": {
           "gridcolor": "#283442",
           "linecolor": "#506784",
           "ticks": "",
           "title": {
            "standoff": 15
           },
           "zerolinecolor": "#283442",
           "automargin": true,
           "zerolinewidth": 2
          },
          "yaxis": {
           "gridcolor": "#283442",
           "linecolor": "#506784",
           "ticks": "",
           "title": {
            "standoff": 15
           },
           "zerolinecolor": "#283442",
           "automargin": true,
           "zerolinewidth": 2
          },
          "scene": {
           "xaxis": {
            "backgroundcolor": "rgb(17,17,17)",
            "gridcolor": "#506784",
            "linecolor": "#506784",
            "showbackground": true,
            "ticks": "",
            "zerolinecolor": "#C8D4E3",
            "gridwidth": 2
           },
           "yaxis": {
            "backgroundcolor": "rgb(17,17,17)",
            "gridcolor": "#506784",
            "linecolor": "#506784",
            "showbackground": true,
            "ticks": "",
            "zerolinecolor": "#C8D4E3",
            "gridwidth": 2
           },
           "zaxis": {
            "backgroundcolor": "rgb(17,17,17)",
            "gridcolor": "#506784",
            "linecolor": "#506784",
            "showbackground": true,
            "ticks": "",
            "zerolinecolor": "#C8D4E3",
            "gridwidth": 2
           }
          },
          "shapedefaults": {
           "line": {
            "color": "#f2f5fa"
           }
          },
          "annotationdefaults": {
           "arrowcolor": "#f2f5fa",
           "arrowhead": 0,
           "arrowwidth": 1
          },
          "geo": {
           "bgcolor": "rgb(17,17,17)",
           "landcolor": "rgb(17,17,17)",
           "subunitcolor": "#506784",
           "showland": true,
           "showlakes": true,
           "lakecolor": "rgb(17,17,17)"
          },
          "title": {
           "x": 0.05
          },
          "updatemenudefaults": {
           "bgcolor": "#506784",
           "borderwidth": 0
          },
          "sliderdefaults": {
           "bgcolor": "#C8D4E3",
           "borderwidth": 1,
           "bordercolor": "rgb(17,17,17)",
           "tickwidth": 0
          },
          "mapbox": {
           "style": "dark"
          }
         }
        },
        "xaxis": {
         "anchor": "y",
         "domain": [
          0.0,
          1.0
         ],
         "title": {
          "text": "Number of Cases"
         }
        },
        "yaxis": {
         "anchor": "x",
         "domain": [
          0.0,
          1.0
         ],
         "title": {
          "text": "Reason L1 Description"
         },
         "categoryorder": "total ascending"
        },
        "legend": {
         "tracegroupgap": 0
        },
        "title": {
         "text": "Top 10 Reasons L1 Description by Case Count"
        },
        "barmode": "relative"
       },
       "config": {
        "plotlyServerURL": "https://plot.ly"
       }
      }
     },
     "metadata": {},
     "output_type": "display_data"
    }
   ],
   "execution_count": 29
  },
  {
   "metadata": {
    "ExecuteTime": {
     "end_time": "2025-07-04T14:41:45.172931Z",
     "start_time": "2025-07-04T14:41:44.971363Z"
    }
   },
   "cell_type": "code",
   "source": [
    "# 5. Cases Over Time (Monthly Trend)\n",
    "df['YearMonth'] = df['Opened Date'].dt.to_period('M').astype(str)\n",
    "monthly_cases = df.groupby('YearMonth').size().reset_index(name='Number of Cases')\n",
    "monthly_cases['YearMonth'] = pd.to_datetime(monthly_cases['YearMonth']) # Convert back for proper sorting\n",
    "monthly_cases = monthly_cases.sort_values('YearMonth')\n",
    "\n",
    "fig_time = px.line(monthly_cases, x='YearMonth', y='Number of Cases',\n",
    "                   title='Monthly Trend of Cases Over Time',\n",
    "                   markers=True)\n",
    "fig_time.update_xaxes(dtick=\"M1\", tickformat=\"%b\\n%Y\")\n",
    "fig_time.show()"
   ],
   "id": "bc36d07abd9cc5be",
   "outputs": [
    {
     "data": {
      "application/vnd.plotly.v1+json": {
       "data": [
        {
         "hovertemplate": "YearMonth=%{x}<br>Number of Cases=%{y}<extra></extra>",
         "legendgroup": "",
         "line": {
          "color": "#636efa",
          "dash": "solid"
         },
         "marker": {
          "symbol": "circle"
         },
         "mode": "lines+markers",
         "name": "",
         "orientation": "v",
         "showlegend": false,
         "x": [
          "2024-01-01T00:00:00.000000000",
          "2024-02-01T00:00:00.000000000",
          "2024-03-01T00:00:00.000000000",
          "2024-04-01T00:00:00.000000000",
          "2024-05-01T00:00:00.000000000",
          "2024-06-01T00:00:00.000000000",
          "2024-07-01T00:00:00.000000000",
          "2024-08-01T00:00:00.000000000",
          "2024-09-01T00:00:00.000000000",
          "2024-10-01T00:00:00.000000000",
          "2024-11-01T00:00:00.000000000",
          "2024-12-01T00:00:00.000000000"
         ],
         "xaxis": "x",
         "y": {
          "dtype": "i2",
          "bdata": "kgGhAZoBkQG4AXoBdAF0AaYBeAFsAfcB"
         },
         "yaxis": "y",
         "type": "scatter"
        }
       ],
       "layout": {
        "template": {
         "data": {
          "histogram2dcontour": [
           {
            "type": "histogram2dcontour",
            "colorbar": {
             "outlinewidth": 0,
             "ticks": ""
            },
            "colorscale": [
             [
              0.0,
              "#0d0887"
             ],
             [
              0.1111111111111111,
              "#46039f"
             ],
             [
              0.2222222222222222,
              "#7201a8"
             ],
             [
              0.3333333333333333,
              "#9c179e"
             ],
             [
              0.4444444444444444,
              "#bd3786"
             ],
             [
              0.5555555555555556,
              "#d8576b"
             ],
             [
              0.6666666666666666,
              "#ed7953"
             ],
             [
              0.7777777777777778,
              "#fb9f3a"
             ],
             [
              0.8888888888888888,
              "#fdca26"
             ],
             [
              1.0,
              "#f0f921"
             ]
            ]
           }
          ],
          "choropleth": [
           {
            "type": "choropleth",
            "colorbar": {
             "outlinewidth": 0,
             "ticks": ""
            }
           }
          ],
          "histogram2d": [
           {
            "type": "histogram2d",
            "colorbar": {
             "outlinewidth": 0,
             "ticks": ""
            },
            "colorscale": [
             [
              0.0,
              "#0d0887"
             ],
             [
              0.1111111111111111,
              "#46039f"
             ],
             [
              0.2222222222222222,
              "#7201a8"
             ],
             [
              0.3333333333333333,
              "#9c179e"
             ],
             [
              0.4444444444444444,
              "#bd3786"
             ],
             [
              0.5555555555555556,
              "#d8576b"
             ],
             [
              0.6666666666666666,
              "#ed7953"
             ],
             [
              0.7777777777777778,
              "#fb9f3a"
             ],
             [
              0.8888888888888888,
              "#fdca26"
             ],
             [
              1.0,
              "#f0f921"
             ]
            ]
           }
          ],
          "heatmap": [
           {
            "type": "heatmap",
            "colorbar": {
             "outlinewidth": 0,
             "ticks": ""
            },
            "colorscale": [
             [
              0.0,
              "#0d0887"
             ],
             [
              0.1111111111111111,
              "#46039f"
             ],
             [
              0.2222222222222222,
              "#7201a8"
             ],
             [
              0.3333333333333333,
              "#9c179e"
             ],
             [
              0.4444444444444444,
              "#bd3786"
             ],
             [
              0.5555555555555556,
              "#d8576b"
             ],
             [
              0.6666666666666666,
              "#ed7953"
             ],
             [
              0.7777777777777778,
              "#fb9f3a"
             ],
             [
              0.8888888888888888,
              "#fdca26"
             ],
             [
              1.0,
              "#f0f921"
             ]
            ]
           }
          ],
          "contourcarpet": [
           {
            "type": "contourcarpet",
            "colorbar": {
             "outlinewidth": 0,
             "ticks": ""
            }
           }
          ],
          "contour": [
           {
            "type": "contour",
            "colorbar": {
             "outlinewidth": 0,
             "ticks": ""
            },
            "colorscale": [
             [
              0.0,
              "#0d0887"
             ],
             [
              0.1111111111111111,
              "#46039f"
             ],
             [
              0.2222222222222222,
              "#7201a8"
             ],
             [
              0.3333333333333333,
              "#9c179e"
             ],
             [
              0.4444444444444444,
              "#bd3786"
             ],
             [
              0.5555555555555556,
              "#d8576b"
             ],
             [
              0.6666666666666666,
              "#ed7953"
             ],
             [
              0.7777777777777778,
              "#fb9f3a"
             ],
             [
              0.8888888888888888,
              "#fdca26"
             ],
             [
              1.0,
              "#f0f921"
             ]
            ]
           }
          ],
          "surface": [
           {
            "type": "surface",
            "colorbar": {
             "outlinewidth": 0,
             "ticks": ""
            },
            "colorscale": [
             [
              0.0,
              "#0d0887"
             ],
             [
              0.1111111111111111,
              "#46039f"
             ],
             [
              0.2222222222222222,
              "#7201a8"
             ],
             [
              0.3333333333333333,
              "#9c179e"
             ],
             [
              0.4444444444444444,
              "#bd3786"
             ],
             [
              0.5555555555555556,
              "#d8576b"
             ],
             [
              0.6666666666666666,
              "#ed7953"
             ],
             [
              0.7777777777777778,
              "#fb9f3a"
             ],
             [
              0.8888888888888888,
              "#fdca26"
             ],
             [
              1.0,
              "#f0f921"
             ]
            ]
           }
          ],
          "mesh3d": [
           {
            "type": "mesh3d",
            "colorbar": {
             "outlinewidth": 0,
             "ticks": ""
            }
           }
          ],
          "scatter": [
           {
            "marker": {
             "line": {
              "color": "#283442"
             }
            },
            "type": "scatter"
           }
          ],
          "parcoords": [
           {
            "type": "parcoords",
            "line": {
             "colorbar": {
              "outlinewidth": 0,
              "ticks": ""
             }
            }
           }
          ],
          "scatterpolargl": [
           {
            "type": "scatterpolargl",
            "marker": {
             "colorbar": {
              "outlinewidth": 0,
              "ticks": ""
             }
            }
           }
          ],
          "bar": [
           {
            "error_x": {
             "color": "#f2f5fa"
            },
            "error_y": {
             "color": "#f2f5fa"
            },
            "marker": {
             "line": {
              "color": "rgb(17,17,17)",
              "width": 0.5
             },
             "pattern": {
              "fillmode": "overlay",
              "size": 10,
              "solidity": 0.2
             }
            },
            "type": "bar"
           }
          ],
          "scattergeo": [
           {
            "type": "scattergeo",
            "marker": {
             "colorbar": {
              "outlinewidth": 0,
              "ticks": ""
             }
            }
           }
          ],
          "scatterpolar": [
           {
            "type": "scatterpolar",
            "marker": {
             "colorbar": {
              "outlinewidth": 0,
              "ticks": ""
             }
            }
           }
          ],
          "histogram": [
           {
            "marker": {
             "pattern": {
              "fillmode": "overlay",
              "size": 10,
              "solidity": 0.2
             }
            },
            "type": "histogram"
           }
          ],
          "scattergl": [
           {
            "marker": {
             "line": {
              "color": "#283442"
             }
            },
            "type": "scattergl"
           }
          ],
          "scatter3d": [
           {
            "type": "scatter3d",
            "line": {
             "colorbar": {
              "outlinewidth": 0,
              "ticks": ""
             }
            },
            "marker": {
             "colorbar": {
              "outlinewidth": 0,
              "ticks": ""
             }
            }
           }
          ],
          "scattermap": [
           {
            "type": "scattermap",
            "marker": {
             "colorbar": {
              "outlinewidth": 0,
              "ticks": ""
             }
            }
           }
          ],
          "scattermapbox": [
           {
            "type": "scattermapbox",
            "marker": {
             "colorbar": {
              "outlinewidth": 0,
              "ticks": ""
             }
            }
           }
          ],
          "scatterternary": [
           {
            "type": "scatterternary",
            "marker": {
             "colorbar": {
              "outlinewidth": 0,
              "ticks": ""
             }
            }
           }
          ],
          "scattercarpet": [
           {
            "type": "scattercarpet",
            "marker": {
             "colorbar": {
              "outlinewidth": 0,
              "ticks": ""
             }
            }
           }
          ],
          "carpet": [
           {
            "aaxis": {
             "endlinecolor": "#A2B1C6",
             "gridcolor": "#506784",
             "linecolor": "#506784",
             "minorgridcolor": "#506784",
             "startlinecolor": "#A2B1C6"
            },
            "baxis": {
             "endlinecolor": "#A2B1C6",
             "gridcolor": "#506784",
             "linecolor": "#506784",
             "minorgridcolor": "#506784",
             "startlinecolor": "#A2B1C6"
            },
            "type": "carpet"
           }
          ],
          "table": [
           {
            "cells": {
             "fill": {
              "color": "#506784"
             },
             "line": {
              "color": "rgb(17,17,17)"
             }
            },
            "header": {
             "fill": {
              "color": "#2a3f5f"
             },
             "line": {
              "color": "rgb(17,17,17)"
             }
            },
            "type": "table"
           }
          ],
          "barpolar": [
           {
            "marker": {
             "line": {
              "color": "rgb(17,17,17)",
              "width": 0.5
             },
             "pattern": {
              "fillmode": "overlay",
              "size": 10,
              "solidity": 0.2
             }
            },
            "type": "barpolar"
           }
          ],
          "pie": [
           {
            "automargin": true,
            "type": "pie"
           }
          ]
         },
         "layout": {
          "autotypenumbers": "strict",
          "colorway": [
           "#636efa",
           "#EF553B",
           "#00cc96",
           "#ab63fa",
           "#FFA15A",
           "#19d3f3",
           "#FF6692",
           "#B6E880",
           "#FF97FF",
           "#FECB52"
          ],
          "font": {
           "color": "#f2f5fa"
          },
          "hovermode": "closest",
          "hoverlabel": {
           "align": "left"
          },
          "paper_bgcolor": "rgb(17,17,17)",
          "plot_bgcolor": "rgb(17,17,17)",
          "polar": {
           "bgcolor": "rgb(17,17,17)",
           "angularaxis": {
            "gridcolor": "#506784",
            "linecolor": "#506784",
            "ticks": ""
           },
           "radialaxis": {
            "gridcolor": "#506784",
            "linecolor": "#506784",
            "ticks": ""
           }
          },
          "ternary": {
           "bgcolor": "rgb(17,17,17)",
           "aaxis": {
            "gridcolor": "#506784",
            "linecolor": "#506784",
            "ticks": ""
           },
           "baxis": {
            "gridcolor": "#506784",
            "linecolor": "#506784",
            "ticks": ""
           },
           "caxis": {
            "gridcolor": "#506784",
            "linecolor": "#506784",
            "ticks": ""
           }
          },
          "coloraxis": {
           "colorbar": {
            "outlinewidth": 0,
            "ticks": ""
           }
          },
          "colorscale": {
           "sequential": [
            [
             0.0,
             "#0d0887"
            ],
            [
             0.1111111111111111,
             "#46039f"
            ],
            [
             0.2222222222222222,
             "#7201a8"
            ],
            [
             0.3333333333333333,
             "#9c179e"
            ],
            [
             0.4444444444444444,
             "#bd3786"
            ],
            [
             0.5555555555555556,
             "#d8576b"
            ],
            [
             0.6666666666666666,
             "#ed7953"
            ],
            [
             0.7777777777777778,
             "#fb9f3a"
            ],
            [
             0.8888888888888888,
             "#fdca26"
            ],
            [
             1.0,
             "#f0f921"
            ]
           ],
           "sequentialminus": [
            [
             0.0,
             "#0d0887"
            ],
            [
             0.1111111111111111,
             "#46039f"
            ],
            [
             0.2222222222222222,
             "#7201a8"
            ],
            [
             0.3333333333333333,
             "#9c179e"
            ],
            [
             0.4444444444444444,
             "#bd3786"
            ],
            [
             0.5555555555555556,
             "#d8576b"
            ],
            [
             0.6666666666666666,
             "#ed7953"
            ],
            [
             0.7777777777777778,
             "#fb9f3a"
            ],
            [
             0.8888888888888888,
             "#fdca26"
            ],
            [
             1.0,
             "#f0f921"
            ]
           ],
           "diverging": [
            [
             0,
             "#8e0152"
            ],
            [
             0.1,
             "#c51b7d"
            ],
            [
             0.2,
             "#de77ae"
            ],
            [
             0.3,
             "#f1b6da"
            ],
            [
             0.4,
             "#fde0ef"
            ],
            [
             0.5,
             "#f7f7f7"
            ],
            [
             0.6,
             "#e6f5d0"
            ],
            [
             0.7,
             "#b8e186"
            ],
            [
             0.8,
             "#7fbc41"
            ],
            [
             0.9,
             "#4d9221"
            ],
            [
             1,
             "#276419"
            ]
           ]
          },
          "xaxis": {
           "gridcolor": "#283442",
           "linecolor": "#506784",
           "ticks": "",
           "title": {
            "standoff": 15
           },
           "zerolinecolor": "#283442",
           "automargin": true,
           "zerolinewidth": 2
          },
          "yaxis": {
           "gridcolor": "#283442",
           "linecolor": "#506784",
           "ticks": "",
           "title": {
            "standoff": 15
           },
           "zerolinecolor": "#283442",
           "automargin": true,
           "zerolinewidth": 2
          },
          "scene": {
           "xaxis": {
            "backgroundcolor": "rgb(17,17,17)",
            "gridcolor": "#506784",
            "linecolor": "#506784",
            "showbackground": true,
            "ticks": "",
            "zerolinecolor": "#C8D4E3",
            "gridwidth": 2
           },
           "yaxis": {
            "backgroundcolor": "rgb(17,17,17)",
            "gridcolor": "#506784",
            "linecolor": "#506784",
            "showbackground": true,
            "ticks": "",
            "zerolinecolor": "#C8D4E3",
            "gridwidth": 2
           },
           "zaxis": {
            "backgroundcolor": "rgb(17,17,17)",
            "gridcolor": "#506784",
            "linecolor": "#506784",
            "showbackground": true,
            "ticks": "",
            "zerolinecolor": "#C8D4E3",
            "gridwidth": 2
           }
          },
          "shapedefaults": {
           "line": {
            "color": "#f2f5fa"
           }
          },
          "annotationdefaults": {
           "arrowcolor": "#f2f5fa",
           "arrowhead": 0,
           "arrowwidth": 1
          },
          "geo": {
           "bgcolor": "rgb(17,17,17)",
           "landcolor": "rgb(17,17,17)",
           "subunitcolor": "#506784",
           "showland": true,
           "showlakes": true,
           "lakecolor": "rgb(17,17,17)"
          },
          "title": {
           "x": 0.05
          },
          "updatemenudefaults": {
           "bgcolor": "#506784",
           "borderwidth": 0
          },
          "sliderdefaults": {
           "bgcolor": "#C8D4E3",
           "borderwidth": 1,
           "bordercolor": "rgb(17,17,17)",
           "tickwidth": 0
          },
          "mapbox": {
           "style": "dark"
          }
         }
        },
        "xaxis": {
         "anchor": "y",
         "domain": [
          0.0,
          1.0
         ],
         "title": {
          "text": "YearMonth"
         },
         "dtick": "M1",
         "tickformat": "%b\n%Y"
        },
        "yaxis": {
         "anchor": "x",
         "domain": [
          0.0,
          1.0
         ],
         "title": {
          "text": "Number of Cases"
         }
        },
        "legend": {
         "tracegroupgap": 0
        },
        "title": {
         "text": "Monthly Trend of Cases Over Time"
        }
       },
       "config": {
        "plotlyServerURL": "https://plot.ly"
       }
      }
     },
     "metadata": {},
     "output_type": "display_data"
    }
   ],
   "execution_count": 30
  }
 ],
 "metadata": {
  "kernelspec": {
   "display_name": "Python 3",
   "language": "python",
   "name": "python3"
  },
  "language_info": {
   "codemirror_mode": {
    "name": "ipython",
    "version": 3
   },
   "file_extension": ".py",
   "mimetype": "text/x-python",
   "name": "python",
   "nbconvert_exporter": "python",
   "pygments_lexer": "ipython3",
   "version": "3.13.3"
  }
 },
 "nbformat": 4,
 "nbformat_minor": 5
}
