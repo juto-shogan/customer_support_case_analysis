{
 "cells": [
  {
   "cell_type": "code",
   "execution_count": 1,
   "id": "7671098b",
   "metadata": {},
   "outputs": [],
   "source": [
    "# Importing necessary libraries\n",
    "import numpy as np\n",
    "import pandas as pd\n",
    "import matplotlib.pyplot as plt\n",
    "import seaborn as sns"
   ]
  },
  {
   "cell_type": "code",
   "execution_count": 2,
   "id": "1870369d",
   "metadata": {},
   "outputs": [
    {
     "name": "stdout",
     "output_type": "stream",
     "text": [
      "<class 'pandas.core.frame.DataFrame'>\n",
      "RangeIndex: 12636 entries, 0 to 12635\n",
      "Data columns (total 30 columns):\n",
      " #   Column                                          Non-Null Count  Dtype  \n",
      "---  ------                                          --------------  -----  \n",
      " 0   Opened Date                                     12635 non-null  object \n",
      " 1   Case Number                                     12630 non-null  float64\n",
      " 2   Parent Case Number                              12630 non-null  float64\n",
      " 3   Case Market                                     12630 non-null  object \n",
      " 4   Country                                         12630 non-null  object \n",
      " 5   Product: Brand                                  12630 non-null  object \n",
      " 6   L0 Product Category                             362 non-null    object \n",
      " 7   L1 Product Category                             362 non-null    object \n",
      " 8   L2 Product Category                             362 non-null    object \n",
      " 9   L3 Product Category                             362 non-null    object \n",
      " 10  L4 Product Category                             362 non-null    object \n",
      " 11  L5 Product Category                             362 non-null    object \n",
      " 12  L6 Product Category                             362 non-null    object \n",
      " 13  L7 Product Category                             362 non-null    object \n",
      " 14  Product: Consumer Product Descriptor (no size)  12630 non-null  object \n",
      " 15  Product: CEC_Product Name                       12630 non-null  object \n",
      " 16  Product UPC                                     362 non-null    float64\n",
      " 17  Reason L1 desc                                  12629 non-null  object \n",
      " 18  Reason L2 desc                                  12629 non-null  object \n",
      " 19  Reason L3 desc                                  12629 non-null  object \n",
      " 20  Reason L4 desc                                  12629 non-null  object \n",
      " 21  Reason L5 desc                                  12629 non-null  object \n",
      " 22  Production Code                                 100 non-null    object \n",
      " 23  Subject                                         12630 non-null  object \n",
      " 24  Description                                     12421 non-null  object \n",
      " 25  Status                                          12630 non-null  object \n",
      " 26  Store                                           0 non-null      float64\n",
      " 27  Store Location                                  4 non-null      object \n",
      " 28  Case Origin                                     12630 non-null  object \n",
      " 29  Case Owner                                      12630 non-null  object \n",
      "dtypes: float64(4), object(26)\n",
      "memory usage: 2.9+ MB\n"
     ]
    }
   ],
   "source": [
    "# Load the dataset\n",
    "# Replace the path with the actual path to your CSV file\n",
    "df = pd.read_csv(r'C:\\Users\\somto\\Desktop\\eda_ogtl_ass1\\data.csv')\n",
    "df.info()"
   ]
  },
  {
   "cell_type": "code",
   "execution_count": 16,
   "id": "019cc366",
   "metadata": {},
   "outputs": [
    {
     "name": "stdout",
     "output_type": "stream",
     "text": [
      "Shape of the data:  (12636, 30)\n"
     ]
    }
   ],
   "source": [
    "## checking the shape of the dataset\n",
    "print('Shape of the data: ',df.shape)"
   ]
  },
  {
   "cell_type": "code",
   "execution_count": 4,
   "id": "e6cc01b8",
   "metadata": {},
   "outputs": [
    {
     "data": {
      "application/vnd.microsoft.datawrangler.viewer.v0+json": {
       "columns": [
        {
         "name": "index",
         "rawType": "int64",
         "type": "integer"
        },
        {
         "name": "Opened Date",
         "rawType": "object",
         "type": "string"
        },
        {
         "name": "Case Number",
         "rawType": "float64",
         "type": "float"
        },
        {
         "name": "Parent Case Number",
         "rawType": "float64",
         "type": "float"
        },
        {
         "name": "Case Market",
         "rawType": "object",
         "type": "string"
        },
        {
         "name": "Country",
         "rawType": "object",
         "type": "string"
        },
        {
         "name": "Product: Brand",
         "rawType": "object",
         "type": "string"
        },
        {
         "name": "L0 Product Category",
         "rawType": "object",
         "type": "unknown"
        },
        {
         "name": "L1 Product Category",
         "rawType": "object",
         "type": "unknown"
        },
        {
         "name": "L2 Product Category",
         "rawType": "object",
         "type": "unknown"
        },
        {
         "name": "L3 Product Category",
         "rawType": "object",
         "type": "unknown"
        },
        {
         "name": "L4 Product Category",
         "rawType": "object",
         "type": "unknown"
        },
        {
         "name": "L5 Product Category",
         "rawType": "object",
         "type": "unknown"
        },
        {
         "name": "L6 Product Category",
         "rawType": "object",
         "type": "unknown"
        },
        {
         "name": "L7 Product Category",
         "rawType": "object",
         "type": "unknown"
        },
        {
         "name": "Product: Consumer Product Descriptor (no size)",
         "rawType": "object",
         "type": "string"
        },
        {
         "name": "Product: CEC_Product Name",
         "rawType": "object",
         "type": "string"
        },
        {
         "name": "Product UPC",
         "rawType": "float64",
         "type": "float"
        },
        {
         "name": "Reason L1 desc",
         "rawType": "object",
         "type": "string"
        },
        {
         "name": "Reason L2 desc",
         "rawType": "object",
         "type": "string"
        },
        {
         "name": "Reason L3 desc",
         "rawType": "object",
         "type": "string"
        },
        {
         "name": "Reason L4 desc",
         "rawType": "object",
         "type": "string"
        },
        {
         "name": "Reason L5 desc",
         "rawType": "object",
         "type": "string"
        },
        {
         "name": "Production Code",
         "rawType": "object",
         "type": "unknown"
        },
        {
         "name": "Subject",
         "rawType": "object",
         "type": "string"
        },
        {
         "name": "Description",
         "rawType": "object",
         "type": "string"
        },
        {
         "name": "Status",
         "rawType": "object",
         "type": "string"
        },
        {
         "name": "Store",
         "rawType": "float64",
         "type": "float"
        },
        {
         "name": "Store Location",
         "rawType": "object",
         "type": "unknown"
        },
        {
         "name": "Case Origin",
         "rawType": "object",
         "type": "string"
        },
        {
         "name": "Case Owner",
         "rawType": "object",
         "type": "string"
        }
       ],
       "conversionMethod": "pd.DataFrame",
       "ref": "a4504909-b0f6-4258-910b-8364cfa78e83",
       "rows": [
        [
         "0",
         "05/01/2024",
         "46099750.0",
         "0.0",
         "Nigeria",
         "Nigeria",
         "Close Up",
         "Beauty & Personal Care",
         "Personal Care",
         "Oral Care",
         "Toothpaste",
         "Freshness Toothpaste",
         "Freshness Toothpaste",
         "Freshness Toothpaste",
         "Freshness Toothpaste",
         "CLOSEUP",
         "CLOSEUP EVERFRESH REDHOT 50 X 130G.",
         "6151100130716.0",
         "Queries",
         "Product",
         "Product use",
         "Query on product performance",
         "Query on product effectiveness",
         null,
         "Query on Closeup Anti Bacterial Zinc Toothpaste",
         "I like Closeup Anti Bacterial Zinc Toothpaste and I would like to ask about the effect of Bacterial Zinc in Closeup.",
         "Closed",
         null,
         null,
         "Phone",
         "Chinedu Francis Onochie"
        ],
        [
         "1",
         "07/01/2024",
         "46112301.0",
         "0.0",
         "Nigeria",
         "Nigeria",
         "Unilever Corporate",
         null,
         null,
         null,
         null,
         null,
         null,
         null,
         null,
         "Unilever Corporate",
         "Unilever Corporate",
         null,
         "Others",
         "Other",
         "Hang Up",
         "Consumer Hang Up",
         "Consumer contact terminated / hoax / non deliverable mail",
         null,
         "SPAM",
         "SPAM",
         "Closed",
         null,
         null,
         "Email",
         "CEC Nigeria Queue"
        ],
        [
         "2",
         "05/01/2024",
         "46099419.0",
         "0.0",
         "Nigeria",
         "Nigeria",
         "Pepsodent",
         "Beauty & Personal Care",
         "Personal Care",
         "Oral Care",
         "Toothpaste",
         "Essential Toothpaste",
         "Essential Toothpaste",
         "Essential Toothpaste",
         "Essential Toothpaste",
         "PEPSODENT",
         "PEPSODENT CAVITY FIGHTER 50 X 130G",
         "6151100130754.0",
         "Praises",
         "Product",
         "Product use",
         "Likes product performance",
         "Likes product performance",
         null,
         "Appreciation of Pepsodent Cavity Fighter Toothpaste",
         "I like Pepsodent Cavity Fighter Toothpaste because it washes my teeth clean and prevents my teeth from decaying",
         "Closed",
         null,
         null,
         "Phone",
         "Chinedu Francis Onochie"
        ],
        [
         "3",
         "07/01/2024",
         "46112281.0",
         "0.0",
         "Nigeria",
         "Nigeria",
         "Unilever Corporate",
         null,
         null,
         null,
         null,
         null,
         null,
         null,
         null,
         "Unilever Corporate",
         "Unilever Corporate",
         null,
         "Others",
         "Other",
         "Hang Up",
         "Consumer Hang Up",
         "Consumer contact terminated / hoax / non deliverable mail",
         null,
         "SPAM",
         "SPAM",
         "Closed",
         null,
         null,
         "Email",
         "CEC Nigeria Queue"
        ],
        [
         "4",
         "05/01/2024",
         "46098960.0",
         "0.0",
         "Nigeria",
         "Nigeria",
         "Unilever Corporate",
         null,
         null,
         null,
         null,
         null,
         null,
         null,
         null,
         "Unilever Corporate",
         "Unilever Corporate",
         null,
         "Queries",
         "Business",
         "Marketing communications",
         "Query on other marketing Communications",
         "General Query / request",
         null,
         "[External] - URGENT- EMPLOYMENT VERIFICATION- TAYA ARI WAGADA IBRAHIM - UNILEVER NIGER- 16686314",
         "To: HR/Payroll Please find attached a copy of TAYA ?s consent which gives permission for First Advantage to conduct a verification of former employment. Please also see attached a copy of the details First Advantage is looking to obtain and/or verify. First Advantage would appreciate if you could complete the form and return it to: Email: emeaeaverifications@fadv.com Phone : +44 (0) 8448 243 444 Fax : +44 (0) 1206 505 724 If you could please provide your expected turn-around time to complete the document that would be much appreciated. Alternatively, I will call you within the next 48 business hours to conduct the verification over the phone. Please contact me should you have any questions or require any further information. Regards, Avinash Pradhan SR#:1-50807617917 First Advantage, Customer Care Privacy protection is important to First Advantage as we have to adhere to regulations, rulings and legislation designed to protect consumers/ data subjects? rights. First Advantage recognises that protecting the privacy of data subjects/ consumers and legal compliance are equally important to your organisation. We therefore request that when sending us personal data or information, please use secure means and appropriate encryption technologies. [THREAD ID:1-NCLXLST] -----Original Message----- From: EMEA EA Verifications Sent: 1/3/2024 09:43:14 AM To: consumercare.nigeria@unilever.com Subject: URGENT- EMPLOYMENT VERIFICATION- TAYA ARI WAGADA IBRAHIM - UNILEVER NIGER- 16686314 To: HR/Payroll Please find attached a copy of TAYA ?s consent which gives permission for First Advantage to conduct a verification of former employment. Please also see attached a copy of the details First Advantage is looking to obtain and/or verify. First Advantage would appreciate if you could complete the form and return it to: Email: emeaeaverifications@fadv.com Phone : +44 (0) 8448 243 444 Fax : +44 (0) 1206 505 724 If you could please provide your expected turn-around time to complete the document that would be much appreciated. Alternatively, I will call you within the next 48 business hours to conduct the verification over the phone. Please contact me should you have any questions or require any further information. Regards, Avinash Pradhan SR#:1-50807617917 First Advantage IMPORTANT NOTICE: This email and any attachments may contain information that is confidential and privileged. It is intended to be received only by persons entitled to receive the information. If you are not the intended recipient, please delete it from your system and notify the sender. You should not copy it or use it for any purpose nor disclose or distribute its contents to any other person.",
         "Closed as Duplicate",
         null,
         null,
         "Email",
         "Chinedu Francis Onochie"
        ]
       ],
       "shape": {
        "columns": 30,
        "rows": 5
       }
      },
      "text/html": [
       "<div>\n",
       "<style scoped>\n",
       "    .dataframe tbody tr th:only-of-type {\n",
       "        vertical-align: middle;\n",
       "    }\n",
       "\n",
       "    .dataframe tbody tr th {\n",
       "        vertical-align: top;\n",
       "    }\n",
       "\n",
       "    .dataframe thead th {\n",
       "        text-align: right;\n",
       "    }\n",
       "</style>\n",
       "<table border=\"1\" class=\"dataframe\">\n",
       "  <thead>\n",
       "    <tr style=\"text-align: right;\">\n",
       "      <th></th>\n",
       "      <th>Opened Date</th>\n",
       "      <th>Case Number</th>\n",
       "      <th>Parent Case Number</th>\n",
       "      <th>Case Market</th>\n",
       "      <th>Country</th>\n",
       "      <th>Product: Brand</th>\n",
       "      <th>L0 Product Category</th>\n",
       "      <th>L1 Product Category</th>\n",
       "      <th>L2 Product Category</th>\n",
       "      <th>L3 Product Category</th>\n",
       "      <th>...</th>\n",
       "      <th>Reason L4 desc</th>\n",
       "      <th>Reason L5 desc</th>\n",
       "      <th>Production Code</th>\n",
       "      <th>Subject</th>\n",
       "      <th>Description</th>\n",
       "      <th>Status</th>\n",
       "      <th>Store</th>\n",
       "      <th>Store Location</th>\n",
       "      <th>Case Origin</th>\n",
       "      <th>Case Owner</th>\n",
       "    </tr>\n",
       "  </thead>\n",
       "  <tbody>\n",
       "    <tr>\n",
       "      <th>0</th>\n",
       "      <td>05/01/2024</td>\n",
       "      <td>46099750.0</td>\n",
       "      <td>0.0</td>\n",
       "      <td>Nigeria</td>\n",
       "      <td>Nigeria</td>\n",
       "      <td>Close Up</td>\n",
       "      <td>Beauty &amp; Personal Care</td>\n",
       "      <td>Personal Care</td>\n",
       "      <td>Oral Care</td>\n",
       "      <td>Toothpaste</td>\n",
       "      <td>...</td>\n",
       "      <td>Query on product performance</td>\n",
       "      <td>Query on product effectiveness</td>\n",
       "      <td>NaN</td>\n",
       "      <td>Query on Closeup Anti Bacterial Zinc Toothpaste</td>\n",
       "      <td>I like Closeup Anti Bacterial Zinc Toothpaste ...</td>\n",
       "      <td>Closed</td>\n",
       "      <td>NaN</td>\n",
       "      <td>NaN</td>\n",
       "      <td>Phone</td>\n",
       "      <td>Chinedu Francis Onochie</td>\n",
       "    </tr>\n",
       "    <tr>\n",
       "      <th>1</th>\n",
       "      <td>07/01/2024</td>\n",
       "      <td>46112301.0</td>\n",
       "      <td>0.0</td>\n",
       "      <td>Nigeria</td>\n",
       "      <td>Nigeria</td>\n",
       "      <td>Unilever Corporate</td>\n",
       "      <td>NaN</td>\n",
       "      <td>NaN</td>\n",
       "      <td>NaN</td>\n",
       "      <td>NaN</td>\n",
       "      <td>...</td>\n",
       "      <td>Consumer Hang Up</td>\n",
       "      <td>Consumer contact terminated / hoax / non deliv...</td>\n",
       "      <td>NaN</td>\n",
       "      <td>SPAM</td>\n",
       "      <td>SPAM</td>\n",
       "      <td>Closed</td>\n",
       "      <td>NaN</td>\n",
       "      <td>NaN</td>\n",
       "      <td>Email</td>\n",
       "      <td>CEC Nigeria Queue</td>\n",
       "    </tr>\n",
       "    <tr>\n",
       "      <th>2</th>\n",
       "      <td>05/01/2024</td>\n",
       "      <td>46099419.0</td>\n",
       "      <td>0.0</td>\n",
       "      <td>Nigeria</td>\n",
       "      <td>Nigeria</td>\n",
       "      <td>Pepsodent</td>\n",
       "      <td>Beauty &amp; Personal Care</td>\n",
       "      <td>Personal Care</td>\n",
       "      <td>Oral Care</td>\n",
       "      <td>Toothpaste</td>\n",
       "      <td>...</td>\n",
       "      <td>Likes product performance</td>\n",
       "      <td>Likes product performance</td>\n",
       "      <td>NaN</td>\n",
       "      <td>Appreciation of Pepsodent Cavity Fighter Tooth...</td>\n",
       "      <td>I like Pepsodent Cavity Fighter Toothpaste bec...</td>\n",
       "      <td>Closed</td>\n",
       "      <td>NaN</td>\n",
       "      <td>NaN</td>\n",
       "      <td>Phone</td>\n",
       "      <td>Chinedu Francis Onochie</td>\n",
       "    </tr>\n",
       "    <tr>\n",
       "      <th>3</th>\n",
       "      <td>07/01/2024</td>\n",
       "      <td>46112281.0</td>\n",
       "      <td>0.0</td>\n",
       "      <td>Nigeria</td>\n",
       "      <td>Nigeria</td>\n",
       "      <td>Unilever Corporate</td>\n",
       "      <td>NaN</td>\n",
       "      <td>NaN</td>\n",
       "      <td>NaN</td>\n",
       "      <td>NaN</td>\n",
       "      <td>...</td>\n",
       "      <td>Consumer Hang Up</td>\n",
       "      <td>Consumer contact terminated / hoax / non deliv...</td>\n",
       "      <td>NaN</td>\n",
       "      <td>SPAM</td>\n",
       "      <td>SPAM</td>\n",
       "      <td>Closed</td>\n",
       "      <td>NaN</td>\n",
       "      <td>NaN</td>\n",
       "      <td>Email</td>\n",
       "      <td>CEC Nigeria Queue</td>\n",
       "    </tr>\n",
       "    <tr>\n",
       "      <th>4</th>\n",
       "      <td>05/01/2024</td>\n",
       "      <td>46098960.0</td>\n",
       "      <td>0.0</td>\n",
       "      <td>Nigeria</td>\n",
       "      <td>Nigeria</td>\n",
       "      <td>Unilever Corporate</td>\n",
       "      <td>NaN</td>\n",
       "      <td>NaN</td>\n",
       "      <td>NaN</td>\n",
       "      <td>NaN</td>\n",
       "      <td>...</td>\n",
       "      <td>Query on other marketing Communications</td>\n",
       "      <td>General Query / request</td>\n",
       "      <td>NaN</td>\n",
       "      <td>[External] - URGENT- EMPLOYMENT VERIFICATION- ...</td>\n",
       "      <td>To: HR/Payroll Please find attached a copy of ...</td>\n",
       "      <td>Closed as Duplicate</td>\n",
       "      <td>NaN</td>\n",
       "      <td>NaN</td>\n",
       "      <td>Email</td>\n",
       "      <td>Chinedu Francis Onochie</td>\n",
       "    </tr>\n",
       "  </tbody>\n",
       "</table>\n",
       "<p>5 rows × 30 columns</p>\n",
       "</div>"
      ],
      "text/plain": [
       "  Opened Date  Case Number  Parent Case Number Case Market  Country  \\\n",
       "0  05/01/2024   46099750.0                 0.0     Nigeria  Nigeria   \n",
       "1  07/01/2024   46112301.0                 0.0     Nigeria  Nigeria   \n",
       "2  05/01/2024   46099419.0                 0.0     Nigeria  Nigeria   \n",
       "3  07/01/2024   46112281.0                 0.0     Nigeria  Nigeria   \n",
       "4  05/01/2024   46098960.0                 0.0     Nigeria  Nigeria   \n",
       "\n",
       "       Product: Brand     L0 Product Category L1 Product Category  \\\n",
       "0            Close Up  Beauty & Personal Care       Personal Care   \n",
       "1  Unilever Corporate                     NaN                 NaN   \n",
       "2           Pepsodent  Beauty & Personal Care       Personal Care   \n",
       "3  Unilever Corporate                     NaN                 NaN   \n",
       "4  Unilever Corporate                     NaN                 NaN   \n",
       "\n",
       "  L2 Product Category L3 Product Category  ...  \\\n",
       "0           Oral Care          Toothpaste  ...   \n",
       "1                 NaN                 NaN  ...   \n",
       "2           Oral Care          Toothpaste  ...   \n",
       "3                 NaN                 NaN  ...   \n",
       "4                 NaN                 NaN  ...   \n",
       "\n",
       "                            Reason L4 desc  \\\n",
       "0             Query on product performance   \n",
       "1                         Consumer Hang Up   \n",
       "2                Likes product performance   \n",
       "3                         Consumer Hang Up   \n",
       "4  Query on other marketing Communications   \n",
       "\n",
       "                                      Reason L5 desc Production Code  \\\n",
       "0                     Query on product effectiveness             NaN   \n",
       "1  Consumer contact terminated / hoax / non deliv...             NaN   \n",
       "2                          Likes product performance             NaN   \n",
       "3  Consumer contact terminated / hoax / non deliv...             NaN   \n",
       "4                            General Query / request             NaN   \n",
       "\n",
       "                                             Subject  \\\n",
       "0    Query on Closeup Anti Bacterial Zinc Toothpaste   \n",
       "1                                               SPAM   \n",
       "2  Appreciation of Pepsodent Cavity Fighter Tooth...   \n",
       "3                                               SPAM   \n",
       "4  [External] - URGENT- EMPLOYMENT VERIFICATION- ...   \n",
       "\n",
       "                                         Description               Status  \\\n",
       "0  I like Closeup Anti Bacterial Zinc Toothpaste ...               Closed   \n",
       "1                                               SPAM               Closed   \n",
       "2  I like Pepsodent Cavity Fighter Toothpaste bec...               Closed   \n",
       "3                                               SPAM               Closed   \n",
       "4  To: HR/Payroll Please find attached a copy of ...  Closed as Duplicate   \n",
       "\n",
       "   Store Store Location Case Origin               Case Owner  \n",
       "0    NaN            NaN       Phone  Chinedu Francis Onochie  \n",
       "1    NaN            NaN       Email        CEC Nigeria Queue  \n",
       "2    NaN            NaN       Phone  Chinedu Francis Onochie  \n",
       "3    NaN            NaN       Email        CEC Nigeria Queue  \n",
       "4    NaN            NaN       Email  Chinedu Francis Onochie  \n",
       "\n",
       "[5 rows x 30 columns]"
      ]
     },
     "execution_count": 4,
     "metadata": {},
     "output_type": "execute_result"
    }
   ],
   "source": [
    "# A view of the dataset \n",
    "df.head()"
   ]
  },
  {
   "cell_type": "markdown",
   "id": "ca9098c7",
   "metadata": {},
   "source": [
    "## - Checking for missing values."
   ]
  },
  {
   "cell_type": "code",
   "execution_count": 5,
   "id": "183d2b64",
   "metadata": {},
   "outputs": [
    {
     "data": {
      "text/plain": [
       "Opened Date                                           1\n",
       "Case Number                                           6\n",
       "Parent Case Number                                    6\n",
       "Case Market                                           6\n",
       "Country                                               6\n",
       "Product: Brand                                        6\n",
       "L0 Product Category                               12274\n",
       "L1 Product Category                               12274\n",
       "L2 Product Category                               12274\n",
       "L3 Product Category                               12274\n",
       "L4 Product Category                               12274\n",
       "L5 Product Category                               12274\n",
       "L6 Product Category                               12274\n",
       "L7 Product Category                               12274\n",
       "Product: Consumer Product Descriptor (no size)        6\n",
       "Product: CEC_Product Name                             6\n",
       "Product UPC                                       12274\n",
       "Reason L1 desc                                        7\n",
       "Reason L2 desc                                        7\n",
       "Reason L3 desc                                        7\n",
       "Reason L4 desc                                        7\n",
       "Reason L5 desc                                        7\n",
       "Production Code                                   12536\n",
       "Subject                                               6\n",
       "Description                                         215\n",
       "Status                                                6\n",
       "Store                                             12636\n",
       "Store Location                                    12632\n",
       "Case Origin                                           6\n",
       "Case Owner                                            6\n",
       "dtype: int64"
      ]
     },
     "execution_count": 5,
     "metadata": {},
     "output_type": "execute_result"
    }
   ],
   "source": [
    "# list of columns in the dataset with missing values and the amount of missing values\n",
    "df.isna().sum()"
   ]
  },
  {
   "cell_type": "code",
   "execution_count": 6,
   "id": "22a0eda2",
   "metadata": {},
   "outputs": [
    {
     "name": "stdout",
     "output_type": "stream",
     "text": [
      "number of columns with missing values: 30\n"
     ]
    }
   ],
   "source": [
    "# Checking for the amount of columns with missing values\n",
    "missing  = df.isna().columns.value_counts().sum()\n",
    "print('number of columns with missing values:',missing)"
   ]
  },
  {
   "cell_type": "code",
   "execution_count": 7,
   "id": "99a7231d",
   "metadata": {},
   "outputs": [
    {
     "name": "stdout",
     "output_type": "stream",
     "text": [
      "1. Opened Date\n",
      "2. Case Number\n",
      "3. Parent Case Number\n",
      "4. Case Market\n",
      "5. Country\n",
      "6. Product: Brand\n",
      "7. L0 Product Category\n",
      "8. L1 Product Category\n",
      "9. L2 Product Category\n",
      "10. L3 Product Category\n",
      "11. L4 Product Category\n",
      "12. L5 Product Category\n",
      "13. L6 Product Category\n",
      "14. L7 Product Category\n",
      "15. Product: Consumer Product Descriptor (no size)\n",
      "16. Product: CEC_Product Name\n",
      "17. Product UPC\n",
      "18. Reason L1 desc\n",
      "19. Reason L2 desc\n",
      "20. Reason L3 desc\n",
      "21. Reason L4 desc\n",
      "22. Reason L5 desc\n",
      "23. Production Code\n",
      "24. Subject\n",
      "25. Description\n",
      "26. Status\n",
      "27. Store\n",
      "28. Store Location\n",
      "29. Case Origin\n",
      "30. Case Owner\n"
     ]
    }
   ],
   "source": [
    "# List of columns with missing values\n",
    "missing_columns = df.isna().columns.tolist()\n",
    "numbered_columns = [f\"{i+1}. {col}\" for i, col in enumerate(missing_columns)]\n",
    "for item in numbered_columns:\n",
    "    print(item)"
   ]
  },
  {
   "cell_type": "markdown",
   "id": "c8df9348",
   "metadata": {},
   "source": [
    "From this we notice a large amount of missing values,<br/> so we do a quick check on how the columns with the most missing values to see the relevance of the columns."
   ]
  },
  {
   "cell_type": "markdown",
   "id": "0ae883d7",
   "metadata": {},
   "source": [
    "# - Lets first check for columns with categorical data<br/>\n",
    "Categorical data is data that can be divided into groups or categories. <br/>\n",
    "This data is of the data type 'object' meaning none numerical"
   ]
  },
  {
   "cell_type": "code",
   "execution_count": 8,
   "id": "5163e62c",
   "metadata": {},
   "outputs": [
    {
     "name": "stdout",
     "output_type": "stream",
     "text": [
      "number of categorical data columns: 26\n"
     ]
    }
   ],
   "source": [
    "# Amount of categorical data columns\n",
    "num_categorical_data = df.select_dtypes(include=['object']).columns.value_counts().sum()\n",
    "print('number of categorical data columns:', num_categorical_data)"
   ]
  },
  {
   "cell_type": "code",
   "execution_count": 9,
   "id": "5bcd46cc",
   "metadata": {},
   "outputs": [
    {
     "name": "stdout",
     "output_type": "stream",
     "text": [
      "1. Opened Date\n",
      "2. Case Market\n",
      "3. Country\n",
      "4. Product: Brand\n",
      "5. L0 Product Category\n",
      "6. L1 Product Category\n",
      "7. L2 Product Category\n",
      "8. L3 Product Category\n",
      "9. L4 Product Category\n",
      "10. L5 Product Category\n",
      "11. L6 Product Category\n",
      "12. L7 Product Category\n",
      "13. Product: Consumer Product Descriptor (no size)\n",
      "14. Product: CEC_Product Name\n",
      "15. Reason L1 desc\n",
      "16. Reason L2 desc\n",
      "17. Reason L3 desc\n",
      "18. Reason L4 desc\n",
      "19. Reason L5 desc\n",
      "20. Production Code\n",
      "21. Subject\n",
      "22. Description\n",
      "23. Status\n",
      "24. Store Location\n",
      "25. Case Origin\n",
      "26. Case Owner\n"
     ]
    }
   ],
   "source": [
    "# The list of categorical columns\n",
    "categorical_columns = df.select_dtypes('object').columns\n",
    "num_columns = [f\"{i+1}. {col}\" for i, col in enumerate(categorical_columns)]\n",
    "for item in num_columns:\n",
    "    print(item)"
   ]
  },
  {
   "cell_type": "markdown",
   "id": "402ac8e3",
   "metadata": {},
   "source": [
    "#### Now that we have our categorical columns, lets checking for unique items in each column with more than 7 missing Items to see if they are relevant to our analysis."
   ]
  },
  {
   "cell_type": "code",
   "execution_count": 10,
   "id": "8dc1f97d",
   "metadata": {},
   "outputs": [
    {
     "name": "stdout",
     "output_type": "stream",
     "text": [
      "Opened Date                                        275\n",
      "Case Market                                          1\n",
      "Country                                              1\n",
      "Product: Brand                                      12\n",
      "L0 Product Category                                  3\n",
      "L1 Product Category                                  4\n",
      "L2 Product Category                                  8\n",
      "L3 Product Category                                 10\n",
      "L4 Product Category                                 11\n",
      "L5 Product Category                                 12\n",
      "L6 Product Category                                 13\n",
      "L7 Product Category                                 14\n",
      "Product: Consumer Product Descriptor (no size)      38\n",
      "Product: CEC_Product Name                           53\n",
      "Reason L1 desc                                       5\n",
      "Reason L2 desc                                       5\n",
      "Reason L3 desc                                      18\n",
      "Reason L4 desc                                      51\n",
      "Reason L5 desc                                      59\n",
      "Production Code                                     35\n",
      "Subject                                           1021\n",
      "Description                                       1904\n",
      "Status                                               8\n",
      "Store Location                                       4\n",
      "Case Origin                                          7\n",
      "Case Owner                                          11\n",
      "dtype: int64\n"
     ]
    }
   ],
   "source": [
    "# number of unique items in each categorical column\n",
    "cat_data = df[categorical_columns].nunique()\n",
    "print(cat_data)"
   ]
  },
  {
   "cell_type": "markdown",
   "id": "2393f49e",
   "metadata": {},
   "source": [
    "Why more than 7, because the have a very wide gap between the amount of missing values  between the categorical columns and this raises concern as we notic from just 5 and 7 missing values there are columns with 1000+ missing values."
   ]
  },
  {
   "cell_type": "code",
   "execution_count": 11,
   "id": "0885d20e",
   "metadata": {},
   "outputs": [
    {
     "name": "stdout",
     "output_type": "stream",
     "text": [
      "L0 Product Category\n",
      "number of missing values:  12274\n",
      "number of unique values:  3\n",
      "['Beauty & Personal Care' nan 'Food & Refreshment' 'Home Care']\n",
      "------------------\n",
      "\n",
      "L1 Product Category\n",
      "number of missing values:  12274\n",
      "number of unique values:  4\n",
      "['Personal Care' nan 'Nutrition' 'Beauty & Wellbeing' 'Home Care']\n",
      "------------------\n",
      "\n",
      "L2 Product Category\n",
      "number of missing values:  12274\n",
      "number of unique values:  8\n",
      "['Oral Care' nan 'Scratch Cooking Aids' 'Skin Care' 'Fabric Cleaning'\n",
      " 'Skin Cleansing' 'Home & Hygiene' 'Other Nutrition'\n",
      " 'Deodorants & Fragrances']\n",
      "------------------\n",
      "\n",
      "L3 Product Category\n",
      "number of missing values:  12274\n",
      "number of unique values:  10\n",
      "['Toothpaste' nan 'Bouillons & Seasonings' 'Hand & Body Care'\n",
      " 'Fabric Cleaning' 'Skin Cleansing' 'Household Cleaning'\n",
      " 'Other Misc Nutrition' 'Toothbrush' 'Dishwash' 'Deodorants']\n",
      "------------------\n",
      "\n",
      "L4 Product Category\n",
      "number of missing values:  12274\n",
      "number of unique values:  11\n",
      "['Freshness Toothpaste' nan 'Essential Toothpaste' 'Bouillons'\n",
      " 'Hand & Body Excl Sun' 'Fabric Solution Wash' 'Body Cleansing'\n",
      " 'Surface Cleaners' 'Other Misc Nutrition' 'Toothbrush Manual'\n",
      " 'Hand Dishwash' 'Deo Roll-Ons']\n",
      "------------------\n",
      "\n",
      "L5 Product Category\n",
      "number of missing values:  12274\n",
      "number of unique values:  12\n",
      "['Freshness Toothpaste' nan 'Essential Toothpaste' 'Bouillon Powder'\n",
      " 'Body Care' 'Main Wash' 'Skin Cleansing Bar' 'Bouillon Cubes'\n",
      " 'Small Surface' 'Other Misc Nutrition' 'Toothbrush Manual' 'HDW Wash'\n",
      " 'Deo Roll-Ons AP']\n",
      "------------------\n",
      "\n",
      "L6 Product Category\n",
      "number of missing values:  12274\n",
      "number of unique values:  13\n",
      "['Freshness Toothpaste' nan 'Essential Toothpaste' 'Bouillon Powder'\n",
      " 'Body Lotions' 'Body Petroleum Jelly' 'Non Matic' 'Skin Cleansing Bar'\n",
      " 'Bouillon Cubes' 'M/P Non-Abrasives' 'Other Misc Nutrition'\n",
      " 'Toothbrush Manual' 'HDW Std Liquid' 'Deo Roll-Ons AP']\n",
      "------------------\n",
      "\n",
      "L7 Product Category\n",
      "number of missing values:  12274\n",
      "number of unique values:  14\n",
      "['Freshness Toothpaste' nan 'Essential Toothpaste' 'Bouillon Powder'\n",
      " 'Body Lotions' 'Body Petroleum Jelly' 'Non Matic Std Powder'\n",
      " 'Skin Cleansing Bar' 'Bouillon Cubes' 'M/P N/Abr Std Liquid'\n",
      " 'Other Misc Nutrition' 'Toothbrush Manual' 'HDW Std Liquid'\n",
      " 'Non Matic Conc Powder' 'Deo Roll-Ons AP']\n",
      "------------------\n",
      "\n",
      "Production Code\n",
      "number of missing values:  12536\n",
      "number of unique values:  35\n",
      "[nan '3175158QB' 'MFD 240522. 12.14 3Ns EXP 240526 BnlN 232131' '[]'\n",
      " '23352' '23395' 'BN-234456' 'Unknown' '32512AV17' 'Lot 04161SA4A'\n",
      " '23-47-42' '[3093CBX]' '233961' 'B074' 'MFD190324 03.51 3NG'\n",
      " '6001087010788' 'Unilever Corporate' '241751340FNG' '68852975'\n",
      " '[13.20 3H6]' '[63938743]' '[02/09HDPE 2023/12/04, 2027/12/04]' 'Nil'\n",
      " 'May4545 fg5 56568 12:00' 'MAY2425 GB4 29230 13:46'\n",
      " 'June2425 GBA29230 13:46' 'New subscriber' '[PR 3024A B0062]' 'May2425'\n",
      " 'Invitation to Collaborate on Marketing and Advertising Services'\n",
      " '[L868]' '[, ]' '[, , ]' 'IDM000272573' '290124EXPO726 A2' '7852']\n",
      "------------------\n",
      "\n",
      "Description\n",
      "number of missing values:  215\n",
      "number of unique values:  1904\n",
      "['I like Closeup Anti Bacterial Zinc Toothpaste and I would like to ask about the effect of Bacterial Zinc in Closeup.'\n",
      " 'SPAM'\n",
      " 'I like Pepsodent Cavity Fighter Toothpaste because it washes my teeth clean and prevents my teeth from decaying'\n",
      " ...\n",
      " 'Dear Esteemed Members Greetings and trust your weekend was great It is 6 days to go and we wish to remind you of the invitation to MAN member-companies to participate in a training course on Health and Safety Practices in Manufacturing Industries scheduled to hold as follows; Date: September 26th - 27th, 2024 Venue: MAN House, 77 Obafemi Awolowo Way, Ikeja, Lagos. Time: 9.00am ? 4.00pm Daily Course Duration: 2 Days Fee per participants: ?150,000.00 Please find attached the letter of invitation and the training synopsis. Please kindly confirm the number of participants on or before Tuesday September 24th, 2024 to aid us plan effectively in logistics arrangements. For further enquiries on the training, please do not hesitate to reach out to us. Thank you. EGBEDI DANIEL EGONE Project Development Associate MANUFACTURERS POWER DEVELOPMENT COMPANY LIMITED First Floor MAN House 77, Awolowo Way, Ikeja Lagos, Nigeria. Mobile Phone +234 814 664 7180 +234 907 499 6559 +234 807 487 4677 IMPORTANT NOTICE: This email and any attachments may contain information that is confidential and privileged. It is intended to be received only by persons entitled to receive the information. If you are not the intended recipient, please delete it from your system and notify the sender. You should not copy it or use it for any purpose nor disclose or distribute its contents to any other person.'\n",
      " 'Dear. Sir/Madam, I greet you especially from Nigeria and hope that you are good? Please there is a supply demand in your line of products and I would like to send you a request for quotation. Kindly send us your brochure or Product catalog with considerable price details. We are seeking to represent foreign companies like manufacturers, suppliers or distributors who wish to have a presence and supply their products in Nigeria through the NIGER DELTA DEVELOPMENT COMMISSION (NDDC) as there is a massive demand for your products supplied by the NDDC. We hope this could be a start for a long-term business relationship with your company. Waiting to hear from you. Thank You Regards Mr. Frank Adele E:Mail.frankadele379@gmail.com<mailto:E%3AMail.frankadele379@gmail.com> Muramound Consultants Ltd 90 Market Road, Aba, Abia State. Nigeria. IMPORTANT NOTICE: This email and any attachments may contain information that is confidential and privileged. It is intended to be received only by persons entitled to receive the information. If you are not the intended recipient, please delete it from your system and notify the sender. You should not copy it or use it for any purpose nor disclose or distribute its contents to any other person.'\n",
      " 'Dear Ma/Sir Please find the attached mail for a proposal for partnership. Thank you IMPORTANT NOTICE: This email and any attachments may contain information that is confidential and privileged. It is intended to be received only by persons entitled to receive the information. If you are not the intended recipient, please delete it from your system and notify the sender. You should not copy it or use it for any purpose nor disclose or distribute its contents to any other person.']\n",
      "------------------\n",
      "\n",
      "Store Location\n",
      "number of missing values:  12632\n",
      "number of unique values:  4\n",
      "[nan 'Ibadan' 'Unknown' 'Kaduna' 'body talk- offline']\n",
      "------------------\n",
      "\n"
     ]
    }
   ],
   "source": [
    "# Unique items in each categorical column\n",
    "for col in categorical_columns:\n",
    "    if df[col].isna().sum() > 7:\n",
    "        print(col)\n",
    "        print('number of missing values: ', df[col].isna().sum())\n",
    "        print('number of unique values: ', df[col].nunique())\n",
    "        print(df[col].unique())\n",
    "        print('------------------')\n",
    "        print()\n",
    "        "
   ]
  },
  {
   "cell_type": "markdown",
   "id": "7bf7dc79",
   "metadata": {},
   "source": [
    "# - Now lets check for columns with numerical data<br/>\n",
    "Numerical data is data that can be measured and written down with numbers. <br/>"
   ]
  },
  {
   "cell_type": "code",
   "execution_count": 12,
   "id": "7d3604ae",
   "metadata": {},
   "outputs": [
    {
     "name": "stdout",
     "output_type": "stream",
     "text": [
      "number of numerical columns: 4\n"
     ]
    }
   ],
   "source": [
    "# Amount of columns with numerical data\n",
    "numerical_columns = df.select_dtypes(include=[np.number]).columns.value_counts().sum()\n",
    "print('number of numerical columns:', numerical_columns)"
   ]
  },
  {
   "cell_type": "code",
   "execution_count": 13,
   "id": "17fbf1a0",
   "metadata": {},
   "outputs": [
    {
     "name": "stdout",
     "output_type": "stream",
     "text": [
      "1. Case Number\n",
      "2. Parent Case Number\n",
      "3. Product UPC\n",
      "4. Store\n"
     ]
    }
   ],
   "source": [
    "# The list of numerical columns\n",
    "numerical_column = df.select_dtypes(include=[np.number]).columns.tolist()\n",
    "\n",
    "# Format and print the numerical column names\n",
    "num_columns = [f\"{i+1}. {col}\" for i, col in enumerate(numerical_column)]\n",
    "for item in num_columns:\n",
    "    print(item)"
   ]
  },
  {
   "cell_type": "markdown",
   "id": "b1e81e8b",
   "metadata": {},
   "source": [
    "###  Now we have our unique values, and from this we can check relevance of the columns to our analysis."
   ]
  },
  {
   "cell_type": "code",
   "execution_count": 14,
   "id": "24b334e2",
   "metadata": {},
   "outputs": [
    {
     "data": {
      "text/plain": [
       "Case Number               6\n",
       "Parent Case Number        6\n",
       "Product UPC           12274\n",
       "Store                 12636\n",
       "dtype: int64"
      ]
     },
     "execution_count": 14,
     "metadata": {},
     "output_type": "execute_result"
    }
   ],
   "source": [
    "# Amount of missing values in each column\n",
    "df[numerical_column].isna().sum()"
   ]
  },
  {
   "cell_type": "code",
   "execution_count": 15,
   "id": "851e4da4",
   "metadata": {},
   "outputs": [
    {
     "data": {
      "application/vnd.microsoft.datawrangler.viewer.v0+json": {
       "columns": [
        {
         "name": "index",
         "rawType": "int64",
         "type": "integer"
        },
        {
         "name": "Case Number",
         "rawType": "float64",
         "type": "float"
        },
        {
         "name": "Parent Case Number",
         "rawType": "float64",
         "type": "float"
        },
        {
         "name": "Product UPC",
         "rawType": "float64",
         "type": "float"
        },
        {
         "name": "Store",
         "rawType": "float64",
         "type": "float"
        }
       ],
       "conversionMethod": "pd.DataFrame",
       "ref": "20c5ccc5-761b-4a03-9505-50bd33b47fb7",
       "rows": [
        [
         "0",
         "46099750.0",
         "0.0",
         "6151100130716.0",
         null
        ],
        [
         "1",
         "46112301.0",
         "0.0",
         null,
         null
        ],
        [
         "2",
         "46099419.0",
         "0.0",
         "6151100130754.0",
         null
        ],
        [
         "3",
         "46112281.0",
         "0.0",
         null,
         null
        ],
        [
         "4",
         "46098960.0",
         "0.0",
         null,
         null
        ],
        [
         "5",
         "46112278.0",
         "0.0",
         null,
         null
        ],
        [
         "6",
         "46099211.0",
         "0.0",
         null,
         null
        ],
        [
         "7",
         "46112185.0",
         "0.0",
         null,
         null
        ],
        [
         "8",
         "46096182.0",
         "0.0",
         null,
         null
        ],
        [
         "9",
         "46112153.0",
         "0.0",
         null,
         null
        ],
        [
         "10",
         "46090267.0",
         "0.0",
         "6151100138699.0",
         null
        ],
        [
         "11",
         "46112109.0",
         "0.0",
         null,
         null
        ],
        [
         "12",
         "46090056.0",
         "0.0",
         "6151100138736.0",
         null
        ],
        [
         "13",
         "46111696.0",
         "0.0",
         null,
         null
        ],
        [
         "14",
         "46089384.0",
         "0.0",
         "6151100130716.0",
         null
        ],
        [
         "15",
         "46112004.0",
         "0.0",
         null,
         null
        ],
        [
         "16",
         "46084872.0",
         "0.0",
         null,
         null
        ],
        [
         "17",
         "46111647.0",
         "0.0",
         null,
         null
        ],
        [
         "18",
         "46083618.0",
         "0.0",
         "6151100130716.0",
         null
        ],
        [
         "19",
         "46110851.0",
         "0.0",
         null,
         null
        ],
        [
         "20",
         "46083410.0",
         "0.0",
         "6151100138736.0",
         null
        ],
        [
         "21",
         "46110571.0",
         "0.0",
         null,
         null
        ],
        [
         "22",
         "46083276.0",
         "0.0",
         "6151100130716.0",
         null
        ],
        [
         "23",
         "46108453.0",
         "0.0",
         null,
         null
        ],
        [
         "24",
         "46083041.0",
         "0.0",
         null,
         null
        ],
        [
         "25",
         "46108441.0",
         "0.0",
         null,
         null
        ],
        [
         "26",
         "46082402.0",
         "0.0",
         "6151100138736.0",
         null
        ],
        [
         "27",
         "46108440.0",
         "0.0",
         null,
         null
        ],
        [
         "28",
         "46082247.0",
         "0.0",
         "6151100138699.0",
         null
        ],
        [
         "29",
         "46108437.0",
         "0.0",
         null,
         null
        ],
        [
         "30",
         "46081885.0",
         "0.0",
         null,
         null
        ],
        [
         "31",
         "46108435.0",
         "0.0",
         null,
         null
        ],
        [
         "32",
         "46081484.0",
         "0.0",
         null,
         null
        ],
        [
         "33",
         "46108425.0",
         "0.0",
         null,
         null
        ],
        [
         "34",
         "46080022.0",
         "0.0",
         null,
         null
        ],
        [
         "35",
         "46108384.0",
         "0.0",
         null,
         null
        ],
        [
         "36",
         "46079817.0",
         "0.0",
         null,
         null
        ],
        [
         "37",
         "46108382.0",
         "0.0",
         null,
         null
        ],
        [
         "38",
         "46079438.0",
         "0.0",
         null,
         null
        ],
        [
         "39",
         "46108294.0",
         "0.0",
         null,
         null
        ],
        [
         "40",
         "46074117.0",
         "0.0",
         "6151100138736.0",
         null
        ],
        [
         "41",
         "46108265.0",
         "0.0",
         null,
         null
        ],
        [
         "42",
         "46073964.0",
         "0.0",
         "6151100130716.0",
         null
        ],
        [
         "43",
         "46108243.0",
         "0.0",
         null,
         null
        ],
        [
         "44",
         "46073639.0",
         "0.0",
         null,
         null
        ],
        [
         "45",
         "46108235.0",
         "0.0",
         null,
         null
        ],
        [
         "46",
         "46073135.0",
         "0.0",
         "6151100130716.0",
         null
        ],
        [
         "47",
         "46108200.0",
         "0.0",
         null,
         null
        ],
        [
         "48",
         "46072550.0",
         "0.0",
         null,
         null
        ],
        [
         "49",
         "46108102.0",
         "0.0",
         null,
         null
        ]
       ],
       "shape": {
        "columns": 4,
        "rows": 12636
       }
      },
      "text/html": [
       "<div>\n",
       "<style scoped>\n",
       "    .dataframe tbody tr th:only-of-type {\n",
       "        vertical-align: middle;\n",
       "    }\n",
       "\n",
       "    .dataframe tbody tr th {\n",
       "        vertical-align: top;\n",
       "    }\n",
       "\n",
       "    .dataframe thead th {\n",
       "        text-align: right;\n",
       "    }\n",
       "</style>\n",
       "<table border=\"1\" class=\"dataframe\">\n",
       "  <thead>\n",
       "    <tr style=\"text-align: right;\">\n",
       "      <th></th>\n",
       "      <th>Case Number</th>\n",
       "      <th>Parent Case Number</th>\n",
       "      <th>Product UPC</th>\n",
       "      <th>Store</th>\n",
       "    </tr>\n",
       "  </thead>\n",
       "  <tbody>\n",
       "    <tr>\n",
       "      <th>0</th>\n",
       "      <td>46099750.0</td>\n",
       "      <td>0.0</td>\n",
       "      <td>6.151100e+12</td>\n",
       "      <td>NaN</td>\n",
       "    </tr>\n",
       "    <tr>\n",
       "      <th>1</th>\n",
       "      <td>46112301.0</td>\n",
       "      <td>0.0</td>\n",
       "      <td>NaN</td>\n",
       "      <td>NaN</td>\n",
       "    </tr>\n",
       "    <tr>\n",
       "      <th>2</th>\n",
       "      <td>46099419.0</td>\n",
       "      <td>0.0</td>\n",
       "      <td>6.151100e+12</td>\n",
       "      <td>NaN</td>\n",
       "    </tr>\n",
       "    <tr>\n",
       "      <th>3</th>\n",
       "      <td>46112281.0</td>\n",
       "      <td>0.0</td>\n",
       "      <td>NaN</td>\n",
       "      <td>NaN</td>\n",
       "    </tr>\n",
       "    <tr>\n",
       "      <th>4</th>\n",
       "      <td>46098960.0</td>\n",
       "      <td>0.0</td>\n",
       "      <td>NaN</td>\n",
       "      <td>NaN</td>\n",
       "    </tr>\n",
       "    <tr>\n",
       "      <th>...</th>\n",
       "      <td>...</td>\n",
       "      <td>...</td>\n",
       "      <td>...</td>\n",
       "      <td>...</td>\n",
       "    </tr>\n",
       "    <tr>\n",
       "      <th>12631</th>\n",
       "      <td>NaN</td>\n",
       "      <td>NaN</td>\n",
       "      <td>NaN</td>\n",
       "      <td>NaN</td>\n",
       "    </tr>\n",
       "    <tr>\n",
       "      <th>12632</th>\n",
       "      <td>NaN</td>\n",
       "      <td>NaN</td>\n",
       "      <td>NaN</td>\n",
       "      <td>NaN</td>\n",
       "    </tr>\n",
       "    <tr>\n",
       "      <th>12633</th>\n",
       "      <td>NaN</td>\n",
       "      <td>NaN</td>\n",
       "      <td>NaN</td>\n",
       "      <td>NaN</td>\n",
       "    </tr>\n",
       "    <tr>\n",
       "      <th>12634</th>\n",
       "      <td>NaN</td>\n",
       "      <td>NaN</td>\n",
       "      <td>NaN</td>\n",
       "      <td>NaN</td>\n",
       "    </tr>\n",
       "    <tr>\n",
       "      <th>12635</th>\n",
       "      <td>NaN</td>\n",
       "      <td>NaN</td>\n",
       "      <td>NaN</td>\n",
       "      <td>NaN</td>\n",
       "    </tr>\n",
       "  </tbody>\n",
       "</table>\n",
       "<p>12636 rows × 4 columns</p>\n",
       "</div>"
      ],
      "text/plain": [
       "       Case Number  Parent Case Number   Product UPC  Store\n",
       "0       46099750.0                 0.0  6.151100e+12    NaN\n",
       "1       46112301.0                 0.0           NaN    NaN\n",
       "2       46099419.0                 0.0  6.151100e+12    NaN\n",
       "3       46112281.0                 0.0           NaN    NaN\n",
       "4       46098960.0                 0.0           NaN    NaN\n",
       "...            ...                 ...           ...    ...\n",
       "12631          NaN                 NaN           NaN    NaN\n",
       "12632          NaN                 NaN           NaN    NaN\n",
       "12633          NaN                 NaN           NaN    NaN\n",
       "12634          NaN                 NaN           NaN    NaN\n",
       "12635          NaN                 NaN           NaN    NaN\n",
       "\n",
       "[12636 rows x 4 columns]"
      ]
     },
     "execution_count": 15,
     "metadata": {},
     "output_type": "execute_result"
    }
   ],
   "source": [
    "# A view of the numerical columns\n",
    "# Displaying the first few rows of the numerical columns\n",
    "numerical_columns = df.select_dtypes(include=[np.number]).columns\n",
    "df[numerical_columns]"
   ]
  },
  {
   "cell_type": "markdown",
   "id": "b8b6a223",
   "metadata": {},
   "source": [
    "## Here we notice a wide difference in missing values to the ratio of the missing values in the categorical columns<br/>\n",
    "So we now evaluate ways to handle the missing values in the columns<br/>\n",
    "#### - Now we have our unique values, and from this we can check the relevance of the columns to our analysis.<br/>\n",
    "#### - We will also consider the impact of these missing values on our overall analysis and results.<br/>\n",
    "#### - Next, we will implement strategies to impute or remove these missing values.<br/>\n",
    "#### - We will explore different imputation techniques such as mean, median, and mode.<br/>\n",
    "#### - Finally, we will assess the effectiveness of these strategies on our dataset."
   ]
  },
  {
   "cell_type": "code",
   "execution_count": null,
   "id": "a9ade05d",
   "metadata": {},
   "outputs": [],
   "source": []
  }
 ],
 "metadata": {
  "kernelspec": {
   "display_name": "Python 3",
   "language": "python",
   "name": "python3"
  },
  "language_info": {
   "codemirror_mode": {
    "name": "ipython",
    "version": 3
   },
   "file_extension": ".py",
   "mimetype": "text/x-python",
   "name": "python",
   "nbconvert_exporter": "python",
   "pygments_lexer": "ipython3",
   "version": "3.13.3"
  }
 },
 "nbformat": 4,
 "nbformat_minor": 5
}
