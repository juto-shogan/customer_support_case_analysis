{
 "cells": [
  {
   "cell_type": "code",
   "execution_count": null,
   "id": "7671098b",
   "metadata": {},
   "outputs": [],
   "source": [
    "# Importing necessary libraries\n",
    "import numpy as np\n",
    "import pandas as pd\n",
    "import matplotlib.pyplot as plt\n",
    "import seaborn as sns"
   ]
  },
  {
   "cell_type": "code",
   "execution_count": null,
   "id": "1870369d",
   "metadata": {},
   "outputs": [],
   "source": [
    "# Load the dataset\n",
    "# Replace the path with the actual path to your CSV file\n",
    "df = pd.read_csv(r'C:\\Users\\OGTL_ADMIN\\Desktop\\eda_ogtl_ass1\\data.csv')\n",
    "df.info()"
   ]
  },
  {
   "cell_type": "code",
   "execution_count": null,
   "id": "019cc366",
   "metadata": {},
   "outputs": [],
   "source": [
    "## checking the shape of the dataset\n",
    "df.shape"
   ]
  },
  {
   "cell_type": "code",
   "execution_count": null,
   "id": "e6cc01b8",
   "metadata": {},
   "outputs": [],
   "source": [
    "# A view of the dataset \n",
    "df.head()"
   ]
  },
  {
   "cell_type": "markdown",
   "id": "ca9098c7",
   "metadata": {},
   "source": [
    "## - Checking for missing values."
   ]
  },
  {
   "cell_type": "code",
   "execution_count": null,
   "id": "183d2b64",
   "metadata": {},
   "outputs": [],
   "source": [
    "# list of columns in the dataset with missing values and the amount of missing values\n",
    "df.isna().sum()"
   ]
  },
  {
   "cell_type": "code",
   "execution_count": null,
   "id": "22a0eda2",
   "metadata": {},
   "outputs": [],
   "source": [
    "# Checking for the amount of columns with missing values\n",
    "missing  = df.isna().columns.value_counts().sum()\n",
    "print('number of columns with missing values:',missing)"
   ]
  },
  {
   "cell_type": "code",
   "execution_count": null,
   "id": "99a7231d",
   "metadata": {},
   "outputs": [],
   "source": [
    "# List of columns with missing values\n",
    "missing_columns = df.isna().columns.tolist()\n",
    "numbered_columns = [f\"{i+1}. {col}\" for i, col in enumerate(missing_columns)]\n",
    "for item in numbered_columns:\n",
    "    print(item)"
   ]
  },
  {
   "cell_type": "markdown",
   "id": "c8df9348",
   "metadata": {},
   "source": [
    "From this we notice a large amount of missing values,<br/> so we do a quick check on how the columns with the most missing values to see the relevance of the columns."
   ]
  },
  {
   "cell_type": "markdown",
   "id": "0ae883d7",
   "metadata": {},
   "source": [
    "# - Lets first check for columns with categorical data<br/>\n",
    "Categorical data is data that can be divided into groups or categories. <br/>\n",
    "This data is of the data type 'object' meaning none numerical"
   ]
  },
  {
   "cell_type": "code",
   "execution_count": null,
   "id": "5163e62c",
   "metadata": {},
   "outputs": [],
   "source": [
    "# Amount of categorical data columns\n",
    "num_categorical_data = df.select_dtypes(include=['object']).columns.value_counts().sum()\n",
    "print('number of categorical data columns:', num_categorical_data)"
   ]
  },
  {
   "cell_type": "code",
   "execution_count": null,
   "id": "5bcd46cc",
   "metadata": {},
   "outputs": [],
   "source": [
    "# The list of categorical columns\n",
    "categorical_columns = df.select_dtypes('object').columns\n",
    "num_columns = [f\"{i+1}. {col}\" for i, col in enumerate(categorical_columns)]\n",
    "for item in num_columns:\n",
    "    print(item)"
   ]
  },
  {
   "cell_type": "markdown",
   "id": "402ac8e3",
   "metadata": {},
   "source": [
    "#### Now that we have our categorical columns, lets checking for unique items in each column with more than 7 missing Items to see if they are relevant to our analysis."
   ]
  },
  {
   "cell_type": "code",
   "execution_count": null,
   "id": "8dc1f97d",
   "metadata": {},
   "outputs": [],
   "source": [
    "# number of unique items in each categorical column\n",
    "cat_data = df[categorical_columns].nunique()\n",
    "print(cat_data)"
   ]
  },
  {
   "cell_type": "markdown",
   "id": "2393f49e",
   "metadata": {},
   "source": [
    "Why more than 7, because the have a very wide gap between the amount of missing values  between the categorical columns and this raises concern as we notic from just 5 and 7 missing values there are columns with 1000+ missing values."
   ]
  },
  {
   "cell_type": "code",
   "execution_count": null,
   "id": "0885d20e",
   "metadata": {},
   "outputs": [],
   "source": [
    "# Unique items in each categorical column\n",
    "for col in categorical_columns:\n",
    "    if df[col].isna().sum() > 7:\n",
    "        print(col)\n",
    "        print('number of missing values: ', df[col].isna().sum())\n",
    "        print('number of unique values: ', df[col].nunique())\n",
    "        print(df[col].unique())\n",
    "        print('------------------')\n",
    "        print()\n",
    "        "
   ]
  },
  {
   "cell_type": "markdown",
   "id": "7bf7dc79",
   "metadata": {},
   "source": [
    "# - Now lets check for columns with numerical data<br/>\n",
    "Numerical data is data that can be measured and written down with numbers. <br/>"
   ]
  },
  {
   "cell_type": "code",
   "execution_count": null,
   "id": "7d3604ae",
   "metadata": {},
   "outputs": [
    {
     "name": "stdout",
     "output_type": "stream",
     "text": [
      "number of numerical columns: 4\n"
     ]
    }
   ],
   "source": [
    "# Amount of columns with numerical data\n",
    "numerical_columns = df.select_dtypes(include=[np.number]).columns.value_counts().sum()\n",
    "print('number of numerical columns:', numerical_columns)"
   ]
  },
  {
   "cell_type": "code",
   "execution_count": null,
   "id": "17fbf1a0",
   "metadata": {},
   "outputs": [
    {
     "name": "stdout",
     "output_type": "stream",
     "text": [
      "1. Case Number\n",
      "2. Parent Case Number\n",
      "3. Product UPC\n",
      "4. Store\n"
     ]
    }
   ],
   "source": [
    "# The list of numerical columns\n",
    "numerical_column = df.select_dtypes(include=[np.number]).columns.tolist()\n",
    "\n",
    "# Format and print the numerical column names\n",
    "num_columns = [f\"{i+1}. {col}\" for i, col in enumerate(numerical_column)]\n",
    "for item in num_columns:\n",
    "    print(item)"
   ]
  },
  {
   "cell_type": "markdown",
   "id": "b1e81e8b",
   "metadata": {},
   "source": [
    "###  Now we have our unique values, and from this we can check relevance of the columns to our analysis."
   ]
  },
  {
   "cell_type": "code",
   "execution_count": null,
   "id": "24b334e2",
   "metadata": {},
   "outputs": [
    {
     "data": {
      "text/plain": [
       "Case Number               6\n",
       "Parent Case Number        6\n",
       "Product UPC           12274\n",
       "Store                 12636\n",
       "dtype: int64"
      ]
     },
     "execution_count": 121,
     "metadata": {},
     "output_type": "execute_result"
    }
   ],
   "source": [
    "# Amount of missing values in each column\n",
    "df[numerical_column].isna().sum()"
   ]
  },
  {
   "cell_type": "code",
   "execution_count": null,
   "id": "851e4da4",
   "metadata": {},
   "outputs": [
    {
     "data": {
      "application/vnd.microsoft.datawrangler.viewer.v0+json": {
       "columns": [
        {
         "name": "index",
         "rawType": "int64",
         "type": "integer"
        },
        {
         "name": "Case Number",
         "rawType": "float64",
         "type": "float"
        },
        {
         "name": "Parent Case Number",
         "rawType": "float64",
         "type": "float"
        },
        {
         "name": "Product UPC",
         "rawType": "float64",
         "type": "float"
        },
        {
         "name": "Store",
         "rawType": "float64",
         "type": "float"
        }
       ],
       "conversionMethod": "pd.DataFrame",
       "ref": "62916eea-540f-4190-8872-3cb1d355160c",
       "rows": [
        [
         "0",
         "46099750.0",
         "0.0",
         "6151100130716.0",
         null
        ],
        [
         "1",
         "46112301.0",
         "0.0",
         null,
         null
        ],
        [
         "2",
         "46099419.0",
         "0.0",
         "6151100130754.0",
         null
        ],
        [
         "3",
         "46112281.0",
         "0.0",
         null,
         null
        ],
        [
         "4",
         "46098960.0",
         "0.0",
         null,
         null
        ],
        [
         "5",
         "46112278.0",
         "0.0",
         null,
         null
        ],
        [
         "6",
         "46099211.0",
         "0.0",
         null,
         null
        ],
        [
         "7",
         "46112185.0",
         "0.0",
         null,
         null
        ],
        [
         "8",
         "46096182.0",
         "0.0",
         null,
         null
        ],
        [
         "9",
         "46112153.0",
         "0.0",
         null,
         null
        ],
        [
         "10",
         "46090267.0",
         "0.0",
         "6151100138699.0",
         null
        ],
        [
         "11",
         "46112109.0",
         "0.0",
         null,
         null
        ],
        [
         "12",
         "46090056.0",
         "0.0",
         "6151100138736.0",
         null
        ],
        [
         "13",
         "46111696.0",
         "0.0",
         null,
         null
        ],
        [
         "14",
         "46089384.0",
         "0.0",
         "6151100130716.0",
         null
        ],
        [
         "15",
         "46112004.0",
         "0.0",
         null,
         null
        ],
        [
         "16",
         "46084872.0",
         "0.0",
         null,
         null
        ],
        [
         "17",
         "46111647.0",
         "0.0",
         null,
         null
        ],
        [
         "18",
         "46083618.0",
         "0.0",
         "6151100130716.0",
         null
        ],
        [
         "19",
         "46110851.0",
         "0.0",
         null,
         null
        ],
        [
         "20",
         "46083410.0",
         "0.0",
         "6151100138736.0",
         null
        ],
        [
         "21",
         "46110571.0",
         "0.0",
         null,
         null
        ],
        [
         "22",
         "46083276.0",
         "0.0",
         "6151100130716.0",
         null
        ],
        [
         "23",
         "46108453.0",
         "0.0",
         null,
         null
        ],
        [
         "24",
         "46083041.0",
         "0.0",
         null,
         null
        ],
        [
         "25",
         "46108441.0",
         "0.0",
         null,
         null
        ],
        [
         "26",
         "46082402.0",
         "0.0",
         "6151100138736.0",
         null
        ],
        [
         "27",
         "46108440.0",
         "0.0",
         null,
         null
        ],
        [
         "28",
         "46082247.0",
         "0.0",
         "6151100138699.0",
         null
        ],
        [
         "29",
         "46108437.0",
         "0.0",
         null,
         null
        ],
        [
         "30",
         "46081885.0",
         "0.0",
         null,
         null
        ],
        [
         "31",
         "46108435.0",
         "0.0",
         null,
         null
        ],
        [
         "32",
         "46081484.0",
         "0.0",
         null,
         null
        ],
        [
         "33",
         "46108425.0",
         "0.0",
         null,
         null
        ],
        [
         "34",
         "46080022.0",
         "0.0",
         null,
         null
        ],
        [
         "35",
         "46108384.0",
         "0.0",
         null,
         null
        ],
        [
         "36",
         "46079817.0",
         "0.0",
         null,
         null
        ],
        [
         "37",
         "46108382.0",
         "0.0",
         null,
         null
        ],
        [
         "38",
         "46079438.0",
         "0.0",
         null,
         null
        ],
        [
         "39",
         "46108294.0",
         "0.0",
         null,
         null
        ],
        [
         "40",
         "46074117.0",
         "0.0",
         "6151100138736.0",
         null
        ],
        [
         "41",
         "46108265.0",
         "0.0",
         null,
         null
        ],
        [
         "42",
         "46073964.0",
         "0.0",
         "6151100130716.0",
         null
        ],
        [
         "43",
         "46108243.0",
         "0.0",
         null,
         null
        ],
        [
         "44",
         "46073639.0",
         "0.0",
         null,
         null
        ],
        [
         "45",
         "46108235.0",
         "0.0",
         null,
         null
        ],
        [
         "46",
         "46073135.0",
         "0.0",
         "6151100130716.0",
         null
        ],
        [
         "47",
         "46108200.0",
         "0.0",
         null,
         null
        ],
        [
         "48",
         "46072550.0",
         "0.0",
         null,
         null
        ],
        [
         "49",
         "46108102.0",
         "0.0",
         null,
         null
        ]
       ],
       "shape": {
        "columns": 4,
        "rows": 12636
       }
      },
      "text/html": [
       "<div>\n",
       "<style scoped>\n",
       "    .dataframe tbody tr th:only-of-type {\n",
       "        vertical-align: middle;\n",
       "    }\n",
       "\n",
       "    .dataframe tbody tr th {\n",
       "        vertical-align: top;\n",
       "    }\n",
       "\n",
       "    .dataframe thead th {\n",
       "        text-align: right;\n",
       "    }\n",
       "</style>\n",
       "<table border=\"1\" class=\"dataframe\">\n",
       "  <thead>\n",
       "    <tr style=\"text-align: right;\">\n",
       "      <th></th>\n",
       "      <th>Case Number</th>\n",
       "      <th>Parent Case Number</th>\n",
       "      <th>Product UPC</th>\n",
       "      <th>Store</th>\n",
       "    </tr>\n",
       "  </thead>\n",
       "  <tbody>\n",
       "    <tr>\n",
       "      <th>0</th>\n",
       "      <td>46099750.0</td>\n",
       "      <td>0.0</td>\n",
       "      <td>6.151100e+12</td>\n",
       "      <td>NaN</td>\n",
       "    </tr>\n",
       "    <tr>\n",
       "      <th>1</th>\n",
       "      <td>46112301.0</td>\n",
       "      <td>0.0</td>\n",
       "      <td>NaN</td>\n",
       "      <td>NaN</td>\n",
       "    </tr>\n",
       "    <tr>\n",
       "      <th>2</th>\n",
       "      <td>46099419.0</td>\n",
       "      <td>0.0</td>\n",
       "      <td>6.151100e+12</td>\n",
       "      <td>NaN</td>\n",
       "    </tr>\n",
       "    <tr>\n",
       "      <th>3</th>\n",
       "      <td>46112281.0</td>\n",
       "      <td>0.0</td>\n",
       "      <td>NaN</td>\n",
       "      <td>NaN</td>\n",
       "    </tr>\n",
       "    <tr>\n",
       "      <th>4</th>\n",
       "      <td>46098960.0</td>\n",
       "      <td>0.0</td>\n",
       "      <td>NaN</td>\n",
       "      <td>NaN</td>\n",
       "    </tr>\n",
       "    <tr>\n",
       "      <th>...</th>\n",
       "      <td>...</td>\n",
       "      <td>...</td>\n",
       "      <td>...</td>\n",
       "      <td>...</td>\n",
       "    </tr>\n",
       "    <tr>\n",
       "      <th>12631</th>\n",
       "      <td>NaN</td>\n",
       "      <td>NaN</td>\n",
       "      <td>NaN</td>\n",
       "      <td>NaN</td>\n",
       "    </tr>\n",
       "    <tr>\n",
       "      <th>12632</th>\n",
       "      <td>NaN</td>\n",
       "      <td>NaN</td>\n",
       "      <td>NaN</td>\n",
       "      <td>NaN</td>\n",
       "    </tr>\n",
       "    <tr>\n",
       "      <th>12633</th>\n",
       "      <td>NaN</td>\n",
       "      <td>NaN</td>\n",
       "      <td>NaN</td>\n",
       "      <td>NaN</td>\n",
       "    </tr>\n",
       "    <tr>\n",
       "      <th>12634</th>\n",
       "      <td>NaN</td>\n",
       "      <td>NaN</td>\n",
       "      <td>NaN</td>\n",
       "      <td>NaN</td>\n",
       "    </tr>\n",
       "    <tr>\n",
       "      <th>12635</th>\n",
       "      <td>NaN</td>\n",
       "      <td>NaN</td>\n",
       "      <td>NaN</td>\n",
       "      <td>NaN</td>\n",
       "    </tr>\n",
       "  </tbody>\n",
       "</table>\n",
       "<p>12636 rows × 4 columns</p>\n",
       "</div>"
      ],
      "text/plain": [
       "       Case Number  Parent Case Number   Product UPC  Store\n",
       "0       46099750.0                 0.0  6.151100e+12    NaN\n",
       "1       46112301.0                 0.0           NaN    NaN\n",
       "2       46099419.0                 0.0  6.151100e+12    NaN\n",
       "3       46112281.0                 0.0           NaN    NaN\n",
       "4       46098960.0                 0.0           NaN    NaN\n",
       "...            ...                 ...           ...    ...\n",
       "12631          NaN                 NaN           NaN    NaN\n",
       "12632          NaN                 NaN           NaN    NaN\n",
       "12633          NaN                 NaN           NaN    NaN\n",
       "12634          NaN                 NaN           NaN    NaN\n",
       "12635          NaN                 NaN           NaN    NaN\n",
       "\n",
       "[12636 rows x 4 columns]"
      ]
     },
     "execution_count": 123,
     "metadata": {},
     "output_type": "execute_result"
    }
   ],
   "source": [
    "# A view of the numerical columns\n",
    "# Displaying the first few rows of the numerical columns\n",
    "numerical_columns = df.select_dtypes(include=[np.number]).columns\n",
    "df[numerical_columns]"
   ]
  },
  {
   "cell_type": "markdown",
   "id": "b8b6a223",
   "metadata": {},
   "source": [
    "## Here we notice a wide difference in missing values to the ratio of the missing values in the categorical columns<br/>\n",
    "So we now evaluate ways to handle the missing values in the columns<br/>\n",
    "#### - Now we have our unique values, and from this we can check the relevance of the columns to our analysis.<br/>\n",
    "#### - We will also consider the impact of these missing values on our overall analysis and results.<br/>\n",
    "#### - Next, we will implement strategies to impute or remove these missing values.<br/>\n",
    "#### - We will explore different imputation techniques such as mean, median, and mode.<br/>\n",
    "#### - Finally, we will assess the effectiveness of these strategies on our dataset."
   ]
  },
  {
   "cell_type": "code",
   "execution_count": null,
   "id": "a9ade05d",
   "metadata": {},
   "outputs": [],
   "source": []
  }
 ],
 "metadata": {
  "kernelspec": {
   "display_name": "Python 3",
   "language": "python",
   "name": "python3"
  },
  "language_info": {
   "codemirror_mode": {
    "name": "ipython",
    "version": 3
   },
   "file_extension": ".py",
   "mimetype": "text/x-python",
   "name": "python",
   "nbconvert_exporter": "python",
   "pygments_lexer": "ipython3",
   "version": "3.13.3"
  }
 },
 "nbformat": 4,
 "nbformat_minor": 5
}
